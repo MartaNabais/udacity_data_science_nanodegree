{
 "cells": [
  {
   "cell_type": "code",
   "execution_count": 1,
   "metadata": {},
   "outputs": [],
   "source": [
    "# to handle datasets\n",
    "import pandas as pd\n",
    "# to make plots\n",
    "import plotly.express as px\n",
    "from dash import Dash, dcc, html, Input, Output\n",
    "# importing helper functions\n",
    "import helper_functions as hlp\n",
    "# Modelling\n",
    "from sklearn.cluster import KMeans\n",
    "from sklearn.preprocessing import StandardScaler\n",
    "from sklearn.linear_model import LogisticRegression\n",
    "from sklearn.model_selection import train_test_split\n",
    "from sklearn.metrics import accuracy_score, classification_report"
   ]
  },
  {
   "cell_type": "code",
   "execution_count": 2,
   "metadata": {},
   "outputs": [],
   "source": [
    "# First read dataset\n",
    "url = \"https://statistics.gov.scot/downloads/cube-table?uri=http%3A%2F%2Fstatistics.gov.scot%2Fdata%2Frecorded-crime\"\n",
    "crimes_df = pd.read_csv(url)"
   ]
  },
  {
   "cell_type": "code",
   "execution_count": 3,
   "metadata": {},
   "outputs": [],
   "source": [
    "# Creating cleaner data frame with crimes with only ratios (not counts) for counties.\n",
    "# Crime types and date columns have been transformed to ordered categorical type\n",
    "# Each row contains a unique crime ratio for each county, date and crime type\n",
    "parsed_data = hlp.parse_df(crimes_df) # This function returns a list with a df and another list\n",
    "# Pivoting table here so we can have crime types as columns for plotting\n",
    "crimes_ratios_df = parsed_data[0]\n",
    "pivoted_crimes_ratios_df = pd.pivot_table(crimes_ratios_df, values=\"Value\", index=[\"Date\",\"LAD\"], columns=\"Crime\").reset_index(\"LAD\")"
   ]
  },
  {
   "cell_type": "code",
   "execution_count": 122,
   "metadata": {},
   "outputs": [
    {
     "data": {
      "application/vnd.plotly.v1+json": {
       "config": {
        "plotlyServerURL": "https://plot.ly"
       },
       "data": [
        {
         "hovertemplate": "LAD=Aberdeen City<br>Date=%{x}<br>All Crimes=%{y}<extra></extra>",
         "legendgroup": "Aberdeen City",
         "line": {
          "color": "#636efa",
          "dash": "solid"
         },
         "marker": {
          "symbol": "circle"
         },
         "mode": "lines",
         "name": "Aberdeen City",
         "orientation": "v",
         "showlegend": true,
         "type": "scatter",
         "x": [
          "1996/1997",
          "1997/1998",
          "1998/1999",
          "1999/2000",
          "2000/2001",
          "2001/2002",
          "2002/2003",
          "2003/2004",
          "2004/2005",
          "2005/2006",
          "2006/2007",
          "2007/2008",
          "2008/2009",
          "2009/2010",
          "2010/2011",
          "2011/2012",
          "2012/2013",
          "2013/2014",
          "2014/2015",
          "2015/2016",
          "2016/2017",
          "2017/2018",
          "2018/2019",
          "2019/2020",
          "2020/2021",
          "2021/2022",
          "2022/2023"
         ],
         "xaxis": "x",
         "y": [
          1410,
          1460,
          1575,
          1664,
          1544,
          1512,
          1409,
          1327,
          1385,
          1392,
          1313,
          1224,
          1192,
          1055,
          1061,
          1011,
          885,
          833,
          761,
          765,
          749,
          680,
          627,
          626,
          623,
          694,
          651
         ],
         "yaxis": "y"
        },
        {
         "hovertemplate": "LAD=Aberdeenshire<br>Date=%{x}<br>All Crimes=%{y}<extra></extra>",
         "legendgroup": "Aberdeenshire",
         "line": {
          "color": "#EF553B",
          "dash": "solid"
         },
         "marker": {
          "symbol": "circle"
         },
         "mode": "lines",
         "name": "Aberdeenshire",
         "orientation": "v",
         "showlegend": true,
         "type": "scatter",
         "x": [
          "1996/1997",
          "1997/1998",
          "1998/1999",
          "1999/2000",
          "2000/2001",
          "2001/2002",
          "2002/2003",
          "2003/2004",
          "2004/2005",
          "2005/2006",
          "2006/2007",
          "2007/2008",
          "2008/2009",
          "2009/2010",
          "2010/2011",
          "2011/2012",
          "2012/2013",
          "2013/2014",
          "2014/2015",
          "2015/2016",
          "2016/2017",
          "2017/2018",
          "2018/2019",
          "2019/2020",
          "2020/2021",
          "2021/2022",
          "2022/2023"
         ],
         "xaxis": "x",
         "y": [
          589,
          536,
          527,
          554,
          563,
          510,
          453,
          482,
          562,
          575,
          533,
          426,
          440,
          404,
          408,
          379,
          360,
          343,
          292,
          316,
          315,
          313,
          312,
          326,
          292,
          310,
          306
         ],
         "yaxis": "y"
        },
        {
         "hovertemplate": "LAD=Angus<br>Date=%{x}<br>All Crimes=%{y}<extra></extra>",
         "legendgroup": "Angus",
         "line": {
          "color": "#00cc96",
          "dash": "solid"
         },
         "marker": {
          "symbol": "circle"
         },
         "mode": "lines",
         "name": "Angus",
         "orientation": "v",
         "showlegend": true,
         "type": "scatter",
         "x": [
          "1996/1997",
          "1997/1998",
          "1998/1999",
          "1999/2000",
          "2000/2001",
          "2001/2002",
          "2002/2003",
          "2003/2004",
          "2004/2005",
          "2005/2006",
          "2006/2007",
          "2007/2008",
          "2008/2009",
          "2009/2010",
          "2010/2011",
          "2011/2012",
          "2012/2013",
          "2013/2014",
          "2014/2015",
          "2015/2016",
          "2016/2017",
          "2017/2018",
          "2018/2019",
          "2019/2020",
          "2020/2021",
          "2021/2022",
          "2022/2023"
         ],
         "xaxis": "x",
         "y": [
          688,
          698,
          673,
          687,
          604,
          687,
          675,
          648,
          615,
          630,
          663,
          606,
          640,
          527,
          507,
          430,
          424,
          447,
          441,
          438,
          402,
          408,
          371,
          380,
          380,
          408,
          399
         ],
         "yaxis": "y"
        },
        {
         "hovertemplate": "LAD=Argyll and Bute<br>Date=%{x}<br>All Crimes=%{y}<extra></extra>",
         "legendgroup": "Argyll and Bute",
         "line": {
          "color": "#ab63fa",
          "dash": "solid"
         },
         "marker": {
          "symbol": "circle"
         },
         "mode": "lines",
         "name": "Argyll and Bute",
         "orientation": "v",
         "showlegend": true,
         "type": "scatter",
         "x": [
          "1996/1997",
          "1997/1998",
          "1998/1999",
          "1999/2000",
          "2000/2001",
          "2001/2002",
          "2002/2003",
          "2003/2004",
          "2004/2005",
          "2005/2006",
          "2006/2007",
          "2007/2008",
          "2008/2009",
          "2009/2010",
          "2010/2011",
          "2011/2012",
          "2012/2013",
          "2013/2014",
          "2014/2015",
          "2015/2016",
          "2016/2017",
          "2017/2018",
          "2018/2019",
          "2019/2020",
          "2020/2021",
          "2021/2022",
          "2022/2023"
         ],
         "xaxis": "x",
         "y": [
          611,
          516,
          538,
          525,
          524,
          524,
          544,
          582,
          711,
          656,
          711,
          674,
          631,
          575,
          555,
          531,
          451,
          412,
          392,
          378,
          325,
          337,
          351,
          372,
          374,
          348,
          370
         ],
         "yaxis": "y"
        },
        {
         "hovertemplate": "LAD=City of Edinburgh<br>Date=%{x}<br>All Crimes=%{y}<extra></extra>",
         "legendgroup": "City of Edinburgh",
         "line": {
          "color": "#FFA15A",
          "dash": "solid"
         },
         "marker": {
          "symbol": "circle"
         },
         "mode": "lines",
         "name": "City of Edinburgh",
         "orientation": "v",
         "showlegend": true,
         "type": "scatter",
         "x": [
          "1996/1997",
          "1997/1998",
          "1998/1999",
          "1999/2000",
          "2000/2001",
          "2001/2002",
          "2002/2003",
          "2003/2004",
          "2004/2005",
          "2005/2006",
          "2006/2007",
          "2007/2008",
          "2008/2009",
          "2009/2010",
          "2010/2011",
          "2011/2012",
          "2012/2013",
          "2013/2014",
          "2014/2015",
          "2015/2016",
          "2016/2017",
          "2017/2018",
          "2018/2019",
          "2019/2020",
          "2020/2021",
          "2021/2022",
          "2022/2023"
         ],
         "xaxis": "x",
         "y": [
          1234,
          1184,
          1210,
          1399,
          1340,
          1327,
          1264,
          1328,
          1334,
          1268,
          1252,
          1158,
          1125,
          1008,
          958,
          897,
          770,
          870,
          855,
          772,
          712,
          775,
          734,
          701,
          619,
          608,
          611
         ],
         "yaxis": "y"
        },
        {
         "hovertemplate": "LAD=Clackmannanshire<br>Date=%{x}<br>All Crimes=%{y}<extra></extra>",
         "legendgroup": "Clackmannanshire",
         "line": {
          "color": "#19d3f3",
          "dash": "solid"
         },
         "marker": {
          "symbol": "circle"
         },
         "mode": "lines",
         "name": "Clackmannanshire",
         "orientation": "v",
         "showlegend": true,
         "type": "scatter",
         "x": [
          "1996/1997",
          "1997/1998",
          "1998/1999",
          "1999/2000",
          "2000/2001",
          "2001/2002",
          "2002/2003",
          "2003/2004",
          "2004/2005",
          "2005/2006",
          "2006/2007",
          "2007/2008",
          "2008/2009",
          "2009/2010",
          "2010/2011",
          "2011/2012",
          "2012/2013",
          "2013/2014",
          "2014/2015",
          "2015/2016",
          "2016/2017",
          "2017/2018",
          "2018/2019",
          "2019/2020",
          "2020/2021",
          "2021/2022",
          "2022/2023"
         ],
         "xaxis": "x",
         "y": [
          587,
          595,
          633,
          633,
          722,
          762,
          793,
          839,
          853,
          926,
          1180,
          1068,
          915,
          762,
          789,
          728,
          624,
          574,
          601,
          582,
          527,
          569,
          554,
          591,
          597,
          539,
          523
         ],
         "yaxis": "y"
        },
        {
         "hovertemplate": "LAD=Dumfries and Galloway<br>Date=%{x}<br>All Crimes=%{y}<extra></extra>",
         "legendgroup": "Dumfries and Galloway",
         "line": {
          "color": "#FF6692",
          "dash": "solid"
         },
         "marker": {
          "symbol": "circle"
         },
         "mode": "lines",
         "name": "Dumfries and Galloway",
         "orientation": "v",
         "showlegend": true,
         "type": "scatter",
         "x": [
          "1996/1997",
          "1997/1998",
          "1998/1999",
          "1999/2000",
          "2000/2001",
          "2001/2002",
          "2002/2003",
          "2003/2004",
          "2004/2005",
          "2005/2006",
          "2006/2007",
          "2007/2008",
          "2008/2009",
          "2009/2010",
          "2010/2011",
          "2011/2012",
          "2012/2013",
          "2013/2014",
          "2014/2015",
          "2015/2016",
          "2016/2017",
          "2017/2018",
          "2018/2019",
          "2019/2020",
          "2020/2021",
          "2021/2022",
          "2022/2023"
         ],
         "xaxis": "x",
         "y": [
          624,
          701,
          670,
          648,
          599,
          628,
          791,
          845,
          859,
          773,
          775,
          668,
          609,
          562,
          554,
          496,
          437,
          458,
          430,
          508,
          511,
          529,
          580,
          562,
          546,
          578,
          519
         ],
         "yaxis": "y"
        },
        {
         "hovertemplate": "LAD=Dundee City<br>Date=%{x}<br>All Crimes=%{y}<extra></extra>",
         "legendgroup": "Dundee City",
         "line": {
          "color": "#B6E880",
          "dash": "solid"
         },
         "marker": {
          "symbol": "circle"
         },
         "mode": "lines",
         "name": "Dundee City",
         "orientation": "v",
         "showlegend": true,
         "type": "scatter",
         "x": [
          "1996/1997",
          "1997/1998",
          "1998/1999",
          "1999/2000",
          "2000/2001",
          "2001/2002",
          "2002/2003",
          "2003/2004",
          "2004/2005",
          "2005/2006",
          "2006/2007",
          "2007/2008",
          "2008/2009",
          "2009/2010",
          "2010/2011",
          "2011/2012",
          "2012/2013",
          "2013/2014",
          "2014/2015",
          "2015/2016",
          "2016/2017",
          "2017/2018",
          "2018/2019",
          "2019/2020",
          "2020/2021",
          "2021/2022",
          "2022/2023"
         ],
         "xaxis": "x",
         "y": [
          1588,
          1359,
          1311,
          1302,
          1234,
          1315,
          1284,
          1291,
          1338,
          1236,
          1274,
          1174,
          1084,
          980,
          1012,
          818,
          754,
          775,
          728,
          756,
          746,
          742,
          746,
          809,
          856,
          813,
          849
         ],
         "yaxis": "y"
        },
        {
         "hovertemplate": "LAD=East Ayrshire<br>Date=%{x}<br>All Crimes=%{y}<extra></extra>",
         "legendgroup": "East Ayrshire",
         "line": {
          "color": "#FF97FF",
          "dash": "solid"
         },
         "marker": {
          "symbol": "circle"
         },
         "mode": "lines",
         "name": "East Ayrshire",
         "orientation": "v",
         "showlegend": true,
         "type": "scatter",
         "x": [
          "1996/1997",
          "1997/1998",
          "1998/1999",
          "1999/2000",
          "2000/2001",
          "2001/2002",
          "2002/2003",
          "2003/2004",
          "2004/2005",
          "2005/2006",
          "2006/2007",
          "2007/2008",
          "2008/2009",
          "2009/2010",
          "2010/2011",
          "2011/2012",
          "2012/2013",
          "2013/2014",
          "2014/2015",
          "2015/2016",
          "2016/2017",
          "2017/2018",
          "2018/2019",
          "2019/2020",
          "2020/2021",
          "2021/2022",
          "2022/2023"
         ],
         "xaxis": "x",
         "y": [
          846,
          767,
          839,
          845,
          833,
          940,
          810,
          740,
          926,
          815,
          846,
          854,
          817,
          796,
          763,
          746,
          619,
          588,
          609,
          602,
          549,
          528,
          523,
          561,
          541,
          527,
          507
         ],
         "yaxis": "y"
        },
        {
         "hovertemplate": "LAD=East Dunbartonshire<br>Date=%{x}<br>All Crimes=%{y}<extra></extra>",
         "legendgroup": "East Dunbartonshire",
         "line": {
          "color": "#FECB52",
          "dash": "solid"
         },
         "marker": {
          "symbol": "circle"
         },
         "mode": "lines",
         "name": "East Dunbartonshire",
         "orientation": "v",
         "showlegend": true,
         "type": "scatter",
         "x": [
          "1996/1997",
          "1997/1998",
          "1998/1999",
          "1999/2000",
          "2000/2001",
          "2001/2002",
          "2002/2003",
          "2003/2004",
          "2004/2005",
          "2005/2006",
          "2006/2007",
          "2007/2008",
          "2008/2009",
          "2009/2010",
          "2010/2011",
          "2011/2012",
          "2012/2013",
          "2013/2014",
          "2014/2015",
          "2015/2016",
          "2016/2017",
          "2017/2018",
          "2018/2019",
          "2019/2020",
          "2020/2021",
          "2021/2022",
          "2022/2023"
         ],
         "xaxis": "x",
         "y": [
          636,
          621,
          628,
          545,
          545,
          504,
          479,
          459,
          579,
          508,
          534,
          463,
          450,
          458,
          452,
          442,
          393,
          353,
          320,
          293,
          319,
          292,
          319,
          319,
          342,
          264,
          254
         ],
         "yaxis": "y"
        },
        {
         "hovertemplate": "LAD=East Lothian<br>Date=%{x}<br>All Crimes=%{y}<extra></extra>",
         "legendgroup": "East Lothian",
         "line": {
          "color": "#636efa",
          "dash": "solid"
         },
         "marker": {
          "symbol": "circle"
         },
         "mode": "lines",
         "name": "East Lothian",
         "orientation": "v",
         "showlegend": true,
         "type": "scatter",
         "x": [
          "1996/1997",
          "1997/1998",
          "1998/1999",
          "1999/2000",
          "2000/2001",
          "2001/2002",
          "2002/2003",
          "2003/2004",
          "2004/2005",
          "2005/2006",
          "2006/2007",
          "2007/2008",
          "2008/2009",
          "2009/2010",
          "2010/2011",
          "2011/2012",
          "2012/2013",
          "2013/2014",
          "2014/2015",
          "2015/2016",
          "2016/2017",
          "2017/2018",
          "2018/2019",
          "2019/2020",
          "2020/2021",
          "2021/2022",
          "2022/2023"
         ],
         "xaxis": "x",
         "y": [
          553,
          561,
          544,
          637,
          560,
          574,
          598,
          550,
          617,
          601,
          657,
          551,
          549,
          547,
          537,
          461,
          399,
          425,
          404,
          400,
          408,
          425,
          457,
          442,
          434,
          402,
          419
         ],
         "yaxis": "y"
        },
        {
         "hovertemplate": "LAD=East Renfrewshire<br>Date=%{x}<br>All Crimes=%{y}<extra></extra>",
         "legendgroup": "East Renfrewshire",
         "line": {
          "color": "#EF553B",
          "dash": "solid"
         },
         "marker": {
          "symbol": "circle"
         },
         "mode": "lines",
         "name": "East Renfrewshire",
         "orientation": "v",
         "showlegend": true,
         "type": "scatter",
         "x": [
          "1996/1997",
          "1997/1998",
          "1998/1999",
          "1999/2000",
          "2000/2001",
          "2001/2002",
          "2002/2003",
          "2003/2004",
          "2004/2005",
          "2005/2006",
          "2006/2007",
          "2007/2008",
          "2008/2009",
          "2009/2010",
          "2010/2011",
          "2011/2012",
          "2012/2013",
          "2013/2014",
          "2014/2015",
          "2015/2016",
          "2016/2017",
          "2017/2018",
          "2018/2019",
          "2019/2020",
          "2020/2021",
          "2021/2022",
          "2022/2023"
         ],
         "xaxis": "x",
         "y": [
          809,
          597,
          609,
          576,
          491,
          473,
          485,
          512,
          570,
          543,
          528,
          448,
          451,
          403,
          411,
          380,
          324,
          271,
          276,
          261,
          281,
          312,
          277,
          279,
          265,
          226,
          238
         ],
         "yaxis": "y"
        },
        {
         "hovertemplate": "LAD=Falkirk<br>Date=%{x}<br>All Crimes=%{y}<extra></extra>",
         "legendgroup": "Falkirk",
         "line": {
          "color": "#00cc96",
          "dash": "solid"
         },
         "marker": {
          "symbol": "circle"
         },
         "mode": "lines",
         "name": "Falkirk",
         "orientation": "v",
         "showlegend": true,
         "type": "scatter",
         "x": [
          "1996/1997",
          "1997/1998",
          "1998/1999",
          "1999/2000",
          "2000/2001",
          "2001/2002",
          "2002/2003",
          "2003/2004",
          "2004/2005",
          "2005/2006",
          "2006/2007",
          "2007/2008",
          "2008/2009",
          "2009/2010",
          "2010/2011",
          "2011/2012",
          "2012/2013",
          "2013/2014",
          "2014/2015",
          "2015/2016",
          "2016/2017",
          "2017/2018",
          "2018/2019",
          "2019/2020",
          "2020/2021",
          "2021/2022",
          "2022/2023"
         ],
         "xaxis": "x",
         "y": [
          695,
          690,
          744,
          742,
          685,
          720,
          761,
          827,
          839,
          759,
          804,
          776,
          750,
          650,
          676,
          660,
          594,
          583,
          550,
          514,
          476,
          551,
          552,
          564,
          517,
          496,
          486
         ],
         "yaxis": "y"
        },
        {
         "hovertemplate": "LAD=Fife<br>Date=%{x}<br>All Crimes=%{y}<extra></extra>",
         "legendgroup": "Fife",
         "line": {
          "color": "#ab63fa",
          "dash": "solid"
         },
         "marker": {
          "symbol": "circle"
         },
         "mode": "lines",
         "name": "Fife",
         "orientation": "v",
         "showlegend": true,
         "type": "scatter",
         "x": [
          "1996/1997",
          "1997/1998",
          "1998/1999",
          "1999/2000",
          "2000/2001",
          "2001/2002",
          "2002/2003",
          "2003/2004",
          "2004/2005",
          "2005/2006",
          "2006/2007",
          "2007/2008",
          "2008/2009",
          "2009/2010",
          "2010/2011",
          "2011/2012",
          "2012/2013",
          "2013/2014",
          "2014/2015",
          "2015/2016",
          "2016/2017",
          "2017/2018",
          "2018/2019",
          "2019/2020",
          "2020/2021",
          "2021/2022",
          "2022/2023"
         ],
         "xaxis": "x",
         "y": [
          798,
          752,
          762,
          889,
          854,
          899,
          952,
          1041,
          1148,
          1004,
          1008,
          858,
          826,
          722,
          647,
          619,
          530,
          571,
          510,
          494,
          488,
          503,
          504,
          474,
          488,
          511,
          549
         ],
         "yaxis": "y"
        },
        {
         "hovertemplate": "LAD=Glasgow City<br>Date=%{x}<br>All Crimes=%{y}<extra></extra>",
         "legendgroup": "Glasgow City",
         "line": {
          "color": "#FFA15A",
          "dash": "solid"
         },
         "marker": {
          "symbol": "circle"
         },
         "mode": "lines",
         "name": "Glasgow City",
         "orientation": "v",
         "showlegend": true,
         "type": "scatter",
         "x": [
          "1996/1997",
          "1997/1998",
          "1998/1999",
          "1999/2000",
          "2000/2001",
          "2001/2002",
          "2002/2003",
          "2003/2004",
          "2004/2005",
          "2005/2006",
          "2006/2007",
          "2007/2008",
          "2008/2009",
          "2009/2010",
          "2010/2011",
          "2011/2012",
          "2012/2013",
          "2013/2014",
          "2014/2015",
          "2015/2016",
          "2016/2017",
          "2017/2018",
          "2018/2019",
          "2019/2020",
          "2020/2021",
          "2021/2022",
          "2022/2023"
         ],
         "xaxis": "x",
         "y": [
          1647,
          1695,
          1788,
          1682,
          1659,
          1633,
          1623,
          1506,
          1599,
          1556,
          1555,
          1430,
          1415,
          1284,
          1200,
          1250,
          1076,
          1020,
          959,
          870,
          878,
          877,
          879,
          842,
          819,
          769,
          789
         ],
         "yaxis": "y"
        },
        {
         "hovertemplate": "LAD=Highland<br>Date=%{x}<br>All Crimes=%{y}<extra></extra>",
         "legendgroup": "Highland",
         "line": {
          "color": "#19d3f3",
          "dash": "solid"
         },
         "marker": {
          "symbol": "circle"
         },
         "mode": "lines",
         "name": "Highland",
         "orientation": "v",
         "showlegend": true,
         "type": "scatter",
         "x": [
          "1996/1997",
          "1997/1998",
          "1998/1999",
          "1999/2000",
          "2000/2001",
          "2001/2002",
          "2002/2003",
          "2003/2004",
          "2004/2005",
          "2005/2006",
          "2006/2007",
          "2007/2008",
          "2008/2009",
          "2009/2010",
          "2010/2011",
          "2011/2012",
          "2012/2013",
          "2013/2014",
          "2014/2015",
          "2015/2016",
          "2016/2017",
          "2017/2018",
          "2018/2019",
          "2019/2020",
          "2020/2021",
          "2021/2022",
          "2022/2023"
         ],
         "xaxis": "x",
         "y": [
          646,
          570,
          594,
          628,
          656,
          697,
          686,
          698,
          757,
          711,
          811,
          762,
          752,
          657,
          623,
          627,
          529,
          461,
          397,
          429,
          430,
          427,
          409,
          392,
          397,
          390,
          424
         ],
         "yaxis": "y"
        },
        {
         "hovertemplate": "LAD=Inverclyde<br>Date=%{x}<br>All Crimes=%{y}<extra></extra>",
         "legendgroup": "Inverclyde",
         "line": {
          "color": "#FF6692",
          "dash": "solid"
         },
         "marker": {
          "symbol": "circle"
         },
         "mode": "lines",
         "name": "Inverclyde",
         "orientation": "v",
         "showlegend": true,
         "type": "scatter",
         "x": [
          "1996/1997",
          "1997/1998",
          "1998/1999",
          "1999/2000",
          "2000/2001",
          "2001/2002",
          "2002/2003",
          "2003/2004",
          "2004/2005",
          "2005/2006",
          "2006/2007",
          "2007/2008",
          "2008/2009",
          "2009/2010",
          "2010/2011",
          "2011/2012",
          "2012/2013",
          "2013/2014",
          "2014/2015",
          "2015/2016",
          "2016/2017",
          "2017/2018",
          "2018/2019",
          "2019/2020",
          "2020/2021",
          "2021/2022",
          "2022/2023"
         ],
         "xaxis": "x",
         "y": [
          1045,
          1053,
          1084,
          940,
          939,
          1019,
          971,
          1040,
          1102,
          977,
          962,
          904,
          855,
          773,
          800,
          786,
          608,
          614,
          620,
          590,
          537,
          538,
          532,
          566,
          595,
          504,
          553
         ],
         "yaxis": "y"
        },
        {
         "hovertemplate": "LAD=Midlothian<br>Date=%{x}<br>All Crimes=%{y}<extra></extra>",
         "legendgroup": "Midlothian",
         "line": {
          "color": "#B6E880",
          "dash": "solid"
         },
         "marker": {
          "symbol": "circle"
         },
         "mode": "lines",
         "name": "Midlothian",
         "orientation": "v",
         "showlegend": true,
         "type": "scatter",
         "x": [
          "1996/1997",
          "1997/1998",
          "1998/1999",
          "1999/2000",
          "2000/2001",
          "2001/2002",
          "2002/2003",
          "2003/2004",
          "2004/2005",
          "2005/2006",
          "2006/2007",
          "2007/2008",
          "2008/2009",
          "2009/2010",
          "2010/2011",
          "2011/2012",
          "2012/2013",
          "2013/2014",
          "2014/2015",
          "2015/2016",
          "2016/2017",
          "2017/2018",
          "2018/2019",
          "2019/2020",
          "2020/2021",
          "2021/2022",
          "2022/2023"
         ],
         "xaxis": "x",
         "y": [
          654,
          684,
          678,
          785,
          710,
          737,
          760,
          794,
          1151,
          1044,
          948,
          794,
          820,
          750,
          653,
          643,
          583,
          628,
          627,
          576,
          625,
          597,
          595,
          526,
          478,
          474,
          471
         ],
         "yaxis": "y"
        },
        {
         "hovertemplate": "LAD=Moray<br>Date=%{x}<br>All Crimes=%{y}<extra></extra>",
         "legendgroup": "Moray",
         "line": {
          "color": "#FF97FF",
          "dash": "solid"
         },
         "marker": {
          "symbol": "circle"
         },
         "mode": "lines",
         "name": "Moray",
         "orientation": "v",
         "showlegend": true,
         "type": "scatter",
         "x": [
          "1996/1997",
          "1997/1998",
          "1998/1999",
          "1999/2000",
          "2000/2001",
          "2001/2002",
          "2002/2003",
          "2003/2004",
          "2004/2005",
          "2005/2006",
          "2006/2007",
          "2007/2008",
          "2008/2009",
          "2009/2010",
          "2010/2011",
          "2011/2012",
          "2012/2013",
          "2013/2014",
          "2014/2015",
          "2015/2016",
          "2016/2017",
          "2017/2018",
          "2018/2019",
          "2019/2020",
          "2020/2021",
          "2021/2022",
          "2022/2023"
         ],
         "xaxis": "x",
         "y": [
          714,
          705,
          620,
          672,
          666,
          708,
          612,
          620,
          732,
          763,
          803,
          722,
          661,
          570,
          569,
          532,
          451,
          437,
          372,
          406,
          387,
          358,
          374,
          364,
          344,
          398,
          410
         ],
         "yaxis": "y"
        },
        {
         "hovertemplate": "LAD=Na h-Eileanan Siar<br>Date=%{x}<br>All Crimes=%{y}<extra></extra>",
         "legendgroup": "Na h-Eileanan Siar",
         "line": {
          "color": "#FECB52",
          "dash": "solid"
         },
         "marker": {
          "symbol": "circle"
         },
         "mode": "lines",
         "name": "Na h-Eileanan Siar",
         "orientation": "v",
         "showlegend": true,
         "type": "scatter",
         "x": [
          "1996/1997",
          "1997/1998",
          "1998/1999",
          "1999/2000",
          "2000/2001",
          "2001/2002",
          "2002/2003",
          "2003/2004",
          "2004/2005",
          "2005/2006",
          "2006/2007",
          "2007/2008",
          "2008/2009",
          "2009/2010",
          "2010/2011",
          "2011/2012",
          "2012/2013",
          "2013/2014",
          "2014/2015",
          "2015/2016",
          "2016/2017",
          "2017/2018",
          "2018/2019",
          "2019/2020",
          "2020/2021",
          "2021/2022",
          "2022/2023"
         ],
         "xaxis": "x",
         "y": [
          390,
          289,
          291,
          238,
          262,
          313,
          320,
          373,
          452,
          534,
          530,
          479,
          413,
          319,
          378,
          362,
          320,
          247,
          233,
          241,
          185,
          171,
          200,
          209,
          266,
          232,
          308
         ],
         "yaxis": "y"
        },
        {
         "hovertemplate": "LAD=North Ayrshire<br>Date=%{x}<br>All Crimes=%{y}<extra></extra>",
         "legendgroup": "North Ayrshire",
         "line": {
          "color": "#636efa",
          "dash": "solid"
         },
         "marker": {
          "symbol": "circle"
         },
         "mode": "lines",
         "name": "North Ayrshire",
         "orientation": "v",
         "showlegend": true,
         "type": "scatter",
         "x": [
          "1996/1997",
          "1997/1998",
          "1998/1999",
          "1999/2000",
          "2000/2001",
          "2001/2002",
          "2002/2003",
          "2003/2004",
          "2004/2005",
          "2005/2006",
          "2006/2007",
          "2007/2008",
          "2008/2009",
          "2009/2010",
          "2010/2011",
          "2011/2012",
          "2012/2013",
          "2013/2014",
          "2014/2015",
          "2015/2016",
          "2016/2017",
          "2017/2018",
          "2018/2019",
          "2019/2020",
          "2020/2021",
          "2021/2022",
          "2022/2023"
         ],
         "xaxis": "x",
         "y": [
          848,
          720,
          767,
          775,
          804,
          874,
          859,
          831,
          971,
          959,
          882,
          855,
          927,
          824,
          803,
          831,
          686,
          634,
          613,
          580,
          565,
          541,
          553,
          582,
          594,
          522,
          511
         ],
         "yaxis": "y"
        },
        {
         "hovertemplate": "LAD=North Lanarkshire<br>Date=%{x}<br>All Crimes=%{y}<extra></extra>",
         "legendgroup": "North Lanarkshire",
         "line": {
          "color": "#EF553B",
          "dash": "solid"
         },
         "marker": {
          "symbol": "circle"
         },
         "mode": "lines",
         "name": "North Lanarkshire",
         "orientation": "v",
         "showlegend": true,
         "type": "scatter",
         "x": [
          "1996/1997",
          "1997/1998",
          "1998/1999",
          "1999/2000",
          "2000/2001",
          "2001/2002",
          "2002/2003",
          "2003/2004",
          "2004/2005",
          "2005/2006",
          "2006/2007",
          "2007/2008",
          "2008/2009",
          "2009/2010",
          "2010/2011",
          "2011/2012",
          "2012/2013",
          "2013/2014",
          "2014/2015",
          "2015/2016",
          "2016/2017",
          "2017/2018",
          "2018/2019",
          "2019/2020",
          "2020/2021",
          "2021/2022",
          "2022/2023"
         ],
         "xaxis": "x",
         "y": [
          863,
          830,
          872,
          815,
          852,
          862,
          813,
          787,
          939,
          927,
          950,
          945,
          907,
          851,
          776,
          731,
          643,
          625,
          596,
          578,
          583,
          601,
          635,
          656,
          637,
          546,
          549
         ],
         "yaxis": "y"
        },
        {
         "hovertemplate": "LAD=Orkney Islands<br>Date=%{x}<br>All Crimes=%{y}<extra></extra>",
         "legendgroup": "Orkney Islands",
         "line": {
          "color": "#00cc96",
          "dash": "solid"
         },
         "marker": {
          "symbol": "circle"
         },
         "mode": "lines",
         "name": "Orkney Islands",
         "orientation": "v",
         "showlegend": true,
         "type": "scatter",
         "x": [
          "1996/1997",
          "1997/1998",
          "1998/1999",
          "1999/2000",
          "2000/2001",
          "2001/2002",
          "2002/2003",
          "2003/2004",
          "2004/2005",
          "2005/2006",
          "2006/2007",
          "2007/2008",
          "2008/2009",
          "2009/2010",
          "2010/2011",
          "2011/2012",
          "2012/2013",
          "2013/2014",
          "2014/2015",
          "2015/2016",
          "2016/2017",
          "2017/2018",
          "2018/2019",
          "2019/2020",
          "2020/2021",
          "2021/2022",
          "2022/2023"
         ],
         "xaxis": "x",
         "y": [
          224,
          237,
          296,
          228,
          255,
          232,
          267,
          326,
          340,
          362,
          300,
          259,
          334,
          329,
          280,
          270,
          280,
          235,
          196,
          211,
          209,
          197,
          218,
          206,
          186,
          164,
          228
         ],
         "yaxis": "y"
        },
        {
         "hovertemplate": "LAD=Perth and Kinross<br>Date=%{x}<br>All Crimes=%{y}<extra></extra>",
         "legendgroup": "Perth and Kinross",
         "line": {
          "color": "#ab63fa",
          "dash": "solid"
         },
         "marker": {
          "symbol": "circle"
         },
         "mode": "lines",
         "name": "Perth and Kinross",
         "orientation": "v",
         "showlegend": true,
         "type": "scatter",
         "x": [
          "1996/1997",
          "1997/1998",
          "1998/1999",
          "1999/2000",
          "2000/2001",
          "2001/2002",
          "2002/2003",
          "2003/2004",
          "2004/2005",
          "2005/2006",
          "2006/2007",
          "2007/2008",
          "2008/2009",
          "2009/2010",
          "2010/2011",
          "2011/2012",
          "2012/2013",
          "2013/2014",
          "2014/2015",
          "2015/2016",
          "2016/2017",
          "2017/2018",
          "2018/2019",
          "2019/2020",
          "2020/2021",
          "2021/2022",
          "2022/2023"
         ],
         "xaxis": "x",
         "y": [
          805,
          701,
          690,
          646,
          603,
          657,
          685,
          659,
          711,
          669,
          652,
          579,
          576,
          496,
          469,
          435,
          428,
          428,
          413,
          411,
          366,
          349,
          336,
          358,
          390,
          382,
          384
         ],
         "yaxis": "y"
        },
        {
         "hovertemplate": "LAD=Renfrewshire<br>Date=%{x}<br>All Crimes=%{y}<extra></extra>",
         "legendgroup": "Renfrewshire",
         "line": {
          "color": "#FFA15A",
          "dash": "solid"
         },
         "marker": {
          "symbol": "circle"
         },
         "mode": "lines",
         "name": "Renfrewshire",
         "orientation": "v",
         "showlegend": true,
         "type": "scatter",
         "x": [
          "1996/1997",
          "1997/1998",
          "1998/1999",
          "1999/2000",
          "2000/2001",
          "2001/2002",
          "2002/2003",
          "2003/2004",
          "2004/2005",
          "2005/2006",
          "2006/2007",
          "2007/2008",
          "2008/2009",
          "2009/2010",
          "2010/2011",
          "2011/2012",
          "2012/2013",
          "2013/2014",
          "2014/2015",
          "2015/2016",
          "2016/2017",
          "2017/2018",
          "2018/2019",
          "2019/2020",
          "2020/2021",
          "2021/2022",
          "2022/2023"
         ],
         "xaxis": "x",
         "y": [
          1140,
          1027,
          1107,
          1045,
          1017,
          1052,
          937,
          967,
          1015,
          896,
          997,
          873,
          912,
          825,
          816,
          808,
          640,
          639,
          614,
          591,
          534,
          554,
          556,
          538,
          555,
          491,
          508
         ],
         "yaxis": "y"
        },
        {
         "hovertemplate": "LAD=Scottish Borders<br>Date=%{x}<br>All Crimes=%{y}<extra></extra>",
         "legendgroup": "Scottish Borders",
         "line": {
          "color": "#19d3f3",
          "dash": "solid"
         },
         "marker": {
          "symbol": "circle"
         },
         "mode": "lines",
         "name": "Scottish Borders",
         "orientation": "v",
         "showlegend": true,
         "type": "scatter",
         "x": [
          "1996/1997",
          "1997/1998",
          "1998/1999",
          "1999/2000",
          "2000/2001",
          "2001/2002",
          "2002/2003",
          "2003/2004",
          "2004/2005",
          "2005/2006",
          "2006/2007",
          "2007/2008",
          "2008/2009",
          "2009/2010",
          "2010/2011",
          "2011/2012",
          "2012/2013",
          "2013/2014",
          "2014/2015",
          "2015/2016",
          "2016/2017",
          "2017/2018",
          "2018/2019",
          "2019/2020",
          "2020/2021",
          "2021/2022",
          "2022/2023"
         ],
         "xaxis": "x",
         "y": [
          522,
          524,
          560,
          609,
          583,
          615,
          620,
          650,
          635,
          613,
          589,
          487,
          493,
          433,
          395,
          400,
          334,
          358,
          344,
          326,
          338,
          363,
          400,
          393,
          400,
          422,
          393
         ],
         "yaxis": "y"
        },
        {
         "hovertemplate": "LAD=Shetland Islands<br>Date=%{x}<br>All Crimes=%{y}<extra></extra>",
         "legendgroup": "Shetland Islands",
         "line": {
          "color": "#FF6692",
          "dash": "solid"
         },
         "marker": {
          "symbol": "circle"
         },
         "mode": "lines",
         "name": "Shetland Islands",
         "orientation": "v",
         "showlegend": true,
         "type": "scatter",
         "x": [
          "1996/1997",
          "1997/1998",
          "1998/1999",
          "1999/2000",
          "2000/2001",
          "2001/2002",
          "2002/2003",
          "2003/2004",
          "2004/2005",
          "2005/2006",
          "2006/2007",
          "2007/2008",
          "2008/2009",
          "2009/2010",
          "2010/2011",
          "2011/2012",
          "2012/2013",
          "2013/2014",
          "2014/2015",
          "2015/2016",
          "2016/2017",
          "2017/2018",
          "2018/2019",
          "2019/2020",
          "2020/2021",
          "2021/2022",
          "2022/2023"
         ],
         "xaxis": "x",
         "y": [
          369,
          396,
          348,
          288,
          313,
          337,
          364,
          393,
          398,
          452,
          439,
          411,
          472,
          436,
          369,
          377,
          318,
          239,
          266,
          349,
          232,
          205,
          238,
          274,
          244,
          198,
          278
         ],
         "yaxis": "y"
        },
        {
         "hovertemplate": "LAD=South Ayrshire<br>Date=%{x}<br>All Crimes=%{y}<extra></extra>",
         "legendgroup": "South Ayrshire",
         "line": {
          "color": "#B6E880",
          "dash": "solid"
         },
         "marker": {
          "symbol": "circle"
         },
         "mode": "lines",
         "name": "South Ayrshire",
         "orientation": "v",
         "showlegend": true,
         "type": "scatter",
         "x": [
          "1996/1997",
          "1997/1998",
          "1998/1999",
          "1999/2000",
          "2000/2001",
          "2001/2002",
          "2002/2003",
          "2003/2004",
          "2004/2005",
          "2005/2006",
          "2006/2007",
          "2007/2008",
          "2008/2009",
          "2009/2010",
          "2010/2011",
          "2011/2012",
          "2012/2013",
          "2013/2014",
          "2014/2015",
          "2015/2016",
          "2016/2017",
          "2017/2018",
          "2018/2019",
          "2019/2020",
          "2020/2021",
          "2021/2022",
          "2022/2023"
         ],
         "xaxis": "x",
         "y": [
          883,
          754,
          810,
          712,
          725,
          789,
          747,
          696,
          827,
          761,
          805,
          769,
          739,
          630,
          670,
          621,
          569,
          553,
          549,
          536,
          462,
          503,
          529,
          536,
          491,
          461,
          482
         ],
         "yaxis": "y"
        },
        {
         "hovertemplate": "LAD=South Lanarkshire<br>Date=%{x}<br>All Crimes=%{y}<extra></extra>",
         "legendgroup": "South Lanarkshire",
         "line": {
          "color": "#FF97FF",
          "dash": "solid"
         },
         "marker": {
          "symbol": "circle"
         },
         "mode": "lines",
         "name": "South Lanarkshire",
         "orientation": "v",
         "showlegend": true,
         "type": "scatter",
         "x": [
          "1996/1997",
          "1997/1998",
          "1998/1999",
          "1999/2000",
          "2000/2001",
          "2001/2002",
          "2002/2003",
          "2003/2004",
          "2004/2005",
          "2005/2006",
          "2006/2007",
          "2007/2008",
          "2008/2009",
          "2009/2010",
          "2010/2011",
          "2011/2012",
          "2012/2013",
          "2013/2014",
          "2014/2015",
          "2015/2016",
          "2016/2017",
          "2017/2018",
          "2018/2019",
          "2019/2020",
          "2020/2021",
          "2021/2022",
          "2022/2023"
         ],
         "xaxis": "x",
         "y": [
          762,
          770,
          790,
          776,
          726,
          744,
          735,
          757,
          803,
          772,
          800,
          756,
          740,
          669,
          635,
          604,
          552,
          534,
          521,
          503,
          483,
          518,
          523,
          548,
          552,
          481,
          489
         ],
         "yaxis": "y"
        },
        {
         "hovertemplate": "LAD=Stirling<br>Date=%{x}<br>All Crimes=%{y}<extra></extra>",
         "legendgroup": "Stirling",
         "line": {
          "color": "#FECB52",
          "dash": "solid"
         },
         "marker": {
          "symbol": "circle"
         },
         "mode": "lines",
         "name": "Stirling",
         "orientation": "v",
         "showlegend": true,
         "type": "scatter",
         "x": [
          "1996/1997",
          "1997/1998",
          "1998/1999",
          "1999/2000",
          "2000/2001",
          "2001/2002",
          "2002/2003",
          "2003/2004",
          "2004/2005",
          "2005/2006",
          "2006/2007",
          "2007/2008",
          "2008/2009",
          "2009/2010",
          "2010/2011",
          "2011/2012",
          "2012/2013",
          "2013/2014",
          "2014/2015",
          "2015/2016",
          "2016/2017",
          "2017/2018",
          "2018/2019",
          "2019/2020",
          "2020/2021",
          "2021/2022",
          "2022/2023"
         ],
         "xaxis": "x",
         "y": [
          657,
          633,
          714,
          710,
          641,
          690,
          754,
          787,
          814,
          810,
          855,
          777,
          744,
          704,
          693,
          725,
          571,
          518,
          562,
          549,
          464,
          452,
          460,
          468,
          476,
          439,
          394
         ],
         "yaxis": "y"
        },
        {
         "hovertemplate": "LAD=West Dunbartonshire<br>Date=%{x}<br>All Crimes=%{y}<extra></extra>",
         "legendgroup": "West Dunbartonshire",
         "line": {
          "color": "#636efa",
          "dash": "solid"
         },
         "marker": {
          "symbol": "circle"
         },
         "mode": "lines",
         "name": "West Dunbartonshire",
         "orientation": "v",
         "showlegend": true,
         "type": "scatter",
         "x": [
          "1996/1997",
          "1997/1998",
          "1998/1999",
          "1999/2000",
          "2000/2001",
          "2001/2002",
          "2002/2003",
          "2003/2004",
          "2004/2005",
          "2005/2006",
          "2006/2007",
          "2007/2008",
          "2008/2009",
          "2009/2010",
          "2010/2011",
          "2011/2012",
          "2012/2013",
          "2013/2014",
          "2014/2015",
          "2015/2016",
          "2016/2017",
          "2017/2018",
          "2018/2019",
          "2019/2020",
          "2020/2021",
          "2021/2022",
          "2022/2023"
         ],
         "xaxis": "x",
         "y": [
          1231,
          1136,
          1083,
          1098,
          1005,
          1038,
          1065,
          1068,
          1187,
          1159,
          1181,
          1150,
          1120,
          1012,
          963,
          948,
          802,
          692,
          659,
          645,
          607,
          572,
          623,
          636,
          736,
          605,
          590
         ],
         "yaxis": "y"
        },
        {
         "hovertemplate": "LAD=West Lothian<br>Date=%{x}<br>All Crimes=%{y}<extra></extra>",
         "legendgroup": "West Lothian",
         "line": {
          "color": "#EF553B",
          "dash": "solid"
         },
         "marker": {
          "symbol": "circle"
         },
         "mode": "lines",
         "name": "West Lothian",
         "orientation": "v",
         "showlegend": true,
         "type": "scatter",
         "x": [
          "1996/1997",
          "1997/1998",
          "1998/1999",
          "1999/2000",
          "2000/2001",
          "2001/2002",
          "2002/2003",
          "2003/2004",
          "2004/2005",
          "2005/2006",
          "2006/2007",
          "2007/2008",
          "2008/2009",
          "2009/2010",
          "2010/2011",
          "2011/2012",
          "2012/2013",
          "2013/2014",
          "2014/2015",
          "2015/2016",
          "2016/2017",
          "2017/2018",
          "2018/2019",
          "2019/2020",
          "2020/2021",
          "2021/2022",
          "2022/2023"
         ],
         "xaxis": "x",
         "y": [
          822,
          889,
          921,
          977,
          879,
          881,
          896,
          809,
          943,
          944,
          943,
          838,
          802,
          782,
          633,
          624,
          560,
          596,
          542,
          531,
          519,
          507,
          536,
          519,
          520,
          496,
          497
         ],
         "yaxis": "y"
        }
       ],
       "layout": {
        "legend": {
         "title": {
          "text": "LAD"
         },
         "tracegroupgap": 0
        },
        "margin": {
         "t": 60
        },
        "template": {
         "data": {
          "bar": [
           {
            "error_x": {
             "color": "#2a3f5f"
            },
            "error_y": {
             "color": "#2a3f5f"
            },
            "marker": {
             "line": {
              "color": "#E5ECF6",
              "width": 0.5
             },
             "pattern": {
              "fillmode": "overlay",
              "size": 10,
              "solidity": 0.2
             }
            },
            "type": "bar"
           }
          ],
          "barpolar": [
           {
            "marker": {
             "line": {
              "color": "#E5ECF6",
              "width": 0.5
             },
             "pattern": {
              "fillmode": "overlay",
              "size": 10,
              "solidity": 0.2
             }
            },
            "type": "barpolar"
           }
          ],
          "carpet": [
           {
            "aaxis": {
             "endlinecolor": "#2a3f5f",
             "gridcolor": "white",
             "linecolor": "white",
             "minorgridcolor": "white",
             "startlinecolor": "#2a3f5f"
            },
            "baxis": {
             "endlinecolor": "#2a3f5f",
             "gridcolor": "white",
             "linecolor": "white",
             "minorgridcolor": "white",
             "startlinecolor": "#2a3f5f"
            },
            "type": "carpet"
           }
          ],
          "choropleth": [
           {
            "colorbar": {
             "outlinewidth": 0,
             "ticks": ""
            },
            "type": "choropleth"
           }
          ],
          "contour": [
           {
            "colorbar": {
             "outlinewidth": 0,
             "ticks": ""
            },
            "colorscale": [
             [
              0,
              "#0d0887"
             ],
             [
              0.1111111111111111,
              "#46039f"
             ],
             [
              0.2222222222222222,
              "#7201a8"
             ],
             [
              0.3333333333333333,
              "#9c179e"
             ],
             [
              0.4444444444444444,
              "#bd3786"
             ],
             [
              0.5555555555555556,
              "#d8576b"
             ],
             [
              0.6666666666666666,
              "#ed7953"
             ],
             [
              0.7777777777777778,
              "#fb9f3a"
             ],
             [
              0.8888888888888888,
              "#fdca26"
             ],
             [
              1,
              "#f0f921"
             ]
            ],
            "type": "contour"
           }
          ],
          "contourcarpet": [
           {
            "colorbar": {
             "outlinewidth": 0,
             "ticks": ""
            },
            "type": "contourcarpet"
           }
          ],
          "heatmap": [
           {
            "colorbar": {
             "outlinewidth": 0,
             "ticks": ""
            },
            "colorscale": [
             [
              0,
              "#0d0887"
             ],
             [
              0.1111111111111111,
              "#46039f"
             ],
             [
              0.2222222222222222,
              "#7201a8"
             ],
             [
              0.3333333333333333,
              "#9c179e"
             ],
             [
              0.4444444444444444,
              "#bd3786"
             ],
             [
              0.5555555555555556,
              "#d8576b"
             ],
             [
              0.6666666666666666,
              "#ed7953"
             ],
             [
              0.7777777777777778,
              "#fb9f3a"
             ],
             [
              0.8888888888888888,
              "#fdca26"
             ],
             [
              1,
              "#f0f921"
             ]
            ],
            "type": "heatmap"
           }
          ],
          "heatmapgl": [
           {
            "colorbar": {
             "outlinewidth": 0,
             "ticks": ""
            },
            "colorscale": [
             [
              0,
              "#0d0887"
             ],
             [
              0.1111111111111111,
              "#46039f"
             ],
             [
              0.2222222222222222,
              "#7201a8"
             ],
             [
              0.3333333333333333,
              "#9c179e"
             ],
             [
              0.4444444444444444,
              "#bd3786"
             ],
             [
              0.5555555555555556,
              "#d8576b"
             ],
             [
              0.6666666666666666,
              "#ed7953"
             ],
             [
              0.7777777777777778,
              "#fb9f3a"
             ],
             [
              0.8888888888888888,
              "#fdca26"
             ],
             [
              1,
              "#f0f921"
             ]
            ],
            "type": "heatmapgl"
           }
          ],
          "histogram": [
           {
            "marker": {
             "pattern": {
              "fillmode": "overlay",
              "size": 10,
              "solidity": 0.2
             }
            },
            "type": "histogram"
           }
          ],
          "histogram2d": [
           {
            "colorbar": {
             "outlinewidth": 0,
             "ticks": ""
            },
            "colorscale": [
             [
              0,
              "#0d0887"
             ],
             [
              0.1111111111111111,
              "#46039f"
             ],
             [
              0.2222222222222222,
              "#7201a8"
             ],
             [
              0.3333333333333333,
              "#9c179e"
             ],
             [
              0.4444444444444444,
              "#bd3786"
             ],
             [
              0.5555555555555556,
              "#d8576b"
             ],
             [
              0.6666666666666666,
              "#ed7953"
             ],
             [
              0.7777777777777778,
              "#fb9f3a"
             ],
             [
              0.8888888888888888,
              "#fdca26"
             ],
             [
              1,
              "#f0f921"
             ]
            ],
            "type": "histogram2d"
           }
          ],
          "histogram2dcontour": [
           {
            "colorbar": {
             "outlinewidth": 0,
             "ticks": ""
            },
            "colorscale": [
             [
              0,
              "#0d0887"
             ],
             [
              0.1111111111111111,
              "#46039f"
             ],
             [
              0.2222222222222222,
              "#7201a8"
             ],
             [
              0.3333333333333333,
              "#9c179e"
             ],
             [
              0.4444444444444444,
              "#bd3786"
             ],
             [
              0.5555555555555556,
              "#d8576b"
             ],
             [
              0.6666666666666666,
              "#ed7953"
             ],
             [
              0.7777777777777778,
              "#fb9f3a"
             ],
             [
              0.8888888888888888,
              "#fdca26"
             ],
             [
              1,
              "#f0f921"
             ]
            ],
            "type": "histogram2dcontour"
           }
          ],
          "mesh3d": [
           {
            "colorbar": {
             "outlinewidth": 0,
             "ticks": ""
            },
            "type": "mesh3d"
           }
          ],
          "parcoords": [
           {
            "line": {
             "colorbar": {
              "outlinewidth": 0,
              "ticks": ""
             }
            },
            "type": "parcoords"
           }
          ],
          "pie": [
           {
            "automargin": true,
            "type": "pie"
           }
          ],
          "scatter": [
           {
            "fillpattern": {
             "fillmode": "overlay",
             "size": 10,
             "solidity": 0.2
            },
            "type": "scatter"
           }
          ],
          "scatter3d": [
           {
            "line": {
             "colorbar": {
              "outlinewidth": 0,
              "ticks": ""
             }
            },
            "marker": {
             "colorbar": {
              "outlinewidth": 0,
              "ticks": ""
             }
            },
            "type": "scatter3d"
           }
          ],
          "scattercarpet": [
           {
            "marker": {
             "colorbar": {
              "outlinewidth": 0,
              "ticks": ""
             }
            },
            "type": "scattercarpet"
           }
          ],
          "scattergeo": [
           {
            "marker": {
             "colorbar": {
              "outlinewidth": 0,
              "ticks": ""
             }
            },
            "type": "scattergeo"
           }
          ],
          "scattergl": [
           {
            "marker": {
             "colorbar": {
              "outlinewidth": 0,
              "ticks": ""
             }
            },
            "type": "scattergl"
           }
          ],
          "scattermapbox": [
           {
            "marker": {
             "colorbar": {
              "outlinewidth": 0,
              "ticks": ""
             }
            },
            "type": "scattermapbox"
           }
          ],
          "scatterpolar": [
           {
            "marker": {
             "colorbar": {
              "outlinewidth": 0,
              "ticks": ""
             }
            },
            "type": "scatterpolar"
           }
          ],
          "scatterpolargl": [
           {
            "marker": {
             "colorbar": {
              "outlinewidth": 0,
              "ticks": ""
             }
            },
            "type": "scatterpolargl"
           }
          ],
          "scatterternary": [
           {
            "marker": {
             "colorbar": {
              "outlinewidth": 0,
              "ticks": ""
             }
            },
            "type": "scatterternary"
           }
          ],
          "surface": [
           {
            "colorbar": {
             "outlinewidth": 0,
             "ticks": ""
            },
            "colorscale": [
             [
              0,
              "#0d0887"
             ],
             [
              0.1111111111111111,
              "#46039f"
             ],
             [
              0.2222222222222222,
              "#7201a8"
             ],
             [
              0.3333333333333333,
              "#9c179e"
             ],
             [
              0.4444444444444444,
              "#bd3786"
             ],
             [
              0.5555555555555556,
              "#d8576b"
             ],
             [
              0.6666666666666666,
              "#ed7953"
             ],
             [
              0.7777777777777778,
              "#fb9f3a"
             ],
             [
              0.8888888888888888,
              "#fdca26"
             ],
             [
              1,
              "#f0f921"
             ]
            ],
            "type": "surface"
           }
          ],
          "table": [
           {
            "cells": {
             "fill": {
              "color": "#EBF0F8"
             },
             "line": {
              "color": "white"
             }
            },
            "header": {
             "fill": {
              "color": "#C8D4E3"
             },
             "line": {
              "color": "white"
             }
            },
            "type": "table"
           }
          ]
         },
         "layout": {
          "annotationdefaults": {
           "arrowcolor": "#2a3f5f",
           "arrowhead": 0,
           "arrowwidth": 1
          },
          "autotypenumbers": "strict",
          "coloraxis": {
           "colorbar": {
            "outlinewidth": 0,
            "ticks": ""
           }
          },
          "colorscale": {
           "diverging": [
            [
             0,
             "#8e0152"
            ],
            [
             0.1,
             "#c51b7d"
            ],
            [
             0.2,
             "#de77ae"
            ],
            [
             0.3,
             "#f1b6da"
            ],
            [
             0.4,
             "#fde0ef"
            ],
            [
             0.5,
             "#f7f7f7"
            ],
            [
             0.6,
             "#e6f5d0"
            ],
            [
             0.7,
             "#b8e186"
            ],
            [
             0.8,
             "#7fbc41"
            ],
            [
             0.9,
             "#4d9221"
            ],
            [
             1,
             "#276419"
            ]
           ],
           "sequential": [
            [
             0,
             "#0d0887"
            ],
            [
             0.1111111111111111,
             "#46039f"
            ],
            [
             0.2222222222222222,
             "#7201a8"
            ],
            [
             0.3333333333333333,
             "#9c179e"
            ],
            [
             0.4444444444444444,
             "#bd3786"
            ],
            [
             0.5555555555555556,
             "#d8576b"
            ],
            [
             0.6666666666666666,
             "#ed7953"
            ],
            [
             0.7777777777777778,
             "#fb9f3a"
            ],
            [
             0.8888888888888888,
             "#fdca26"
            ],
            [
             1,
             "#f0f921"
            ]
           ],
           "sequentialminus": [
            [
             0,
             "#0d0887"
            ],
            [
             0.1111111111111111,
             "#46039f"
            ],
            [
             0.2222222222222222,
             "#7201a8"
            ],
            [
             0.3333333333333333,
             "#9c179e"
            ],
            [
             0.4444444444444444,
             "#bd3786"
            ],
            [
             0.5555555555555556,
             "#d8576b"
            ],
            [
             0.6666666666666666,
             "#ed7953"
            ],
            [
             0.7777777777777778,
             "#fb9f3a"
            ],
            [
             0.8888888888888888,
             "#fdca26"
            ],
            [
             1,
             "#f0f921"
            ]
           ]
          },
          "colorway": [
           "#636efa",
           "#EF553B",
           "#00cc96",
           "#ab63fa",
           "#FFA15A",
           "#19d3f3",
           "#FF6692",
           "#B6E880",
           "#FF97FF",
           "#FECB52"
          ],
          "font": {
           "color": "#2a3f5f"
          },
          "geo": {
           "bgcolor": "white",
           "lakecolor": "white",
           "landcolor": "#E5ECF6",
           "showlakes": true,
           "showland": true,
           "subunitcolor": "white"
          },
          "hoverlabel": {
           "align": "left"
          },
          "hovermode": "closest",
          "mapbox": {
           "style": "light"
          },
          "paper_bgcolor": "white",
          "plot_bgcolor": "#E5ECF6",
          "polar": {
           "angularaxis": {
            "gridcolor": "white",
            "linecolor": "white",
            "ticks": ""
           },
           "bgcolor": "#E5ECF6",
           "radialaxis": {
            "gridcolor": "white",
            "linecolor": "white",
            "ticks": ""
           }
          },
          "scene": {
           "xaxis": {
            "backgroundcolor": "#E5ECF6",
            "gridcolor": "white",
            "gridwidth": 2,
            "linecolor": "white",
            "showbackground": true,
            "ticks": "",
            "zerolinecolor": "white"
           },
           "yaxis": {
            "backgroundcolor": "#E5ECF6",
            "gridcolor": "white",
            "gridwidth": 2,
            "linecolor": "white",
            "showbackground": true,
            "ticks": "",
            "zerolinecolor": "white"
           },
           "zaxis": {
            "backgroundcolor": "#E5ECF6",
            "gridcolor": "white",
            "gridwidth": 2,
            "linecolor": "white",
            "showbackground": true,
            "ticks": "",
            "zerolinecolor": "white"
           }
          },
          "shapedefaults": {
           "line": {
            "color": "#2a3f5f"
           }
          },
          "ternary": {
           "aaxis": {
            "gridcolor": "white",
            "linecolor": "white",
            "ticks": ""
           },
           "baxis": {
            "gridcolor": "white",
            "linecolor": "white",
            "ticks": ""
           },
           "bgcolor": "#E5ECF6",
           "caxis": {
            "gridcolor": "white",
            "linecolor": "white",
            "ticks": ""
           }
          },
          "title": {
           "x": 0.05
          },
          "xaxis": {
           "automargin": true,
           "gridcolor": "white",
           "linecolor": "white",
           "ticks": "",
           "title": {
            "standoff": 15
           },
           "zerolinecolor": "white",
           "zerolinewidth": 2
          },
          "yaxis": {
           "automargin": true,
           "gridcolor": "white",
           "linecolor": "white",
           "ticks": "",
           "title": {
            "standoff": 15
           },
           "zerolinecolor": "white",
           "zerolinewidth": 2
          }
         }
        },
        "xaxis": {
         "anchor": "y",
         "domain": [
          0,
          1
         ],
         "title": {
          "text": "Date"
         }
        },
        "yaxis": {
         "anchor": "x",
         "domain": [
          0,
          1
         ],
         "title": {
          "text": "All Crimes"
         }
        }
       }
      }
     },
     "metadata": {},
     "output_type": "display_data"
    }
   ],
   "source": [
    "# Question 1: How do Scottish Crime rates vary over time?\n",
    "# Plotting overall Scottish crime ratios over time\n",
    "fig = px.line(data_frame=pivoted_crimes_ratios_df, x=pivoted_crimes_ratios_df.index, y=\"All Crimes\", color=\"LAD\")\n",
    "fig.show()\n",
    "fig.write_html(\"assets/scottish_crime_ratios_over_time.html\", default_width=\"100%\", default_height=\"100%\")"
   ]
  },
  {
   "cell_type": "code",
   "execution_count": 8,
   "metadata": {},
   "outputs": [
    {
     "data": {
      "application/vnd.plotly.v1+json": {
       "config": {
        "plotlyServerURL": "https://plot.ly"
       },
       "data": [
        {
         "alignmentgroup": "True",
         "hovertemplate": "LAD=Shetland Islands<br>Percentage Change (2023-2022)=%{x}<br>index=%{y}<extra></extra>",
         "legendgroup": "Shetland Islands",
         "marker": {
          "color": "#3366CC",
          "pattern": {
           "shape": ""
          }
         },
         "name": "Shetland Islands",
         "offsetgroup": "Shetland Islands",
         "orientation": "h",
         "showlegend": true,
         "textposition": "auto",
         "type": "bar",
         "x": [
          40.4040404040404
         ],
         "xaxis": "x",
         "y": [
          0
         ],
         "yaxis": "y"
        },
        {
         "alignmentgroup": "True",
         "hovertemplate": "LAD=Orkney Islands<br>Percentage Change (2023-2022)=%{x}<br>index=%{y}<extra></extra>",
         "legendgroup": "Orkney Islands",
         "marker": {
          "color": "#DC3912",
          "pattern": {
           "shape": ""
          }
         },
         "name": "Orkney Islands",
         "offsetgroup": "Orkney Islands",
         "orientation": "h",
         "showlegend": true,
         "textposition": "auto",
         "type": "bar",
         "x": [
          39.02439024390244
         ],
         "xaxis": "x",
         "y": [
          1
         ],
         "yaxis": "y"
        },
        {
         "alignmentgroup": "True",
         "hovertemplate": "LAD=Na h-Eileanan Siar<br>Percentage Change (2023-2022)=%{x}<br>index=%{y}<extra></extra>",
         "legendgroup": "Na h-Eileanan Siar",
         "marker": {
          "color": "#FF9900",
          "pattern": {
           "shape": ""
          }
         },
         "name": "Na h-Eileanan Siar",
         "offsetgroup": "Na h-Eileanan Siar",
         "orientation": "h",
         "showlegend": true,
         "textposition": "auto",
         "type": "bar",
         "x": [
          32.758620689655174
         ],
         "xaxis": "x",
         "y": [
          2
         ],
         "yaxis": "y"
        },
        {
         "alignmentgroup": "True",
         "hovertemplate": "LAD=Inverclyde<br>Percentage Change (2023-2022)=%{x}<br>index=%{y}<extra></extra>",
         "legendgroup": "Inverclyde",
         "marker": {
          "color": "#109618",
          "pattern": {
           "shape": ""
          }
         },
         "name": "Inverclyde",
         "offsetgroup": "Inverclyde",
         "orientation": "h",
         "showlegend": true,
         "textposition": "auto",
         "type": "bar",
         "x": [
          9.722222222222223
         ],
         "xaxis": "x",
         "y": [
          3
         ],
         "yaxis": "y"
        },
        {
         "alignmentgroup": "True",
         "hovertemplate": "LAD=Highland<br>Percentage Change (2023-2022)=%{x}<br>index=%{y}<extra></extra>",
         "legendgroup": "Highland",
         "marker": {
          "color": "#990099",
          "pattern": {
           "shape": ""
          }
         },
         "name": "Highland",
         "offsetgroup": "Highland",
         "orientation": "h",
         "showlegend": true,
         "textposition": "auto",
         "type": "bar",
         "x": [
          8.717948717948717
         ],
         "xaxis": "x",
         "y": [
          4
         ],
         "yaxis": "y"
        },
        {
         "alignmentgroup": "True",
         "hovertemplate": "LAD=Fife<br>Percentage Change (2023-2022)=%{x}<br>index=%{y}<extra></extra>",
         "legendgroup": "Fife",
         "marker": {
          "color": "#0099C6",
          "pattern": {
           "shape": ""
          }
         },
         "name": "Fife",
         "offsetgroup": "Fife",
         "orientation": "h",
         "showlegend": true,
         "textposition": "auto",
         "type": "bar",
         "x": [
          7.436399217221135
         ],
         "xaxis": "x",
         "y": [
          5
         ],
         "yaxis": "y"
        },
        {
         "alignmentgroup": "True",
         "hovertemplate": "LAD=Argyll and Bute<br>Percentage Change (2023-2022)=%{x}<br>index=%{y}<extra></extra>",
         "legendgroup": "Argyll and Bute",
         "marker": {
          "color": "#DD4477",
          "pattern": {
           "shape": ""
          }
         },
         "name": "Argyll and Bute",
         "offsetgroup": "Argyll and Bute",
         "orientation": "h",
         "showlegend": true,
         "textposition": "auto",
         "type": "bar",
         "x": [
          6.321839080459771
         ],
         "xaxis": "x",
         "y": [
          6
         ],
         "yaxis": "y"
        },
        {
         "alignmentgroup": "True",
         "hovertemplate": "LAD=East Renfrewshire<br>Percentage Change (2023-2022)=%{x}<br>index=%{y}<extra></extra>",
         "legendgroup": "East Renfrewshire",
         "marker": {
          "color": "#66AA00",
          "pattern": {
           "shape": ""
          }
         },
         "name": "East Renfrewshire",
         "offsetgroup": "East Renfrewshire",
         "orientation": "h",
         "showlegend": true,
         "textposition": "auto",
         "type": "bar",
         "x": [
          5.3097345132743365
         ],
         "xaxis": "x",
         "y": [
          7
         ],
         "yaxis": "y"
        },
        {
         "alignmentgroup": "True",
         "hovertemplate": "LAD=South Ayrshire<br>Percentage Change (2023-2022)=%{x}<br>index=%{y}<extra></extra>",
         "legendgroup": "South Ayrshire",
         "marker": {
          "color": "#B82E2E",
          "pattern": {
           "shape": ""
          }
         },
         "name": "South Ayrshire",
         "offsetgroup": "South Ayrshire",
         "orientation": "h",
         "showlegend": true,
         "textposition": "auto",
         "type": "bar",
         "x": [
          4.55531453362256
         ],
         "xaxis": "x",
         "y": [
          8
         ],
         "yaxis": "y"
        },
        {
         "alignmentgroup": "True",
         "hovertemplate": "LAD=Dundee City<br>Percentage Change (2023-2022)=%{x}<br>index=%{y}<extra></extra>",
         "legendgroup": "Dundee City",
         "marker": {
          "color": "#316395",
          "pattern": {
           "shape": ""
          }
         },
         "name": "Dundee City",
         "offsetgroup": "Dundee City",
         "orientation": "h",
         "showlegend": true,
         "textposition": "auto",
         "type": "bar",
         "x": [
          4.428044280442804
         ],
         "xaxis": "x",
         "y": [
          9
         ],
         "yaxis": "y"
        },
        {
         "alignmentgroup": "True",
         "hovertemplate": "LAD=East Lothian<br>Percentage Change (2023-2022)=%{x}<br>index=%{y}<extra></extra>",
         "legendgroup": "East Lothian",
         "marker": {
          "color": "#3366CC",
          "pattern": {
           "shape": ""
          }
         },
         "name": "East Lothian",
         "offsetgroup": "East Lothian",
         "orientation": "h",
         "showlegend": true,
         "textposition": "auto",
         "type": "bar",
         "x": [
          4.228855721393035
         ],
         "xaxis": "x",
         "y": [
          10
         ],
         "yaxis": "y"
        },
        {
         "alignmentgroup": "True",
         "hovertemplate": "LAD=Renfrewshire<br>Percentage Change (2023-2022)=%{x}<br>index=%{y}<extra></extra>",
         "legendgroup": "Renfrewshire",
         "marker": {
          "color": "#DC3912",
          "pattern": {
           "shape": ""
          }
         },
         "name": "Renfrewshire",
         "offsetgroup": "Renfrewshire",
         "orientation": "h",
         "showlegend": true,
         "textposition": "auto",
         "type": "bar",
         "x": [
          3.462321792260693
         ],
         "xaxis": "x",
         "y": [
          11
         ],
         "yaxis": "y"
        },
        {
         "alignmentgroup": "True",
         "hovertemplate": "LAD=Moray<br>Percentage Change (2023-2022)=%{x}<br>index=%{y}<extra></extra>",
         "legendgroup": "Moray",
         "marker": {
          "color": "#FF9900",
          "pattern": {
           "shape": ""
          }
         },
         "name": "Moray",
         "offsetgroup": "Moray",
         "orientation": "h",
         "showlegend": true,
         "textposition": "auto",
         "type": "bar",
         "x": [
          3.015075376884422
         ],
         "xaxis": "x",
         "y": [
          12
         ],
         "yaxis": "y"
        },
        {
         "alignmentgroup": "True",
         "hovertemplate": "LAD=Glasgow City<br>Percentage Change (2023-2022)=%{x}<br>index=%{y}<extra></extra>",
         "legendgroup": "Glasgow City",
         "marker": {
          "color": "#109618",
          "pattern": {
           "shape": ""
          }
         },
         "name": "Glasgow City",
         "offsetgroup": "Glasgow City",
         "orientation": "h",
         "showlegend": true,
         "textposition": "auto",
         "type": "bar",
         "x": [
          2.600780234070221
         ],
         "xaxis": "x",
         "y": [
          13
         ],
         "yaxis": "y"
        },
        {
         "alignmentgroup": "True",
         "hovertemplate": "LAD=South Lanarkshire<br>Percentage Change (2023-2022)=%{x}<br>index=%{y}<extra></extra>",
         "legendgroup": "South Lanarkshire",
         "marker": {
          "color": "#990099",
          "pattern": {
           "shape": ""
          }
         },
         "name": "South Lanarkshire",
         "offsetgroup": "South Lanarkshire",
         "orientation": "h",
         "showlegend": true,
         "textposition": "auto",
         "type": "bar",
         "x": [
          1.6632016632016633
         ],
         "xaxis": "x",
         "y": [
          14
         ],
         "yaxis": "y"
        },
        {
         "alignmentgroup": "True",
         "hovertemplate": "LAD=North Lanarkshire<br>Percentage Change (2023-2022)=%{x}<br>index=%{y}<extra></extra>",
         "legendgroup": "North Lanarkshire",
         "marker": {
          "color": "#0099C6",
          "pattern": {
           "shape": ""
          }
         },
         "name": "North Lanarkshire",
         "offsetgroup": "North Lanarkshire",
         "orientation": "h",
         "showlegend": true,
         "textposition": "auto",
         "type": "bar",
         "x": [
          0.5494505494505495
         ],
         "xaxis": "x",
         "y": [
          15
         ],
         "yaxis": "y"
        },
        {
         "alignmentgroup": "True",
         "hovertemplate": "LAD=Perth and Kinross<br>Percentage Change (2023-2022)=%{x}<br>index=%{y}<extra></extra>",
         "legendgroup": "Perth and Kinross",
         "marker": {
          "color": "#DD4477",
          "pattern": {
           "shape": ""
          }
         },
         "name": "Perth and Kinross",
         "offsetgroup": "Perth and Kinross",
         "orientation": "h",
         "showlegend": true,
         "textposition": "auto",
         "type": "bar",
         "x": [
          0.5235602094240838
         ],
         "xaxis": "x",
         "y": [
          16
         ],
         "yaxis": "y"
        },
        {
         "alignmentgroup": "True",
         "hovertemplate": "LAD=City of Edinburgh<br>Percentage Change (2023-2022)=%{x}<br>index=%{y}<extra></extra>",
         "legendgroup": "City of Edinburgh",
         "marker": {
          "color": "#66AA00",
          "pattern": {
           "shape": ""
          }
         },
         "name": "City of Edinburgh",
         "offsetgroup": "City of Edinburgh",
         "orientation": "h",
         "showlegend": true,
         "textposition": "auto",
         "type": "bar",
         "x": [
          0.4934210526315789
         ],
         "xaxis": "x",
         "y": [
          17
         ],
         "yaxis": "y"
        },
        {
         "alignmentgroup": "True",
         "hovertemplate": "LAD=West Lothian<br>Percentage Change (2023-2022)=%{x}<br>index=%{y}<extra></extra>",
         "legendgroup": "West Lothian",
         "marker": {
          "color": "#B82E2E",
          "pattern": {
           "shape": ""
          }
         },
         "name": "West Lothian",
         "offsetgroup": "West Lothian",
         "orientation": "h",
         "showlegend": true,
         "textposition": "auto",
         "type": "bar",
         "x": [
          0.20161290322580644
         ],
         "xaxis": "x",
         "y": [
          18
         ],
         "yaxis": "y"
        },
        {
         "alignmentgroup": "True",
         "hovertemplate": "LAD=Midlothian<br>Percentage Change (2023-2022)=%{x}<br>index=%{y}<extra></extra>",
         "legendgroup": "Midlothian",
         "marker": {
          "color": "#316395",
          "pattern": {
           "shape": ""
          }
         },
         "name": "Midlothian",
         "offsetgroup": "Midlothian",
         "orientation": "h",
         "showlegend": true,
         "textposition": "auto",
         "type": "bar",
         "x": [
          -0.6329113924050633
         ],
         "xaxis": "x",
         "y": [
          19
         ],
         "yaxis": "y"
        },
        {
         "alignmentgroup": "True",
         "hovertemplate": "LAD=Aberdeenshire<br>Percentage Change (2023-2022)=%{x}<br>index=%{y}<extra></extra>",
         "legendgroup": "Aberdeenshire",
         "marker": {
          "color": "#3366CC",
          "pattern": {
           "shape": ""
          }
         },
         "name": "Aberdeenshire",
         "offsetgroup": "Aberdeenshire",
         "orientation": "h",
         "showlegend": true,
         "textposition": "auto",
         "type": "bar",
         "x": [
          -1.2903225806451613
         ],
         "xaxis": "x",
         "y": [
          20
         ],
         "yaxis": "y"
        },
        {
         "alignmentgroup": "True",
         "hovertemplate": "LAD=Falkirk<br>Percentage Change (2023-2022)=%{x}<br>index=%{y}<extra></extra>",
         "legendgroup": "Falkirk",
         "marker": {
          "color": "#DC3912",
          "pattern": {
           "shape": ""
          }
         },
         "name": "Falkirk",
         "offsetgroup": "Falkirk",
         "orientation": "h",
         "showlegend": true,
         "textposition": "auto",
         "type": "bar",
         "x": [
          -2.0161290322580645
         ],
         "xaxis": "x",
         "y": [
          21
         ],
         "yaxis": "y"
        },
        {
         "alignmentgroup": "True",
         "hovertemplate": "LAD=North Ayrshire<br>Percentage Change (2023-2022)=%{x}<br>index=%{y}<extra></extra>",
         "legendgroup": "North Ayrshire",
         "marker": {
          "color": "#FF9900",
          "pattern": {
           "shape": ""
          }
         },
         "name": "North Ayrshire",
         "offsetgroup": "North Ayrshire",
         "orientation": "h",
         "showlegend": true,
         "textposition": "auto",
         "type": "bar",
         "x": [
          -2.10727969348659
         ],
         "xaxis": "x",
         "y": [
          22
         ],
         "yaxis": "y"
        },
        {
         "alignmentgroup": "True",
         "hovertemplate": "LAD=Angus<br>Percentage Change (2023-2022)=%{x}<br>index=%{y}<extra></extra>",
         "legendgroup": "Angus",
         "marker": {
          "color": "#109618",
          "pattern": {
           "shape": ""
          }
         },
         "name": "Angus",
         "offsetgroup": "Angus",
         "orientation": "h",
         "showlegend": true,
         "textposition": "auto",
         "type": "bar",
         "x": [
          -2.2058823529411766
         ],
         "xaxis": "x",
         "y": [
          23
         ],
         "yaxis": "y"
        },
        {
         "alignmentgroup": "True",
         "hovertemplate": "LAD=West Dunbartonshire<br>Percentage Change (2023-2022)=%{x}<br>index=%{y}<extra></extra>",
         "legendgroup": "West Dunbartonshire",
         "marker": {
          "color": "#990099",
          "pattern": {
           "shape": ""
          }
         },
         "name": "West Dunbartonshire",
         "offsetgroup": "West Dunbartonshire",
         "orientation": "h",
         "showlegend": true,
         "textposition": "auto",
         "type": "bar",
         "x": [
          -2.479338842975207
         ],
         "xaxis": "x",
         "y": [
          24
         ],
         "yaxis": "y"
        },
        {
         "alignmentgroup": "True",
         "hovertemplate": "LAD=Clackmannanshire<br>Percentage Change (2023-2022)=%{x}<br>index=%{y}<extra></extra>",
         "legendgroup": "Clackmannanshire",
         "marker": {
          "color": "#0099C6",
          "pattern": {
           "shape": ""
          }
         },
         "name": "Clackmannanshire",
         "offsetgroup": "Clackmannanshire",
         "orientation": "h",
         "showlegend": true,
         "textposition": "auto",
         "type": "bar",
         "x": [
          -2.9684601113172544
         ],
         "xaxis": "x",
         "y": [
          25
         ],
         "yaxis": "y"
        },
        {
         "alignmentgroup": "True",
         "hovertemplate": "LAD=East Dunbartonshire<br>Percentage Change (2023-2022)=%{x}<br>index=%{y}<extra></extra>",
         "legendgroup": "East Dunbartonshire",
         "marker": {
          "color": "#DD4477",
          "pattern": {
           "shape": ""
          }
         },
         "name": "East Dunbartonshire",
         "offsetgroup": "East Dunbartonshire",
         "orientation": "h",
         "showlegend": true,
         "textposition": "auto",
         "type": "bar",
         "x": [
          -3.787878787878788
         ],
         "xaxis": "x",
         "y": [
          26
         ],
         "yaxis": "y"
        },
        {
         "alignmentgroup": "True",
         "hovertemplate": "LAD=East Ayrshire<br>Percentage Change (2023-2022)=%{x}<br>index=%{y}<extra></extra>",
         "legendgroup": "East Ayrshire",
         "marker": {
          "color": "#66AA00",
          "pattern": {
           "shape": ""
          }
         },
         "name": "East Ayrshire",
         "offsetgroup": "East Ayrshire",
         "orientation": "h",
         "showlegend": true,
         "textposition": "auto",
         "type": "bar",
         "x": [
          -3.795066413662239
         ],
         "xaxis": "x",
         "y": [
          27
         ],
         "yaxis": "y"
        },
        {
         "alignmentgroup": "True",
         "hovertemplate": "LAD=Aberdeen City<br>Percentage Change (2023-2022)=%{x}<br>index=%{y}<extra></extra>",
         "legendgroup": "Aberdeen City",
         "marker": {
          "color": "#B82E2E",
          "pattern": {
           "shape": ""
          }
         },
         "name": "Aberdeen City",
         "offsetgroup": "Aberdeen City",
         "orientation": "h",
         "showlegend": true,
         "textposition": "auto",
         "type": "bar",
         "x": [
          -6.195965417867435
         ],
         "xaxis": "x",
         "y": [
          28
         ],
         "yaxis": "y"
        },
        {
         "alignmentgroup": "True",
         "hovertemplate": "LAD=Scottish Borders<br>Percentage Change (2023-2022)=%{x}<br>index=%{y}<extra></extra>",
         "legendgroup": "Scottish Borders",
         "marker": {
          "color": "#316395",
          "pattern": {
           "shape": ""
          }
         },
         "name": "Scottish Borders",
         "offsetgroup": "Scottish Borders",
         "orientation": "h",
         "showlegend": true,
         "textposition": "auto",
         "type": "bar",
         "x": [
          -6.872037914691943
         ],
         "xaxis": "x",
         "y": [
          29
         ],
         "yaxis": "y"
        },
        {
         "alignmentgroup": "True",
         "hovertemplate": "LAD=Dumfries and Galloway<br>Percentage Change (2023-2022)=%{x}<br>index=%{y}<extra></extra>",
         "legendgroup": "Dumfries and Galloway",
         "marker": {
          "color": "#3366CC",
          "pattern": {
           "shape": ""
          }
         },
         "name": "Dumfries and Galloway",
         "offsetgroup": "Dumfries and Galloway",
         "orientation": "h",
         "showlegend": true,
         "textposition": "auto",
         "type": "bar",
         "x": [
          -10.207612456747404
         ],
         "xaxis": "x",
         "y": [
          30
         ],
         "yaxis": "y"
        },
        {
         "alignmentgroup": "True",
         "hovertemplate": "LAD=Stirling<br>Percentage Change (2023-2022)=%{x}<br>index=%{y}<extra></extra>",
         "legendgroup": "Stirling",
         "marker": {
          "color": "#DC3912",
          "pattern": {
           "shape": ""
          }
         },
         "name": "Stirling",
         "offsetgroup": "Stirling",
         "orientation": "h",
         "showlegend": true,
         "textposition": "auto",
         "type": "bar",
         "x": [
          -10.250569476082005
         ],
         "xaxis": "x",
         "y": [
          31
         ],
         "yaxis": "y"
        }
       ],
       "layout": {
        "barmode": "relative",
        "legend": {
         "title": {
          "text": "LAD"
         },
         "tracegroupgap": 0
        },
        "template": {
         "data": {
          "bar": [
           {
            "error_x": {
             "color": "#2a3f5f"
            },
            "error_y": {
             "color": "#2a3f5f"
            },
            "marker": {
             "line": {
              "color": "#E5ECF6",
              "width": 0.5
             },
             "pattern": {
              "fillmode": "overlay",
              "size": 10,
              "solidity": 0.2
             }
            },
            "type": "bar"
           }
          ],
          "barpolar": [
           {
            "marker": {
             "line": {
              "color": "#E5ECF6",
              "width": 0.5
             },
             "pattern": {
              "fillmode": "overlay",
              "size": 10,
              "solidity": 0.2
             }
            },
            "type": "barpolar"
           }
          ],
          "carpet": [
           {
            "aaxis": {
             "endlinecolor": "#2a3f5f",
             "gridcolor": "white",
             "linecolor": "white",
             "minorgridcolor": "white",
             "startlinecolor": "#2a3f5f"
            },
            "baxis": {
             "endlinecolor": "#2a3f5f",
             "gridcolor": "white",
             "linecolor": "white",
             "minorgridcolor": "white",
             "startlinecolor": "#2a3f5f"
            },
            "type": "carpet"
           }
          ],
          "choropleth": [
           {
            "colorbar": {
             "outlinewidth": 0,
             "ticks": ""
            },
            "type": "choropleth"
           }
          ],
          "contour": [
           {
            "colorbar": {
             "outlinewidth": 0,
             "ticks": ""
            },
            "colorscale": [
             [
              0,
              "#0d0887"
             ],
             [
              0.1111111111111111,
              "#46039f"
             ],
             [
              0.2222222222222222,
              "#7201a8"
             ],
             [
              0.3333333333333333,
              "#9c179e"
             ],
             [
              0.4444444444444444,
              "#bd3786"
             ],
             [
              0.5555555555555556,
              "#d8576b"
             ],
             [
              0.6666666666666666,
              "#ed7953"
             ],
             [
              0.7777777777777778,
              "#fb9f3a"
             ],
             [
              0.8888888888888888,
              "#fdca26"
             ],
             [
              1,
              "#f0f921"
             ]
            ],
            "type": "contour"
           }
          ],
          "contourcarpet": [
           {
            "colorbar": {
             "outlinewidth": 0,
             "ticks": ""
            },
            "type": "contourcarpet"
           }
          ],
          "heatmap": [
           {
            "colorbar": {
             "outlinewidth": 0,
             "ticks": ""
            },
            "colorscale": [
             [
              0,
              "#0d0887"
             ],
             [
              0.1111111111111111,
              "#46039f"
             ],
             [
              0.2222222222222222,
              "#7201a8"
             ],
             [
              0.3333333333333333,
              "#9c179e"
             ],
             [
              0.4444444444444444,
              "#bd3786"
             ],
             [
              0.5555555555555556,
              "#d8576b"
             ],
             [
              0.6666666666666666,
              "#ed7953"
             ],
             [
              0.7777777777777778,
              "#fb9f3a"
             ],
             [
              0.8888888888888888,
              "#fdca26"
             ],
             [
              1,
              "#f0f921"
             ]
            ],
            "type": "heatmap"
           }
          ],
          "heatmapgl": [
           {
            "colorbar": {
             "outlinewidth": 0,
             "ticks": ""
            },
            "colorscale": [
             [
              0,
              "#0d0887"
             ],
             [
              0.1111111111111111,
              "#46039f"
             ],
             [
              0.2222222222222222,
              "#7201a8"
             ],
             [
              0.3333333333333333,
              "#9c179e"
             ],
             [
              0.4444444444444444,
              "#bd3786"
             ],
             [
              0.5555555555555556,
              "#d8576b"
             ],
             [
              0.6666666666666666,
              "#ed7953"
             ],
             [
              0.7777777777777778,
              "#fb9f3a"
             ],
             [
              0.8888888888888888,
              "#fdca26"
             ],
             [
              1,
              "#f0f921"
             ]
            ],
            "type": "heatmapgl"
           }
          ],
          "histogram": [
           {
            "marker": {
             "pattern": {
              "fillmode": "overlay",
              "size": 10,
              "solidity": 0.2
             }
            },
            "type": "histogram"
           }
          ],
          "histogram2d": [
           {
            "colorbar": {
             "outlinewidth": 0,
             "ticks": ""
            },
            "colorscale": [
             [
              0,
              "#0d0887"
             ],
             [
              0.1111111111111111,
              "#46039f"
             ],
             [
              0.2222222222222222,
              "#7201a8"
             ],
             [
              0.3333333333333333,
              "#9c179e"
             ],
             [
              0.4444444444444444,
              "#bd3786"
             ],
             [
              0.5555555555555556,
              "#d8576b"
             ],
             [
              0.6666666666666666,
              "#ed7953"
             ],
             [
              0.7777777777777778,
              "#fb9f3a"
             ],
             [
              0.8888888888888888,
              "#fdca26"
             ],
             [
              1,
              "#f0f921"
             ]
            ],
            "type": "histogram2d"
           }
          ],
          "histogram2dcontour": [
           {
            "colorbar": {
             "outlinewidth": 0,
             "ticks": ""
            },
            "colorscale": [
             [
              0,
              "#0d0887"
             ],
             [
              0.1111111111111111,
              "#46039f"
             ],
             [
              0.2222222222222222,
              "#7201a8"
             ],
             [
              0.3333333333333333,
              "#9c179e"
             ],
             [
              0.4444444444444444,
              "#bd3786"
             ],
             [
              0.5555555555555556,
              "#d8576b"
             ],
             [
              0.6666666666666666,
              "#ed7953"
             ],
             [
              0.7777777777777778,
              "#fb9f3a"
             ],
             [
              0.8888888888888888,
              "#fdca26"
             ],
             [
              1,
              "#f0f921"
             ]
            ],
            "type": "histogram2dcontour"
           }
          ],
          "mesh3d": [
           {
            "colorbar": {
             "outlinewidth": 0,
             "ticks": ""
            },
            "type": "mesh3d"
           }
          ],
          "parcoords": [
           {
            "line": {
             "colorbar": {
              "outlinewidth": 0,
              "ticks": ""
             }
            },
            "type": "parcoords"
           }
          ],
          "pie": [
           {
            "automargin": true,
            "type": "pie"
           }
          ],
          "scatter": [
           {
            "fillpattern": {
             "fillmode": "overlay",
             "size": 10,
             "solidity": 0.2
            },
            "type": "scatter"
           }
          ],
          "scatter3d": [
           {
            "line": {
             "colorbar": {
              "outlinewidth": 0,
              "ticks": ""
             }
            },
            "marker": {
             "colorbar": {
              "outlinewidth": 0,
              "ticks": ""
             }
            },
            "type": "scatter3d"
           }
          ],
          "scattercarpet": [
           {
            "marker": {
             "colorbar": {
              "outlinewidth": 0,
              "ticks": ""
             }
            },
            "type": "scattercarpet"
           }
          ],
          "scattergeo": [
           {
            "marker": {
             "colorbar": {
              "outlinewidth": 0,
              "ticks": ""
             }
            },
            "type": "scattergeo"
           }
          ],
          "scattergl": [
           {
            "marker": {
             "colorbar": {
              "outlinewidth": 0,
              "ticks": ""
             }
            },
            "type": "scattergl"
           }
          ],
          "scattermapbox": [
           {
            "marker": {
             "colorbar": {
              "outlinewidth": 0,
              "ticks": ""
             }
            },
            "type": "scattermapbox"
           }
          ],
          "scatterpolar": [
           {
            "marker": {
             "colorbar": {
              "outlinewidth": 0,
              "ticks": ""
             }
            },
            "type": "scatterpolar"
           }
          ],
          "scatterpolargl": [
           {
            "marker": {
             "colorbar": {
              "outlinewidth": 0,
              "ticks": ""
             }
            },
            "type": "scatterpolargl"
           }
          ],
          "scatterternary": [
           {
            "marker": {
             "colorbar": {
              "outlinewidth": 0,
              "ticks": ""
             }
            },
            "type": "scatterternary"
           }
          ],
          "surface": [
           {
            "colorbar": {
             "outlinewidth": 0,
             "ticks": ""
            },
            "colorscale": [
             [
              0,
              "#0d0887"
             ],
             [
              0.1111111111111111,
              "#46039f"
             ],
             [
              0.2222222222222222,
              "#7201a8"
             ],
             [
              0.3333333333333333,
              "#9c179e"
             ],
             [
              0.4444444444444444,
              "#bd3786"
             ],
             [
              0.5555555555555556,
              "#d8576b"
             ],
             [
              0.6666666666666666,
              "#ed7953"
             ],
             [
              0.7777777777777778,
              "#fb9f3a"
             ],
             [
              0.8888888888888888,
              "#fdca26"
             ],
             [
              1,
              "#f0f921"
             ]
            ],
            "type": "surface"
           }
          ],
          "table": [
           {
            "cells": {
             "fill": {
              "color": "#EBF0F8"
             },
             "line": {
              "color": "white"
             }
            },
            "header": {
             "fill": {
              "color": "#C8D4E3"
             },
             "line": {
              "color": "white"
             }
            },
            "type": "table"
           }
          ]
         },
         "layout": {
          "annotationdefaults": {
           "arrowcolor": "#2a3f5f",
           "arrowhead": 0,
           "arrowwidth": 1
          },
          "autotypenumbers": "strict",
          "coloraxis": {
           "colorbar": {
            "outlinewidth": 0,
            "ticks": ""
           }
          },
          "colorscale": {
           "diverging": [
            [
             0,
             "#8e0152"
            ],
            [
             0.1,
             "#c51b7d"
            ],
            [
             0.2,
             "#de77ae"
            ],
            [
             0.3,
             "#f1b6da"
            ],
            [
             0.4,
             "#fde0ef"
            ],
            [
             0.5,
             "#f7f7f7"
            ],
            [
             0.6,
             "#e6f5d0"
            ],
            [
             0.7,
             "#b8e186"
            ],
            [
             0.8,
             "#7fbc41"
            ],
            [
             0.9,
             "#4d9221"
            ],
            [
             1,
             "#276419"
            ]
           ],
           "sequential": [
            [
             0,
             "#0d0887"
            ],
            [
             0.1111111111111111,
             "#46039f"
            ],
            [
             0.2222222222222222,
             "#7201a8"
            ],
            [
             0.3333333333333333,
             "#9c179e"
            ],
            [
             0.4444444444444444,
             "#bd3786"
            ],
            [
             0.5555555555555556,
             "#d8576b"
            ],
            [
             0.6666666666666666,
             "#ed7953"
            ],
            [
             0.7777777777777778,
             "#fb9f3a"
            ],
            [
             0.8888888888888888,
             "#fdca26"
            ],
            [
             1,
             "#f0f921"
            ]
           ],
           "sequentialminus": [
            [
             0,
             "#0d0887"
            ],
            [
             0.1111111111111111,
             "#46039f"
            ],
            [
             0.2222222222222222,
             "#7201a8"
            ],
            [
             0.3333333333333333,
             "#9c179e"
            ],
            [
             0.4444444444444444,
             "#bd3786"
            ],
            [
             0.5555555555555556,
             "#d8576b"
            ],
            [
             0.6666666666666666,
             "#ed7953"
            ],
            [
             0.7777777777777778,
             "#fb9f3a"
            ],
            [
             0.8888888888888888,
             "#fdca26"
            ],
            [
             1,
             "#f0f921"
            ]
           ]
          },
          "colorway": [
           "#636efa",
           "#EF553B",
           "#00cc96",
           "#ab63fa",
           "#FFA15A",
           "#19d3f3",
           "#FF6692",
           "#B6E880",
           "#FF97FF",
           "#FECB52"
          ],
          "font": {
           "color": "#2a3f5f"
          },
          "geo": {
           "bgcolor": "white",
           "lakecolor": "white",
           "landcolor": "#E5ECF6",
           "showlakes": true,
           "showland": true,
           "subunitcolor": "white"
          },
          "hoverlabel": {
           "align": "left"
          },
          "hovermode": "closest",
          "mapbox": {
           "style": "light"
          },
          "paper_bgcolor": "white",
          "plot_bgcolor": "#E5ECF6",
          "polar": {
           "angularaxis": {
            "gridcolor": "white",
            "linecolor": "white",
            "ticks": ""
           },
           "bgcolor": "#E5ECF6",
           "radialaxis": {
            "gridcolor": "white",
            "linecolor": "white",
            "ticks": ""
           }
          },
          "scene": {
           "xaxis": {
            "backgroundcolor": "#E5ECF6",
            "gridcolor": "white",
            "gridwidth": 2,
            "linecolor": "white",
            "showbackground": true,
            "ticks": "",
            "zerolinecolor": "white"
           },
           "yaxis": {
            "backgroundcolor": "#E5ECF6",
            "gridcolor": "white",
            "gridwidth": 2,
            "linecolor": "white",
            "showbackground": true,
            "ticks": "",
            "zerolinecolor": "white"
           },
           "zaxis": {
            "backgroundcolor": "#E5ECF6",
            "gridcolor": "white",
            "gridwidth": 2,
            "linecolor": "white",
            "showbackground": true,
            "ticks": "",
            "zerolinecolor": "white"
           }
          },
          "shapedefaults": {
           "line": {
            "color": "#2a3f5f"
           }
          },
          "ternary": {
           "aaxis": {
            "gridcolor": "white",
            "linecolor": "white",
            "ticks": ""
           },
           "baxis": {
            "gridcolor": "white",
            "linecolor": "white",
            "ticks": ""
           },
           "bgcolor": "#E5ECF6",
           "caxis": {
            "gridcolor": "white",
            "linecolor": "white",
            "ticks": ""
           }
          },
          "title": {
           "x": 0.05
          },
          "xaxis": {
           "automargin": true,
           "gridcolor": "white",
           "linecolor": "white",
           "ticks": "",
           "title": {
            "standoff": 15
           },
           "zerolinecolor": "white",
           "zerolinewidth": 2
          },
          "yaxis": {
           "automargin": true,
           "gridcolor": "white",
           "linecolor": "white",
           "ticks": "",
           "title": {
            "standoff": 15
           },
           "zerolinecolor": "white",
           "zerolinewidth": 2
          }
         }
        },
        "title": {
         "text": "Percentage Change in Crime Rates from 2022/2023 to 2021/2022"
        },
        "xaxis": {
         "anchor": "y",
         "domain": [
          0,
          1
         ],
         "title": {
          "text": "Percentage Change (2023-2022)"
         }
        },
        "yaxis": {
         "anchor": "x",
         "domain": [
          0,
          1
         ],
         "title": {
          "text": "index"
         }
        }
       }
      }
     },
     "metadata": {},
     "output_type": "display_data"
    }
   ],
   "source": [
    "# Question 2: Which counties show highest increase and decrease in crime rates, over the past two years?\n",
    "# Here I will select all crimes and calculate percentage changes between the last two years, for each county\n",
    "all_crimes_df = crimes_ratios_df[crimes_ratios_df[\"Crime\"]==\"All Crimes\"]\n",
    "all_crimes_pivoted_df = pd.pivot_table(all_crimes_df, values=\"Value\", index=[\"LAD\"], columns=\"Date\")\n",
    "all_crimes_pivoted_df[\"Percentage Change (2023-2022)\"] = ((all_crimes_pivoted_df[\"2022/2023\"] - all_crimes_pivoted_df[\"2021/2022\"])  / all_crimes_pivoted_df[\"2021/2022\"] ) * 100\n",
    "\n",
    "# Here I am plotting the bar graph of percentage changes\n",
    "fig = px.bar(data_frame=all_crimes_pivoted_df.sort_values(\"Percentage Change (2023-2022)\", ascending=False).reset_index(),\n",
    "             x=\"Percentage Change (2023-2022)\", color=\"LAD\",\n",
    "             color_discrete_sequence=px.colors.qualitative.G10,\n",
    "             title=\"Percentage Change in Crime Rates from 2022/2023 to 2021/2022\")\n",
    "fig.show()\n",
    "fig.write_html(\"assets/percent_change_crimes.html\", default_width=\"100%\", default_height=\"100%\")"
   ]
  },
  {
   "cell_type": "code",
   "execution_count": 7,
   "metadata": {},
   "outputs": [
    {
     "data": {
      "application/vnd.plotly.v1+json": {
       "config": {
        "plotlyServerURL": "https://plot.ly"
       },
       "data": [
        {
         "alignmentgroup": "True",
         "hovertemplate": "Crime=Coronavirus Restrictions<br>LAD=%{x}<br>Value=%{y}<extra></extra>",
         "legendgroup": "Coronavirus Restrictions",
         "marker": {
          "color": "#00cc96",
          "pattern": {
           "shape": ""
          }
         },
         "name": "Coronavirus Restrictions",
         "offsetgroup": "Coronavirus Restrictions",
         "orientation": "v",
         "showlegend": true,
         "textposition": "auto",
         "type": "bar",
         "x": [
          "East Renfrewshire",
          "Falkirk",
          "Inverclyde",
          "Orkney Islands",
          "Shetland Islands",
          "Aberdeen City",
          "East Dunbartonshire",
          "Glasgow City"
         ],
         "xaxis": "x",
         "y": [
          0,
          0,
          0,
          0,
          0,
          0,
          0,
          0
         ],
         "yaxis": "y"
        },
        {
         "alignmentgroup": "True",
         "hovertemplate": "Crime=Group 1: Common assault<br>LAD=%{x}<br>Value=%{y}<extra></extra>",
         "legendgroup": "Group 1: Common assault",
         "marker": {
          "color": "#ab63fa",
          "pattern": {
           "shape": ""
          }
         },
         "name": "Group 1: Common assault",
         "offsetgroup": "Group 1: Common assault",
         "orientation": "v",
         "showlegend": true,
         "textposition": "auto",
         "type": "bar",
         "x": [
          "East Renfrewshire",
          "Falkirk",
          "Inverclyde",
          "Orkney Islands",
          "Shetland Islands",
          "Aberdeen City",
          "East Dunbartonshire",
          "Glasgow City"
         ],
         "xaxis": "x",
         "y": [
          38,
          103,
          83,
          43,
          67,
          130,
          41,
          158
         ],
         "yaxis": "y"
        },
        {
         "alignmentgroup": "True",
         "hovertemplate": "Crime=Group 1: Death by dangerous driving<br>LAD=%{x}<br>Value=%{y}<extra></extra>",
         "legendgroup": "Group 1: Death by dangerous driving",
         "marker": {
          "color": "#FFA15A",
          "pattern": {
           "shape": ""
          }
         },
         "name": "Group 1: Death by dangerous driving",
         "offsetgroup": "Group 1: Death by dangerous driving",
         "orientation": "v",
         "showlegend": true,
         "textposition": "auto",
         "type": "bar",
         "x": [
          "East Renfrewshire",
          "Falkirk",
          "Inverclyde",
          "Orkney Islands",
          "Shetland Islands",
          "Aberdeen City",
          "East Dunbartonshire",
          "Glasgow City"
         ],
         "xaxis": "x",
         "y": [
          0,
          0,
          0,
          0,
          0,
          0,
          0,
          0
         ],
         "yaxis": "y"
        },
        {
         "alignmentgroup": "True",
         "hovertemplate": "Crime=Group 1: Domestic Abuse (Scotland) Act 2018<br>LAD=%{x}<br>Value=%{y}<extra></extra>",
         "legendgroup": "Group 1: Domestic Abuse (Scotland) Act 2018",
         "marker": {
          "color": "#19d3f3",
          "pattern": {
           "shape": ""
          }
         },
         "name": "Group 1: Domestic Abuse (Scotland) Act 2018",
         "offsetgroup": "Group 1: Domestic Abuse (Scotland) Act 2018",
         "orientation": "v",
         "showlegend": true,
         "textposition": "auto",
         "type": "bar",
         "x": [
          "East Renfrewshire",
          "Falkirk",
          "Inverclyde",
          "Orkney Islands",
          "Shetland Islands",
          "Aberdeen City",
          "East Dunbartonshire",
          "Glasgow City"
         ],
         "xaxis": "x",
         "y": [
          2,
          3,
          1,
          4,
          0,
          5,
          1,
          3
         ],
         "yaxis": "y"
        },
        {
         "alignmentgroup": "True",
         "hovertemplate": "Crime=Group 1: Murder and culpable homicide<br>LAD=%{x}<br>Value=%{y}<extra></extra>",
         "legendgroup": "Group 1: Murder and culpable homicide",
         "marker": {
          "color": "#FF6692",
          "pattern": {
           "shape": ""
          }
         },
         "name": "Group 1: Murder and culpable homicide",
         "offsetgroup": "Group 1: Murder and culpable homicide",
         "orientation": "v",
         "showlegend": true,
         "textposition": "auto",
         "type": "bar",
         "x": [
          "East Renfrewshire",
          "Falkirk",
          "Inverclyde",
          "Orkney Islands",
          "Shetland Islands",
          "Aberdeen City",
          "East Dunbartonshire",
          "Glasgow City"
         ],
         "xaxis": "x",
         "y": [
          0,
          0,
          0,
          0,
          0,
          0,
          0,
          0
         ],
         "yaxis": "y"
        },
        {
         "alignmentgroup": "True",
         "hovertemplate": "Crime=Group 1: Other non-sexual violence<br>LAD=%{x}<br>Value=%{y}<extra></extra>",
         "legendgroup": "Group 1: Other non-sexual violence",
         "marker": {
          "color": "#B6E880",
          "pattern": {
           "shape": ""
          }
         },
         "name": "Group 1: Other non-sexual violence",
         "offsetgroup": "Group 1: Other non-sexual violence",
         "orientation": "v",
         "showlegend": true,
         "textposition": "auto",
         "type": "bar",
         "x": [
          "East Renfrewshire",
          "Falkirk",
          "Inverclyde",
          "Orkney Islands",
          "Shetland Islands",
          "Aberdeen City",
          "East Dunbartonshire",
          "Glasgow City"
         ],
         "xaxis": "x",
         "y": [
          4,
          8,
          5,
          10,
          7,
          9,
          4,
          9
         ],
         "yaxis": "y"
        },
        {
         "alignmentgroup": "True",
         "hovertemplate": "Crime=Group 1: Robbery<br>LAD=%{x}<br>Value=%{y}<extra></extra>",
         "legendgroup": "Group 1: Robbery",
         "marker": {
          "color": "#FF97FF",
          "pattern": {
           "shape": ""
          }
         },
         "name": "Group 1: Robbery",
         "offsetgroup": "Group 1: Robbery",
         "orientation": "v",
         "showlegend": true,
         "textposition": "auto",
         "type": "bar",
         "x": [
          "East Renfrewshire",
          "Falkirk",
          "Inverclyde",
          "Orkney Islands",
          "Shetland Islands",
          "Aberdeen City",
          "East Dunbartonshire",
          "Glasgow City"
         ],
         "xaxis": "x",
         "y": [
          1,
          3,
          6,
          0,
          0,
          5,
          1,
          5
         ],
         "yaxis": "y"
        },
        {
         "alignmentgroup": "True",
         "hovertemplate": "Crime=Group 1: Serious assault and attempted murder<br>LAD=%{x}<br>Value=%{y}<extra></extra>",
         "legendgroup": "Group 1: Serious assault and attempted murder",
         "marker": {
          "color": "#FECB52",
          "pattern": {
           "shape": ""
          }
         },
         "name": "Group 1: Serious assault and attempted murder",
         "offsetgroup": "Group 1: Serious assault and attempted murder",
         "orientation": "v",
         "showlegend": true,
         "textposition": "auto",
         "type": "bar",
         "x": [
          "East Renfrewshire",
          "Falkirk",
          "Inverclyde",
          "Orkney Islands",
          "Shetland Islands",
          "Aberdeen City",
          "East Dunbartonshire",
          "Glasgow City"
         ],
         "xaxis": "x",
         "y": [
          2,
          4,
          9,
          2,
          4,
          10,
          3,
          11
         ],
         "yaxis": "y"
        },
        {
         "alignmentgroup": "True",
         "hovertemplate": "Crime=Group 2: Causing to view sexual activity or images<br>LAD=%{x}<br>Value=%{y}<extra></extra>",
         "legendgroup": "Group 2: Causing to view sexual activity or images",
         "marker": {
          "color": "#636efa",
          "pattern": {
           "shape": ""
          }
         },
         "name": "Group 2: Causing to view sexual activity or images",
         "offsetgroup": "Group 2: Causing to view sexual activity or images",
         "orientation": "v",
         "showlegend": true,
         "textposition": "auto",
         "type": "bar",
         "x": [
          "East Renfrewshire",
          "Falkirk",
          "Inverclyde",
          "Orkney Islands",
          "Shetland Islands",
          "Aberdeen City",
          "East Dunbartonshire",
          "Glasgow City"
         ],
         "xaxis": "x",
         "y": [
          2,
          3,
          1,
          6,
          3,
          5,
          2,
          5
         ],
         "yaxis": "y"
        },
        {
         "alignmentgroup": "True",
         "hovertemplate": "Crime=Group 2: Communicating indecently<br>LAD=%{x}<br>Value=%{y}<extra></extra>",
         "legendgroup": "Group 2: Communicating indecently",
         "marker": {
          "color": "#EF553B",
          "pattern": {
           "shape": ""
          }
         },
         "name": "Group 2: Communicating indecently",
         "offsetgroup": "Group 2: Communicating indecently",
         "orientation": "v",
         "showlegend": true,
         "textposition": "auto",
         "type": "bar",
         "x": [
          "East Renfrewshire",
          "Falkirk",
          "Inverclyde",
          "Orkney Islands",
          "Shetland Islands",
          "Aberdeen City",
          "East Dunbartonshire",
          "Glasgow City"
         ],
         "xaxis": "x",
         "y": [
          1,
          1,
          2,
          3,
          1,
          3,
          2,
          4
         ],
         "yaxis": "y"
        },
        {
         "alignmentgroup": "True",
         "hovertemplate": "Crime=Group 2: Indecent photos of children<br>LAD=%{x}<br>Value=%{y}<extra></extra>",
         "legendgroup": "Group 2: Indecent photos of children",
         "marker": {
          "color": "#ab63fa",
          "pattern": {
           "shape": ""
          }
         },
         "name": "Group 2: Indecent photos of children",
         "offsetgroup": "Group 2: Indecent photos of children",
         "orientation": "v",
         "showlegend": true,
         "textposition": "auto",
         "type": "bar",
         "x": [
          "East Renfrewshire",
          "Falkirk",
          "Inverclyde",
          "Orkney Islands",
          "Shetland Islands",
          "Aberdeen City",
          "East Dunbartonshire",
          "Glasgow City"
         ],
         "xaxis": "x",
         "y": [
          0,
          1,
          1,
          1,
          3,
          2,
          1,
          1
         ],
         "yaxis": "y"
        },
        {
         "alignmentgroup": "True",
         "hovertemplate": "Crime=Group 2: Other sexual crimes<br>LAD=%{x}<br>Value=%{y}<extra></extra>",
         "legendgroup": "Group 2: Other sexual crimes",
         "marker": {
          "color": "#FFA15A",
          "pattern": {
           "shape": ""
          }
         },
         "name": "Group 2: Other sexual crimes",
         "offsetgroup": "Group 2: Other sexual crimes",
         "orientation": "v",
         "showlegend": true,
         "textposition": "auto",
         "type": "bar",
         "x": [
          "East Renfrewshire",
          "Falkirk",
          "Inverclyde",
          "Orkney Islands",
          "Shetland Islands",
          "Aberdeen City",
          "East Dunbartonshire",
          "Glasgow City"
         ],
         "xaxis": "x",
         "y": [
          1,
          2,
          1,
          8,
          3,
          4,
          1,
          3
         ],
         "yaxis": "y"
        },
        {
         "alignmentgroup": "True",
         "hovertemplate": "Crime=Group 2: Rape & attempted rape<br>LAD=%{x}<br>Value=%{y}<extra></extra>",
         "legendgroup": "Group 2: Rape & attempted rape",
         "marker": {
          "color": "#19d3f3",
          "pattern": {
           "shape": ""
          }
         },
         "name": "Group 2: Rape & attempted rape",
         "offsetgroup": "Group 2: Rape & attempted rape",
         "orientation": "v",
         "showlegend": true,
         "textposition": "auto",
         "type": "bar",
         "x": [
          "East Renfrewshire",
          "Falkirk",
          "Inverclyde",
          "Orkney Islands",
          "Shetland Islands",
          "Aberdeen City",
          "East Dunbartonshire",
          "Glasgow City"
         ],
         "xaxis": "x",
         "y": [
          2,
          4,
          3,
          7,
          2,
          4,
          2,
          5
         ],
         "yaxis": "y"
        },
        {
         "alignmentgroup": "True",
         "hovertemplate": "Crime=Group 2: Sexual assault<br>LAD=%{x}<br>Value=%{y}<extra></extra>",
         "legendgroup": "Group 2: Sexual assault",
         "marker": {
          "color": "#FF6692",
          "pattern": {
           "shape": ""
          }
         },
         "name": "Group 2: Sexual assault",
         "offsetgroup": "Group 2: Sexual assault",
         "orientation": "v",
         "showlegend": true,
         "textposition": "auto",
         "type": "bar",
         "x": [
          "East Renfrewshire",
          "Falkirk",
          "Inverclyde",
          "Orkney Islands",
          "Shetland Islands",
          "Aberdeen City",
          "East Dunbartonshire",
          "Glasgow City"
         ],
         "xaxis": "x",
         "y": [
          5,
          8,
          7,
          13,
          11,
          12,
          4,
          12
         ],
         "yaxis": "y"
        },
        {
         "alignmentgroup": "True",
         "hovertemplate": "Crime=Group 2: Threatening to or disclosing intimate images<br>LAD=%{x}<br>Value=%{y}<extra></extra>",
         "legendgroup": "Group 2: Threatening to or disclosing intimate images",
         "marker": {
          "color": "#B6E880",
          "pattern": {
           "shape": ""
          }
         },
         "name": "Group 2: Threatening to or disclosing intimate images",
         "offsetgroup": "Group 2: Threatening to or disclosing intimate images",
         "orientation": "v",
         "showlegend": true,
         "textposition": "auto",
         "type": "bar",
         "x": [
          "East Renfrewshire",
          "Falkirk",
          "Inverclyde",
          "Orkney Islands",
          "Shetland Islands",
          "Aberdeen City",
          "East Dunbartonshire",
          "Glasgow City"
         ],
         "xaxis": "x",
         "y": [
          1,
          1,
          1,
          2,
          2,
          2,
          1,
          1
         ],
         "yaxis": "y"
        },
        {
         "alignmentgroup": "True",
         "hovertemplate": "Crime=Group 3: Fraud<br>LAD=%{x}<br>Value=%{y}<extra></extra>",
         "legendgroup": "Group 3: Fraud",
         "marker": {
          "color": "#FF97FF",
          "pattern": {
           "shape": ""
          }
         },
         "name": "Group 3: Fraud",
         "offsetgroup": "Group 3: Fraud",
         "orientation": "v",
         "showlegend": true,
         "textposition": "auto",
         "type": "bar",
         "x": [
          "East Renfrewshire",
          "Falkirk",
          "Inverclyde",
          "Orkney Islands",
          "Shetland Islands",
          "Aberdeen City",
          "East Dunbartonshire",
          "Glasgow City"
         ],
         "xaxis": "x",
         "y": [
          22,
          29,
          20,
          13,
          20,
          41,
          20,
          46
         ],
         "yaxis": "y"
        },
        {
         "alignmentgroup": "True",
         "hovertemplate": "Crime=Group 3: Housebreaking<br>LAD=%{x}<br>Value=%{y}<extra></extra>",
         "legendgroup": "Group 3: Housebreaking",
         "marker": {
          "color": "#FECB52",
          "pattern": {
           "shape": ""
          }
         },
         "name": "Group 3: Housebreaking",
         "offsetgroup": "Group 3: Housebreaking",
         "orientation": "v",
         "showlegend": true,
         "textposition": "auto",
         "type": "bar",
         "x": [
          "East Renfrewshire",
          "Falkirk",
          "Inverclyde",
          "Orkney Islands",
          "Shetland Islands",
          "Aberdeen City",
          "East Dunbartonshire",
          "Glasgow City"
         ],
         "xaxis": "x",
         "y": [
          13,
          14,
          19,
          2,
          3,
          15,
          10,
          19
         ],
         "yaxis": "y"
        },
        {
         "alignmentgroup": "True",
         "hovertemplate": "Crime=Group 3: Other dishonesty<br>LAD=%{x}<br>Value=%{y}<extra></extra>",
         "legendgroup": "Group 3: Other dishonesty",
         "marker": {
          "color": "#636efa",
          "pattern": {
           "shape": ""
          }
         },
         "name": "Group 3: Other dishonesty",
         "offsetgroup": "Group 3: Other dishonesty",
         "orientation": "v",
         "showlegend": true,
         "textposition": "auto",
         "type": "bar",
         "x": [
          "East Renfrewshire",
          "Falkirk",
          "Inverclyde",
          "Orkney Islands",
          "Shetland Islands",
          "Aberdeen City",
          "East Dunbartonshire",
          "Glasgow City"
         ],
         "xaxis": "x",
         "y": [
          6,
          3,
          4,
          2,
          2,
          7,
          4,
          9
         ],
         "yaxis": "y"
        },
        {
         "alignmentgroup": "True",
         "hovertemplate": "Crime=Group 3: Other theft<br>LAD=%{x}<br>Value=%{y}<extra></extra>",
         "legendgroup": "Group 3: Other theft",
         "marker": {
          "color": "#EF553B",
          "pattern": {
           "shape": ""
          }
         },
         "name": "Group 3: Other theft",
         "offsetgroup": "Group 3: Other theft",
         "orientation": "v",
         "showlegend": true,
         "textposition": "auto",
         "type": "bar",
         "x": [
          "East Renfrewshire",
          "Falkirk",
          "Inverclyde",
          "Orkney Islands",
          "Shetland Islands",
          "Aberdeen City",
          "East Dunbartonshire",
          "Glasgow City"
         ],
         "xaxis": "x",
         "y": [
          30,
          54,
          54,
          16,
          18,
          83,
          29,
          120
         ],
         "yaxis": "y"
        },
        {
         "alignmentgroup": "True",
         "hovertemplate": "Crime=Group 3: Shoplifting<br>LAD=%{x}<br>Value=%{y}<extra></extra>",
         "legendgroup": "Group 3: Shoplifting",
         "marker": {
          "color": "#00cc96",
          "pattern": {
           "shape": ""
          }
         },
         "name": "Group 3: Shoplifting",
         "offsetgroup": "Group 3: Shoplifting",
         "orientation": "v",
         "showlegend": true,
         "textposition": "auto",
         "type": "bar",
         "x": [
          "East Renfrewshire",
          "Falkirk",
          "Inverclyde",
          "Orkney Islands",
          "Shetland Islands",
          "Aberdeen City",
          "East Dunbartonshire",
          "Glasgow City"
         ],
         "xaxis": "x",
         "y": [
          21,
          48,
          65,
          13,
          8,
          79,
          31,
          63
         ],
         "yaxis": "y"
        },
        {
         "alignmentgroup": "True",
         "hovertemplate": "Crime=Group 3: Theft by opening lockfast places<br>LAD=%{x}<br>Value=%{y}<extra></extra>",
         "legendgroup": "Group 3: Theft by opening lockfast places",
         "marker": {
          "color": "#ab63fa",
          "pattern": {
           "shape": ""
          }
         },
         "name": "Group 3: Theft by opening lockfast places",
         "offsetgroup": "Group 3: Theft by opening lockfast places",
         "orientation": "v",
         "showlegend": true,
         "textposition": "auto",
         "type": "bar",
         "x": [
          "East Renfrewshire",
          "Falkirk",
          "Inverclyde",
          "Orkney Islands",
          "Shetland Islands",
          "Aberdeen City",
          "East Dunbartonshire",
          "Glasgow City"
         ],
         "xaxis": "x",
         "y": [
          1,
          4,
          1,
          0,
          1,
          3,
          2,
          3
         ],
         "yaxis": "y"
        },
        {
         "alignmentgroup": "True",
         "hovertemplate": "Crime=Group 3: Theft from a motor vehicle<br>LAD=%{x}<br>Value=%{y}<extra></extra>",
         "legendgroup": "Group 3: Theft from a motor vehicle",
         "marker": {
          "color": "#FFA15A",
          "pattern": {
           "shape": ""
          }
         },
         "name": "Group 3: Theft from a motor vehicle",
         "offsetgroup": "Group 3: Theft from a motor vehicle",
         "orientation": "v",
         "showlegend": true,
         "textposition": "auto",
         "type": "bar",
         "x": [
          "East Renfrewshire",
          "Falkirk",
          "Inverclyde",
          "Orkney Islands",
          "Shetland Islands",
          "Aberdeen City",
          "East Dunbartonshire",
          "Glasgow City"
         ],
         "xaxis": "x",
         "y": [
          2,
          1,
          1,
          0,
          0,
          3,
          2,
          8
         ],
         "yaxis": "y"
        },
        {
         "alignmentgroup": "True",
         "hovertemplate": "Crime=Group 3: Theft of a motor vehicle<br>LAD=%{x}<br>Value=%{y}<extra></extra>",
         "legendgroup": "Group 3: Theft of a motor vehicle",
         "marker": {
          "color": "#19d3f3",
          "pattern": {
           "shape": ""
          }
         },
         "name": "Group 3: Theft of a motor vehicle",
         "offsetgroup": "Group 3: Theft of a motor vehicle",
         "orientation": "v",
         "showlegend": true,
         "textposition": "auto",
         "type": "bar",
         "x": [
          "East Renfrewshire",
          "Falkirk",
          "Inverclyde",
          "Orkney Islands",
          "Shetland Islands",
          "Aberdeen City",
          "East Dunbartonshire",
          "Glasgow City"
         ],
         "xaxis": "x",
         "y": [
          6,
          8,
          8,
          2,
          2,
          11,
          7,
          14
         ],
         "yaxis": "y"
        },
        {
         "alignmentgroup": "True",
         "hovertemplate": "Crime=Group 4: Fire-raising<br>LAD=%{x}<br>Value=%{y}<extra></extra>",
         "legendgroup": "Group 4: Fire-raising",
         "marker": {
          "color": "#FF6692",
          "pattern": {
           "shape": ""
          }
         },
         "name": "Group 4: Fire-raising",
         "offsetgroup": "Group 4: Fire-raising",
         "orientation": "v",
         "showlegend": true,
         "textposition": "auto",
         "type": "bar",
         "x": [
          "East Renfrewshire",
          "Falkirk",
          "Inverclyde",
          "Orkney Islands",
          "Shetland Islands",
          "Aberdeen City",
          "East Dunbartonshire",
          "Glasgow City"
         ],
         "xaxis": "x",
         "y": [
          3,
          4,
          9,
          4,
          1,
          6,
          2,
          7
         ],
         "yaxis": "y"
        },
        {
         "alignmentgroup": "True",
         "hovertemplate": "Crime=Group 4: Reckless conduct<br>LAD=%{x}<br>Value=%{y}<extra></extra>",
         "legendgroup": "Group 4: Reckless conduct",
         "marker": {
          "color": "#B6E880",
          "pattern": {
           "shape": ""
          }
         },
         "name": "Group 4: Reckless conduct",
         "offsetgroup": "Group 4: Reckless conduct",
         "orientation": "v",
         "showlegend": true,
         "textposition": "auto",
         "type": "bar",
         "x": [
          "East Renfrewshire",
          "Falkirk",
          "Inverclyde",
          "Orkney Islands",
          "Shetland Islands",
          "Aberdeen City",
          "East Dunbartonshire",
          "Glasgow City"
         ],
         "xaxis": "x",
         "y": [
          3,
          7,
          4,
          2,
          2,
          5,
          2,
          11
         ],
         "yaxis": "y"
        },
        {
         "alignmentgroup": "True",
         "hovertemplate": "Crime=Group 4: Vandalism<br>LAD=%{x}<br>Value=%{y}<extra></extra>",
         "legendgroup": "Group 4: Vandalism",
         "marker": {
          "color": "#FF97FF",
          "pattern": {
           "shape": ""
          }
         },
         "name": "Group 4: Vandalism",
         "offsetgroup": "Group 4: Vandalism",
         "orientation": "v",
         "showlegend": true,
         "textposition": "auto",
         "type": "bar",
         "x": [
          "East Renfrewshire",
          "Falkirk",
          "Inverclyde",
          "Orkney Islands",
          "Shetland Islands",
          "Aberdeen City",
          "East Dunbartonshire",
          "Glasgow City"
         ],
         "xaxis": "x",
         "y": [
          37,
          78,
          69,
          29,
          31,
          76,
          32,
          78
         ],
         "yaxis": "y"
        },
        {
         "alignmentgroup": "True",
         "hovertemplate": "Crime=Group 5: Drugs - Possession<br>LAD=%{x}<br>Value=%{y}<extra></extra>",
         "legendgroup": "Group 5: Drugs - Possession",
         "marker": {
          "color": "#636efa",
          "pattern": {
           "shape": ""
          }
         },
         "name": "Group 5: Drugs - Possession",
         "offsetgroup": "Group 5: Drugs - Possession",
         "orientation": "v",
         "showlegend": true,
         "textposition": "auto",
         "type": "bar",
         "x": [
          "East Renfrewshire",
          "Falkirk",
          "Inverclyde",
          "Orkney Islands",
          "Shetland Islands",
          "Aberdeen City",
          "East Dunbartonshire",
          "Glasgow City"
         ],
         "xaxis": "x",
         "y": [
          13,
          28,
          57,
          28,
          56,
          57,
          21,
          72
         ],
         "yaxis": "y"
        },
        {
         "alignmentgroup": "True",
         "hovertemplate": "Crime=Group 5: Drugs - Supply<br>LAD=%{x}<br>Value=%{y}<extra></extra>",
         "legendgroup": "Group 5: Drugs - Supply",
         "marker": {
          "color": "#EF553B",
          "pattern": {
           "shape": ""
          }
         },
         "name": "Group 5: Drugs - Supply",
         "offsetgroup": "Group 5: Drugs - Supply",
         "orientation": "v",
         "showlegend": true,
         "textposition": "auto",
         "type": "bar",
         "x": [
          "East Renfrewshire",
          "Falkirk",
          "Inverclyde",
          "Orkney Islands",
          "Shetland Islands",
          "Aberdeen City",
          "East Dunbartonshire",
          "Glasgow City"
         ],
         "xaxis": "x",
         "y": [
          2,
          7,
          13,
          1,
          6,
          15,
          3,
          12
         ],
         "yaxis": "y"
        },
        {
         "alignmentgroup": "True",
         "hovertemplate": "Crime=Group 5: Other crimes against society<br>LAD=%{x}<br>Value=%{y}<extra></extra>",
         "legendgroup": "Group 5: Other crimes against society",
         "marker": {
          "color": "#00cc96",
          "pattern": {
           "shape": ""
          }
         },
         "name": "Group 5: Other crimes against society",
         "offsetgroup": "Group 5: Other crimes against society",
         "orientation": "v",
         "showlegend": true,
         "textposition": "auto",
         "type": "bar",
         "x": [
          "East Renfrewshire",
          "Falkirk",
          "Inverclyde",
          "Orkney Islands",
          "Shetland Islands",
          "Aberdeen City",
          "East Dunbartonshire",
          "Glasgow City"
         ],
         "xaxis": "x",
         "y": [
          0,
          1,
          0,
          0,
          0,
          0,
          0,
          1
         ],
         "yaxis": "y"
        },
        {
         "alignmentgroup": "True",
         "hovertemplate": "Crime=Group 5: Weapons possession (not used)<br>LAD=%{x}<br>Value=%{y}<extra></extra>",
         "legendgroup": "Group 5: Weapons possession (not used)",
         "marker": {
          "color": "#ab63fa",
          "pattern": {
           "shape": ""
          }
         },
         "name": "Group 5: Weapons possession (not used)",
         "offsetgroup": "Group 5: Weapons possession (not used)",
         "orientation": "v",
         "showlegend": true,
         "textposition": "auto",
         "type": "bar",
         "x": [
          "East Renfrewshire",
          "Falkirk",
          "Inverclyde",
          "Orkney Islands",
          "Shetland Islands",
          "Aberdeen City",
          "East Dunbartonshire",
          "Glasgow City"
         ],
         "xaxis": "x",
         "y": [
          2,
          7,
          9,
          1,
          0,
          6,
          5,
          13
         ],
         "yaxis": "y"
        },
        {
         "alignmentgroup": "True",
         "hovertemplate": "Crime=Group 5: Weapons possession (used)<br>LAD=%{x}<br>Value=%{y}<extra></extra>",
         "legendgroup": "Group 5: Weapons possession (used)",
         "marker": {
          "color": "#FFA15A",
          "pattern": {
           "shape": ""
          }
         },
         "name": "Group 5: Weapons possession (used)",
         "offsetgroup": "Group 5: Weapons possession (used)",
         "orientation": "v",
         "showlegend": true,
         "textposition": "auto",
         "type": "bar",
         "x": [
          "East Renfrewshire",
          "Falkirk",
          "Inverclyde",
          "Orkney Islands",
          "Shetland Islands",
          "Aberdeen City",
          "East Dunbartonshire",
          "Glasgow City"
         ],
         "xaxis": "x",
         "y": [
          6,
          12,
          12,
          1,
          1,
          9,
          6,
          25
         ],
         "yaxis": "y"
        }
       ],
       "layout": {
        "barmode": "stack",
        "legend": {
         "title": {
          "text": "Crime"
         },
         "tracegroupgap": 0
        },
        "template": {
         "data": {
          "bar": [
           {
            "error_x": {
             "color": "#2a3f5f"
            },
            "error_y": {
             "color": "#2a3f5f"
            },
            "marker": {
             "line": {
              "color": "#E5ECF6",
              "width": 0.5
             },
             "pattern": {
              "fillmode": "overlay",
              "size": 10,
              "solidity": 0.2
             }
            },
            "type": "bar"
           }
          ],
          "barpolar": [
           {
            "marker": {
             "line": {
              "color": "#E5ECF6",
              "width": 0.5
             },
             "pattern": {
              "fillmode": "overlay",
              "size": 10,
              "solidity": 0.2
             }
            },
            "type": "barpolar"
           }
          ],
          "carpet": [
           {
            "aaxis": {
             "endlinecolor": "#2a3f5f",
             "gridcolor": "white",
             "linecolor": "white",
             "minorgridcolor": "white",
             "startlinecolor": "#2a3f5f"
            },
            "baxis": {
             "endlinecolor": "#2a3f5f",
             "gridcolor": "white",
             "linecolor": "white",
             "minorgridcolor": "white",
             "startlinecolor": "#2a3f5f"
            },
            "type": "carpet"
           }
          ],
          "choropleth": [
           {
            "colorbar": {
             "outlinewidth": 0,
             "ticks": ""
            },
            "type": "choropleth"
           }
          ],
          "contour": [
           {
            "colorbar": {
             "outlinewidth": 0,
             "ticks": ""
            },
            "colorscale": [
             [
              0,
              "#0d0887"
             ],
             [
              0.1111111111111111,
              "#46039f"
             ],
             [
              0.2222222222222222,
              "#7201a8"
             ],
             [
              0.3333333333333333,
              "#9c179e"
             ],
             [
              0.4444444444444444,
              "#bd3786"
             ],
             [
              0.5555555555555556,
              "#d8576b"
             ],
             [
              0.6666666666666666,
              "#ed7953"
             ],
             [
              0.7777777777777778,
              "#fb9f3a"
             ],
             [
              0.8888888888888888,
              "#fdca26"
             ],
             [
              1,
              "#f0f921"
             ]
            ],
            "type": "contour"
           }
          ],
          "contourcarpet": [
           {
            "colorbar": {
             "outlinewidth": 0,
             "ticks": ""
            },
            "type": "contourcarpet"
           }
          ],
          "heatmap": [
           {
            "colorbar": {
             "outlinewidth": 0,
             "ticks": ""
            },
            "colorscale": [
             [
              0,
              "#0d0887"
             ],
             [
              0.1111111111111111,
              "#46039f"
             ],
             [
              0.2222222222222222,
              "#7201a8"
             ],
             [
              0.3333333333333333,
              "#9c179e"
             ],
             [
              0.4444444444444444,
              "#bd3786"
             ],
             [
              0.5555555555555556,
              "#d8576b"
             ],
             [
              0.6666666666666666,
              "#ed7953"
             ],
             [
              0.7777777777777778,
              "#fb9f3a"
             ],
             [
              0.8888888888888888,
              "#fdca26"
             ],
             [
              1,
              "#f0f921"
             ]
            ],
            "type": "heatmap"
           }
          ],
          "heatmapgl": [
           {
            "colorbar": {
             "outlinewidth": 0,
             "ticks": ""
            },
            "colorscale": [
             [
              0,
              "#0d0887"
             ],
             [
              0.1111111111111111,
              "#46039f"
             ],
             [
              0.2222222222222222,
              "#7201a8"
             ],
             [
              0.3333333333333333,
              "#9c179e"
             ],
             [
              0.4444444444444444,
              "#bd3786"
             ],
             [
              0.5555555555555556,
              "#d8576b"
             ],
             [
              0.6666666666666666,
              "#ed7953"
             ],
             [
              0.7777777777777778,
              "#fb9f3a"
             ],
             [
              0.8888888888888888,
              "#fdca26"
             ],
             [
              1,
              "#f0f921"
             ]
            ],
            "type": "heatmapgl"
           }
          ],
          "histogram": [
           {
            "marker": {
             "pattern": {
              "fillmode": "overlay",
              "size": 10,
              "solidity": 0.2
             }
            },
            "type": "histogram"
           }
          ],
          "histogram2d": [
           {
            "colorbar": {
             "outlinewidth": 0,
             "ticks": ""
            },
            "colorscale": [
             [
              0,
              "#0d0887"
             ],
             [
              0.1111111111111111,
              "#46039f"
             ],
             [
              0.2222222222222222,
              "#7201a8"
             ],
             [
              0.3333333333333333,
              "#9c179e"
             ],
             [
              0.4444444444444444,
              "#bd3786"
             ],
             [
              0.5555555555555556,
              "#d8576b"
             ],
             [
              0.6666666666666666,
              "#ed7953"
             ],
             [
              0.7777777777777778,
              "#fb9f3a"
             ],
             [
              0.8888888888888888,
              "#fdca26"
             ],
             [
              1,
              "#f0f921"
             ]
            ],
            "type": "histogram2d"
           }
          ],
          "histogram2dcontour": [
           {
            "colorbar": {
             "outlinewidth": 0,
             "ticks": ""
            },
            "colorscale": [
             [
              0,
              "#0d0887"
             ],
             [
              0.1111111111111111,
              "#46039f"
             ],
             [
              0.2222222222222222,
              "#7201a8"
             ],
             [
              0.3333333333333333,
              "#9c179e"
             ],
             [
              0.4444444444444444,
              "#bd3786"
             ],
             [
              0.5555555555555556,
              "#d8576b"
             ],
             [
              0.6666666666666666,
              "#ed7953"
             ],
             [
              0.7777777777777778,
              "#fb9f3a"
             ],
             [
              0.8888888888888888,
              "#fdca26"
             ],
             [
              1,
              "#f0f921"
             ]
            ],
            "type": "histogram2dcontour"
           }
          ],
          "mesh3d": [
           {
            "colorbar": {
             "outlinewidth": 0,
             "ticks": ""
            },
            "type": "mesh3d"
           }
          ],
          "parcoords": [
           {
            "line": {
             "colorbar": {
              "outlinewidth": 0,
              "ticks": ""
             }
            },
            "type": "parcoords"
           }
          ],
          "pie": [
           {
            "automargin": true,
            "type": "pie"
           }
          ],
          "scatter": [
           {
            "fillpattern": {
             "fillmode": "overlay",
             "size": 10,
             "solidity": 0.2
            },
            "type": "scatter"
           }
          ],
          "scatter3d": [
           {
            "line": {
             "colorbar": {
              "outlinewidth": 0,
              "ticks": ""
             }
            },
            "marker": {
             "colorbar": {
              "outlinewidth": 0,
              "ticks": ""
             }
            },
            "type": "scatter3d"
           }
          ],
          "scattercarpet": [
           {
            "marker": {
             "colorbar": {
              "outlinewidth": 0,
              "ticks": ""
             }
            },
            "type": "scattercarpet"
           }
          ],
          "scattergeo": [
           {
            "marker": {
             "colorbar": {
              "outlinewidth": 0,
              "ticks": ""
             }
            },
            "type": "scattergeo"
           }
          ],
          "scattergl": [
           {
            "marker": {
             "colorbar": {
              "outlinewidth": 0,
              "ticks": ""
             }
            },
            "type": "scattergl"
           }
          ],
          "scattermapbox": [
           {
            "marker": {
             "colorbar": {
              "outlinewidth": 0,
              "ticks": ""
             }
            },
            "type": "scattermapbox"
           }
          ],
          "scatterpolar": [
           {
            "marker": {
             "colorbar": {
              "outlinewidth": 0,
              "ticks": ""
             }
            },
            "type": "scatterpolar"
           }
          ],
          "scatterpolargl": [
           {
            "marker": {
             "colorbar": {
              "outlinewidth": 0,
              "ticks": ""
             }
            },
            "type": "scatterpolargl"
           }
          ],
          "scatterternary": [
           {
            "marker": {
             "colorbar": {
              "outlinewidth": 0,
              "ticks": ""
             }
            },
            "type": "scatterternary"
           }
          ],
          "surface": [
           {
            "colorbar": {
             "outlinewidth": 0,
             "ticks": ""
            },
            "colorscale": [
             [
              0,
              "#0d0887"
             ],
             [
              0.1111111111111111,
              "#46039f"
             ],
             [
              0.2222222222222222,
              "#7201a8"
             ],
             [
              0.3333333333333333,
              "#9c179e"
             ],
             [
              0.4444444444444444,
              "#bd3786"
             ],
             [
              0.5555555555555556,
              "#d8576b"
             ],
             [
              0.6666666666666666,
              "#ed7953"
             ],
             [
              0.7777777777777778,
              "#fb9f3a"
             ],
             [
              0.8888888888888888,
              "#fdca26"
             ],
             [
              1,
              "#f0f921"
             ]
            ],
            "type": "surface"
           }
          ],
          "table": [
           {
            "cells": {
             "fill": {
              "color": "#EBF0F8"
             },
             "line": {
              "color": "white"
             }
            },
            "header": {
             "fill": {
              "color": "#C8D4E3"
             },
             "line": {
              "color": "white"
             }
            },
            "type": "table"
           }
          ]
         },
         "layout": {
          "annotationdefaults": {
           "arrowcolor": "#2a3f5f",
           "arrowhead": 0,
           "arrowwidth": 1
          },
          "autotypenumbers": "strict",
          "coloraxis": {
           "colorbar": {
            "outlinewidth": 0,
            "ticks": ""
           }
          },
          "colorscale": {
           "diverging": [
            [
             0,
             "#8e0152"
            ],
            [
             0.1,
             "#c51b7d"
            ],
            [
             0.2,
             "#de77ae"
            ],
            [
             0.3,
             "#f1b6da"
            ],
            [
             0.4,
             "#fde0ef"
            ],
            [
             0.5,
             "#f7f7f7"
            ],
            [
             0.6,
             "#e6f5d0"
            ],
            [
             0.7,
             "#b8e186"
            ],
            [
             0.8,
             "#7fbc41"
            ],
            [
             0.9,
             "#4d9221"
            ],
            [
             1,
             "#276419"
            ]
           ],
           "sequential": [
            [
             0,
             "#0d0887"
            ],
            [
             0.1111111111111111,
             "#46039f"
            ],
            [
             0.2222222222222222,
             "#7201a8"
            ],
            [
             0.3333333333333333,
             "#9c179e"
            ],
            [
             0.4444444444444444,
             "#bd3786"
            ],
            [
             0.5555555555555556,
             "#d8576b"
            ],
            [
             0.6666666666666666,
             "#ed7953"
            ],
            [
             0.7777777777777778,
             "#fb9f3a"
            ],
            [
             0.8888888888888888,
             "#fdca26"
            ],
            [
             1,
             "#f0f921"
            ]
           ],
           "sequentialminus": [
            [
             0,
             "#0d0887"
            ],
            [
             0.1111111111111111,
             "#46039f"
            ],
            [
             0.2222222222222222,
             "#7201a8"
            ],
            [
             0.3333333333333333,
             "#9c179e"
            ],
            [
             0.4444444444444444,
             "#bd3786"
            ],
            [
             0.5555555555555556,
             "#d8576b"
            ],
            [
             0.6666666666666666,
             "#ed7953"
            ],
            [
             0.7777777777777778,
             "#fb9f3a"
            ],
            [
             0.8888888888888888,
             "#fdca26"
            ],
            [
             1,
             "#f0f921"
            ]
           ]
          },
          "colorway": [
           "#636efa",
           "#EF553B",
           "#00cc96",
           "#ab63fa",
           "#FFA15A",
           "#19d3f3",
           "#FF6692",
           "#B6E880",
           "#FF97FF",
           "#FECB52"
          ],
          "font": {
           "color": "#2a3f5f"
          },
          "geo": {
           "bgcolor": "white",
           "lakecolor": "white",
           "landcolor": "#E5ECF6",
           "showlakes": true,
           "showland": true,
           "subunitcolor": "white"
          },
          "hoverlabel": {
           "align": "left"
          },
          "hovermode": "closest",
          "mapbox": {
           "style": "light"
          },
          "paper_bgcolor": "white",
          "plot_bgcolor": "#E5ECF6",
          "polar": {
           "angularaxis": {
            "gridcolor": "white",
            "linecolor": "white",
            "ticks": ""
           },
           "bgcolor": "#E5ECF6",
           "radialaxis": {
            "gridcolor": "white",
            "linecolor": "white",
            "ticks": ""
           }
          },
          "scene": {
           "xaxis": {
            "backgroundcolor": "#E5ECF6",
            "gridcolor": "white",
            "gridwidth": 2,
            "linecolor": "white",
            "showbackground": true,
            "ticks": "",
            "zerolinecolor": "white"
           },
           "yaxis": {
            "backgroundcolor": "#E5ECF6",
            "gridcolor": "white",
            "gridwidth": 2,
            "linecolor": "white",
            "showbackground": true,
            "ticks": "",
            "zerolinecolor": "white"
           },
           "zaxis": {
            "backgroundcolor": "#E5ECF6",
            "gridcolor": "white",
            "gridwidth": 2,
            "linecolor": "white",
            "showbackground": true,
            "ticks": "",
            "zerolinecolor": "white"
           }
          },
          "shapedefaults": {
           "line": {
            "color": "#2a3f5f"
           }
          },
          "ternary": {
           "aaxis": {
            "gridcolor": "white",
            "linecolor": "white",
            "ticks": ""
           },
           "baxis": {
            "gridcolor": "white",
            "linecolor": "white",
            "ticks": ""
           },
           "bgcolor": "#E5ECF6",
           "caxis": {
            "gridcolor": "white",
            "linecolor": "white",
            "ticks": ""
           }
          },
          "title": {
           "x": 0.05
          },
          "xaxis": {
           "automargin": true,
           "gridcolor": "white",
           "linecolor": "white",
           "ticks": "",
           "title": {
            "standoff": 15
           },
           "zerolinecolor": "white",
           "zerolinewidth": 2
          },
          "yaxis": {
           "automargin": true,
           "gridcolor": "white",
           "linecolor": "white",
           "ticks": "",
           "title": {
            "standoff": 15
           },
           "zerolinecolor": "white",
           "zerolinewidth": 2
          }
         }
        },
        "title": {
         "text": "Distribution of Different Crime Types in Scottish Counties for 2022/2023"
        },
        "xaxis": {
         "anchor": "y",
         "categoryorder": "category ascending",
         "domain": [
          0,
          1
         ],
         "title": {
          "text": "LAD"
         },
         "type": "category"
        },
        "yaxis": {
         "anchor": "x",
         "domain": [
          0,
          1
         ],
         "title": {
          "text": "Value"
         }
        }
       }
      }
     },
     "metadata": {},
     "output_type": "display_data"
    }
   ],
   "source": [
    "crime_subtypes = crimes_ratios_df[~crimes_ratios_df[\"Crime\"].str.contains('Crimes')]\n",
    "\n",
    "filter_counties = [\"East Dunbartonshire\", \"East Renfrewshire\", \n",
    "                   \"Glasgow City\", \"Aberdeen City\", \n",
    "                   \"Orkney Islands\", \"Shetland Islands\", \n",
    "                   \"Inverclyde\", \"Falkirk\"]\n",
    "\n",
    "crime_subtypes_filtered = crime_subtypes[crime_subtypes[\"LAD\"].isin(filter_counties)]\n",
    "crime_subtypes_filtered = crime_subtypes_filtered[crime_subtypes_filtered[\"Date\"]==\"2022/2023\"]\n",
    "crime_subtypes_filtered.loc[:,\"Crime\"] = crime_subtypes_filtered.Crime.cat.remove_unused_categories()\n",
    "\n",
    "\n",
    "ordered_crimes = parsed_data[1][1:]\n",
    "# Question 3: Which areas have similar crime types?\n",
    "# Stacked Bar Plot\n",
    "fig = px.bar(crime_subtypes_filtered, x=\"LAD\",y=\"Value\", color=\"Crime\", \n",
    "             category_orders={\"Crime\": ordered_crimes},\n",
    "             labels={\"Crime Rates\": \"Crime\"},\n",
    "             title=\"Distribution of Different Crime Types in Scottish Counties for 2022/2023\",\n",
    "             barmode=\"stack\")\n",
    "\n",
    "fig.update_xaxes(type='category', categoryorder='category ascending')\n",
    "\n",
    "# Show the plot\n",
    "fig.show()\n",
    "fig.write_html(\"assets/different_crime_types_2022-2023.html\", default_width=\"100%\", default_height=\"100%\")"
   ]
  },
  {
   "cell_type": "code",
   "execution_count": 10,
   "metadata": {},
   "outputs": [
    {
     "data": {
      "application/vnd.plotly.v1+json": {
       "config": {
        "plotlyServerURL": "https://plot.ly"
       },
       "data": [
        {
         "hovertemplate": "variable=0<br>index=%{x}<br>value=%{y}<extra></extra>",
         "legendgroup": "0",
         "line": {
          "color": "#636efa",
          "dash": "solid"
         },
         "marker": {
          "symbol": "circle"
         },
         "mode": "lines",
         "name": "0",
         "orientation": "v",
         "showlegend": true,
         "type": "scatter",
         "x": [
          0,
          1,
          2,
          3,
          4,
          5,
          6,
          7,
          8,
          9
         ],
         "xaxis": "x",
         "y": [
          896,
          657.0107471525612,
          608.5655570130614,
          486.6834598830616,
          466.06116678977685,
          413.57682595709787,
          378.56429290101187,
          351.17821115883623,
          315.9964497739467,
          294.68965461553165
         ],
         "yaxis": "y"
        }
       ],
       "layout": {
        "legend": {
         "title": {
          "text": "variable"
         },
         "tracegroupgap": 0
        },
        "margin": {
         "t": 60
        },
        "showlegend": false,
        "template": {
         "data": {
          "bar": [
           {
            "error_x": {
             "color": "#2a3f5f"
            },
            "error_y": {
             "color": "#2a3f5f"
            },
            "marker": {
             "line": {
              "color": "#E5ECF6",
              "width": 0.5
             },
             "pattern": {
              "fillmode": "overlay",
              "size": 10,
              "solidity": 0.2
             }
            },
            "type": "bar"
           }
          ],
          "barpolar": [
           {
            "marker": {
             "line": {
              "color": "#E5ECF6",
              "width": 0.5
             },
             "pattern": {
              "fillmode": "overlay",
              "size": 10,
              "solidity": 0.2
             }
            },
            "type": "barpolar"
           }
          ],
          "carpet": [
           {
            "aaxis": {
             "endlinecolor": "#2a3f5f",
             "gridcolor": "white",
             "linecolor": "white",
             "minorgridcolor": "white",
             "startlinecolor": "#2a3f5f"
            },
            "baxis": {
             "endlinecolor": "#2a3f5f",
             "gridcolor": "white",
             "linecolor": "white",
             "minorgridcolor": "white",
             "startlinecolor": "#2a3f5f"
            },
            "type": "carpet"
           }
          ],
          "choropleth": [
           {
            "colorbar": {
             "outlinewidth": 0,
             "ticks": ""
            },
            "type": "choropleth"
           }
          ],
          "contour": [
           {
            "colorbar": {
             "outlinewidth": 0,
             "ticks": ""
            },
            "colorscale": [
             [
              0,
              "#0d0887"
             ],
             [
              0.1111111111111111,
              "#46039f"
             ],
             [
              0.2222222222222222,
              "#7201a8"
             ],
             [
              0.3333333333333333,
              "#9c179e"
             ],
             [
              0.4444444444444444,
              "#bd3786"
             ],
             [
              0.5555555555555556,
              "#d8576b"
             ],
             [
              0.6666666666666666,
              "#ed7953"
             ],
             [
              0.7777777777777778,
              "#fb9f3a"
             ],
             [
              0.8888888888888888,
              "#fdca26"
             ],
             [
              1,
              "#f0f921"
             ]
            ],
            "type": "contour"
           }
          ],
          "contourcarpet": [
           {
            "colorbar": {
             "outlinewidth": 0,
             "ticks": ""
            },
            "type": "contourcarpet"
           }
          ],
          "heatmap": [
           {
            "colorbar": {
             "outlinewidth": 0,
             "ticks": ""
            },
            "colorscale": [
             [
              0,
              "#0d0887"
             ],
             [
              0.1111111111111111,
              "#46039f"
             ],
             [
              0.2222222222222222,
              "#7201a8"
             ],
             [
              0.3333333333333333,
              "#9c179e"
             ],
             [
              0.4444444444444444,
              "#bd3786"
             ],
             [
              0.5555555555555556,
              "#d8576b"
             ],
             [
              0.6666666666666666,
              "#ed7953"
             ],
             [
              0.7777777777777778,
              "#fb9f3a"
             ],
             [
              0.8888888888888888,
              "#fdca26"
             ],
             [
              1,
              "#f0f921"
             ]
            ],
            "type": "heatmap"
           }
          ],
          "heatmapgl": [
           {
            "colorbar": {
             "outlinewidth": 0,
             "ticks": ""
            },
            "colorscale": [
             [
              0,
              "#0d0887"
             ],
             [
              0.1111111111111111,
              "#46039f"
             ],
             [
              0.2222222222222222,
              "#7201a8"
             ],
             [
              0.3333333333333333,
              "#9c179e"
             ],
             [
              0.4444444444444444,
              "#bd3786"
             ],
             [
              0.5555555555555556,
              "#d8576b"
             ],
             [
              0.6666666666666666,
              "#ed7953"
             ],
             [
              0.7777777777777778,
              "#fb9f3a"
             ],
             [
              0.8888888888888888,
              "#fdca26"
             ],
             [
              1,
              "#f0f921"
             ]
            ],
            "type": "heatmapgl"
           }
          ],
          "histogram": [
           {
            "marker": {
             "pattern": {
              "fillmode": "overlay",
              "size": 10,
              "solidity": 0.2
             }
            },
            "type": "histogram"
           }
          ],
          "histogram2d": [
           {
            "colorbar": {
             "outlinewidth": 0,
             "ticks": ""
            },
            "colorscale": [
             [
              0,
              "#0d0887"
             ],
             [
              0.1111111111111111,
              "#46039f"
             ],
             [
              0.2222222222222222,
              "#7201a8"
             ],
             [
              0.3333333333333333,
              "#9c179e"
             ],
             [
              0.4444444444444444,
              "#bd3786"
             ],
             [
              0.5555555555555556,
              "#d8576b"
             ],
             [
              0.6666666666666666,
              "#ed7953"
             ],
             [
              0.7777777777777778,
              "#fb9f3a"
             ],
             [
              0.8888888888888888,
              "#fdca26"
             ],
             [
              1,
              "#f0f921"
             ]
            ],
            "type": "histogram2d"
           }
          ],
          "histogram2dcontour": [
           {
            "colorbar": {
             "outlinewidth": 0,
             "ticks": ""
            },
            "colorscale": [
             [
              0,
              "#0d0887"
             ],
             [
              0.1111111111111111,
              "#46039f"
             ],
             [
              0.2222222222222222,
              "#7201a8"
             ],
             [
              0.3333333333333333,
              "#9c179e"
             ],
             [
              0.4444444444444444,
              "#bd3786"
             ],
             [
              0.5555555555555556,
              "#d8576b"
             ],
             [
              0.6666666666666666,
              "#ed7953"
             ],
             [
              0.7777777777777778,
              "#fb9f3a"
             ],
             [
              0.8888888888888888,
              "#fdca26"
             ],
             [
              1,
              "#f0f921"
             ]
            ],
            "type": "histogram2dcontour"
           }
          ],
          "mesh3d": [
           {
            "colorbar": {
             "outlinewidth": 0,
             "ticks": ""
            },
            "type": "mesh3d"
           }
          ],
          "parcoords": [
           {
            "line": {
             "colorbar": {
              "outlinewidth": 0,
              "ticks": ""
             }
            },
            "type": "parcoords"
           }
          ],
          "pie": [
           {
            "automargin": true,
            "type": "pie"
           }
          ],
          "scatter": [
           {
            "fillpattern": {
             "fillmode": "overlay",
             "size": 10,
             "solidity": 0.2
            },
            "type": "scatter"
           }
          ],
          "scatter3d": [
           {
            "line": {
             "colorbar": {
              "outlinewidth": 0,
              "ticks": ""
             }
            },
            "marker": {
             "colorbar": {
              "outlinewidth": 0,
              "ticks": ""
             }
            },
            "type": "scatter3d"
           }
          ],
          "scattercarpet": [
           {
            "marker": {
             "colorbar": {
              "outlinewidth": 0,
              "ticks": ""
             }
            },
            "type": "scattercarpet"
           }
          ],
          "scattergeo": [
           {
            "marker": {
             "colorbar": {
              "outlinewidth": 0,
              "ticks": ""
             }
            },
            "type": "scattergeo"
           }
          ],
          "scattergl": [
           {
            "marker": {
             "colorbar": {
              "outlinewidth": 0,
              "ticks": ""
             }
            },
            "type": "scattergl"
           }
          ],
          "scattermapbox": [
           {
            "marker": {
             "colorbar": {
              "outlinewidth": 0,
              "ticks": ""
             }
            },
            "type": "scattermapbox"
           }
          ],
          "scatterpolar": [
           {
            "marker": {
             "colorbar": {
              "outlinewidth": 0,
              "ticks": ""
             }
            },
            "type": "scatterpolar"
           }
          ],
          "scatterpolargl": [
           {
            "marker": {
             "colorbar": {
              "outlinewidth": 0,
              "ticks": ""
             }
            },
            "type": "scatterpolargl"
           }
          ],
          "scatterternary": [
           {
            "marker": {
             "colorbar": {
              "outlinewidth": 0,
              "ticks": ""
             }
            },
            "type": "scatterternary"
           }
          ],
          "surface": [
           {
            "colorbar": {
             "outlinewidth": 0,
             "ticks": ""
            },
            "colorscale": [
             [
              0,
              "#0d0887"
             ],
             [
              0.1111111111111111,
              "#46039f"
             ],
             [
              0.2222222222222222,
              "#7201a8"
             ],
             [
              0.3333333333333333,
              "#9c179e"
             ],
             [
              0.4444444444444444,
              "#bd3786"
             ],
             [
              0.5555555555555556,
              "#d8576b"
             ],
             [
              0.6666666666666666,
              "#ed7953"
             ],
             [
              0.7777777777777778,
              "#fb9f3a"
             ],
             [
              0.8888888888888888,
              "#fdca26"
             ],
             [
              1,
              "#f0f921"
             ]
            ],
            "type": "surface"
           }
          ],
          "table": [
           {
            "cells": {
             "fill": {
              "color": "#EBF0F8"
             },
             "line": {
              "color": "white"
             }
            },
            "header": {
             "fill": {
              "color": "#C8D4E3"
             },
             "line": {
              "color": "white"
             }
            },
            "type": "table"
           }
          ]
         },
         "layout": {
          "annotationdefaults": {
           "arrowcolor": "#2a3f5f",
           "arrowhead": 0,
           "arrowwidth": 1
          },
          "autotypenumbers": "strict",
          "coloraxis": {
           "colorbar": {
            "outlinewidth": 0,
            "ticks": ""
           }
          },
          "colorscale": {
           "diverging": [
            [
             0,
             "#8e0152"
            ],
            [
             0.1,
             "#c51b7d"
            ],
            [
             0.2,
             "#de77ae"
            ],
            [
             0.3,
             "#f1b6da"
            ],
            [
             0.4,
             "#fde0ef"
            ],
            [
             0.5,
             "#f7f7f7"
            ],
            [
             0.6,
             "#e6f5d0"
            ],
            [
             0.7,
             "#b8e186"
            ],
            [
             0.8,
             "#7fbc41"
            ],
            [
             0.9,
             "#4d9221"
            ],
            [
             1,
             "#276419"
            ]
           ],
           "sequential": [
            [
             0,
             "#0d0887"
            ],
            [
             0.1111111111111111,
             "#46039f"
            ],
            [
             0.2222222222222222,
             "#7201a8"
            ],
            [
             0.3333333333333333,
             "#9c179e"
            ],
            [
             0.4444444444444444,
             "#bd3786"
            ],
            [
             0.5555555555555556,
             "#d8576b"
            ],
            [
             0.6666666666666666,
             "#ed7953"
            ],
            [
             0.7777777777777778,
             "#fb9f3a"
            ],
            [
             0.8888888888888888,
             "#fdca26"
            ],
            [
             1,
             "#f0f921"
            ]
           ],
           "sequentialminus": [
            [
             0,
             "#0d0887"
            ],
            [
             0.1111111111111111,
             "#46039f"
            ],
            [
             0.2222222222222222,
             "#7201a8"
            ],
            [
             0.3333333333333333,
             "#9c179e"
            ],
            [
             0.4444444444444444,
             "#bd3786"
            ],
            [
             0.5555555555555556,
             "#d8576b"
            ],
            [
             0.6666666666666666,
             "#ed7953"
            ],
            [
             0.7777777777777778,
             "#fb9f3a"
            ],
            [
             0.8888888888888888,
             "#fdca26"
            ],
            [
             1,
             "#f0f921"
            ]
           ]
          },
          "colorway": [
           "#636efa",
           "#EF553B",
           "#00cc96",
           "#ab63fa",
           "#FFA15A",
           "#19d3f3",
           "#FF6692",
           "#B6E880",
           "#FF97FF",
           "#FECB52"
          ],
          "font": {
           "color": "#2a3f5f"
          },
          "geo": {
           "bgcolor": "white",
           "lakecolor": "white",
           "landcolor": "#E5ECF6",
           "showlakes": true,
           "showland": true,
           "subunitcolor": "white"
          },
          "hoverlabel": {
           "align": "left"
          },
          "hovermode": "closest",
          "mapbox": {
           "style": "light"
          },
          "paper_bgcolor": "white",
          "plot_bgcolor": "#E5ECF6",
          "polar": {
           "angularaxis": {
            "gridcolor": "white",
            "linecolor": "white",
            "ticks": ""
           },
           "bgcolor": "#E5ECF6",
           "radialaxis": {
            "gridcolor": "white",
            "linecolor": "white",
            "ticks": ""
           }
          },
          "scene": {
           "xaxis": {
            "backgroundcolor": "#E5ECF6",
            "gridcolor": "white",
            "gridwidth": 2,
            "linecolor": "white",
            "showbackground": true,
            "ticks": "",
            "zerolinecolor": "white"
           },
           "yaxis": {
            "backgroundcolor": "#E5ECF6",
            "gridcolor": "white",
            "gridwidth": 2,
            "linecolor": "white",
            "showbackground": true,
            "ticks": "",
            "zerolinecolor": "white"
           },
           "zaxis": {
            "backgroundcolor": "#E5ECF6",
            "gridcolor": "white",
            "gridwidth": 2,
            "linecolor": "white",
            "showbackground": true,
            "ticks": "",
            "zerolinecolor": "white"
           }
          },
          "shapedefaults": {
           "line": {
            "color": "#2a3f5f"
           }
          },
          "ternary": {
           "aaxis": {
            "gridcolor": "white",
            "linecolor": "white",
            "ticks": ""
           },
           "baxis": {
            "gridcolor": "white",
            "linecolor": "white",
            "ticks": ""
           },
           "bgcolor": "#E5ECF6",
           "caxis": {
            "gridcolor": "white",
            "linecolor": "white",
            "ticks": ""
           }
          },
          "title": {
           "x": 0.05
          },
          "xaxis": {
           "automargin": true,
           "gridcolor": "white",
           "linecolor": "white",
           "ticks": "",
           "title": {
            "standoff": 15
           },
           "zerolinecolor": "white",
           "zerolinewidth": 2
          },
          "yaxis": {
           "automargin": true,
           "gridcolor": "white",
           "linecolor": "white",
           "ticks": "",
           "title": {
            "standoff": 15
           },
           "zerolinecolor": "white",
           "zerolinewidth": 2
          }
         }
        },
        "xaxis": {
         "anchor": "y",
         "domain": [
          0,
          1
         ],
         "title": {
          "text": "Number of Clusters"
         }
        },
        "yaxis": {
         "anchor": "x",
         "domain": [
          0,
          1
         ],
         "title": {
          "text": "WCSS"
         }
        }
       }
      }
     },
     "metadata": {},
     "output_type": "display_data"
    }
   ],
   "source": [
    "# Cluster Analysis to group similar counties based on Crime Type Ratios\n",
    "features = crime_subtypes[crime_subtypes[\"Date\"]==\"2022/2023\"].pivot_table(index=['LAD'], columns='Crime', values='Value', fill_value=0).reset_index()\n",
    "X = features.drop([\"LAD\"], axis=1)\n",
    "# Standardize features\n",
    "scaler = StandardScaler()\n",
    "X_standardized = scaler.fit_transform(X)\n",
    "\n",
    "# Choosing number of clusters by Elbow method\n",
    "wcss = []\n",
    "for i in range(1, 11):\n",
    "    kmeans = KMeans(n_clusters=i, random_state=42, n_init=\"auto\")\n",
    "    kmeans.fit(X_standardized)\n",
    "    wcss.append(kmeans.inertia_)\n",
    "\n",
    "fig = px.line(wcss)\n",
    "fig.update_layout(\n",
    "    xaxis_title=\"Number of Clusters\", yaxis_title=\"WCSS\",\n",
    "    showlegend=False\n",
    ")\n",
    "fig.show()\n"
   ]
  },
  {
   "cell_type": "code",
   "execution_count": 11,
   "metadata": {},
   "outputs": [],
   "source": [
    "\n",
    "# Apply K-means clustering\n",
    "kmeans = KMeans(n_clusters=4, random_state=42, n_init=\"auto\")\n",
    "clusters = kmeans.fit_predict(X_standardized)\n",
    "clusters +=1\n",
    "\n",
    "# Add cluster labels to the dataframe\n",
    "features['Cluster'] = clusters"
   ]
  },
  {
   "cell_type": "code",
   "execution_count": 12,
   "metadata": {},
   "outputs": [
    {
     "data": {
      "application/vnd.plotly.v1+json": {
       "config": {
        "plotlyServerURL": "https://plot.ly"
       },
       "data": [
        {
         "alignmentgroup": "True",
         "hovertemplate": "Crime=Coronavirus Restrictions<br>Cluster=%{x}<br>value=%{y}<extra></extra>",
         "legendgroup": "Coronavirus Restrictions",
         "marker": {
          "color": "#636efa",
          "pattern": {
           "shape": ""
          }
         },
         "name": "Coronavirus Restrictions",
         "offsetgroup": "Coronavirus Restrictions",
         "orientation": "v",
         "showlegend": true,
         "textposition": "auto",
         "type": "bar",
         "x": [
          1,
          2,
          3,
          4
         ],
         "xaxis": "x",
         "y": [
          0,
          0,
          0,
          0
         ],
         "yaxis": "y"
        },
        {
         "alignmentgroup": "True",
         "hovertemplate": "Crime=Group 1: Common assault<br>Cluster=%{x}<br>value=%{y}<extra></extra>",
         "legendgroup": "Group 1: Common assault",
         "marker": {
          "color": "#EF553B",
          "pattern": {
           "shape": ""
          }
         },
         "name": "Group 1: Common assault",
         "offsetgroup": "Group 1: Common assault",
         "orientation": "v",
         "showlegend": true,
         "textposition": "auto",
         "type": "bar",
         "x": [
          1,
          2,
          3,
          4
         ],
         "xaxis": "x",
         "y": [
          39.5,
          134,
          79.45454545454545,
          101.21428571428571
         ],
         "yaxis": "y"
        },
        {
         "alignmentgroup": "True",
         "hovertemplate": "Crime=Group 1: Death by dangerous driving<br>Cluster=%{x}<br>value=%{y}<extra></extra>",
         "legendgroup": "Group 1: Death by dangerous driving",
         "marker": {
          "color": "#00cc96",
          "pattern": {
           "shape": ""
          }
         },
         "name": "Group 1: Death by dangerous driving",
         "offsetgroup": "Group 1: Death by dangerous driving",
         "orientation": "v",
         "showlegend": true,
         "textposition": "auto",
         "type": "bar",
         "x": [
          1,
          2,
          3,
          4
         ],
         "xaxis": "x",
         "y": [
          0,
          0,
          0,
          0
         ],
         "yaxis": "y"
        },
        {
         "alignmentgroup": "True",
         "hovertemplate": "Crime=Group 1: Domestic Abuse (Scotland) Act 2018<br>Cluster=%{x}<br>value=%{y}<extra></extra>",
         "legendgroup": "Group 1: Domestic Abuse (Scotland) Act 2018",
         "marker": {
          "color": "#ab63fa",
          "pattern": {
           "shape": ""
          }
         },
         "name": "Group 1: Domestic Abuse (Scotland) Act 2018",
         "offsetgroup": "Group 1: Domestic Abuse (Scotland) Act 2018",
         "orientation": "v",
         "showlegend": true,
         "textposition": "auto",
         "type": "bar",
         "x": [
          1,
          2,
          3,
          4
         ],
         "xaxis": "x",
         "y": [
          1.5,
          4,
          3.3636363636363638,
          2.7857142857142856
         ],
         "yaxis": "y"
        },
        {
         "alignmentgroup": "True",
         "hovertemplate": "Crime=Group 1: Murder and culpable homicide<br>Cluster=%{x}<br>value=%{y}<extra></extra>",
         "legendgroup": "Group 1: Murder and culpable homicide",
         "marker": {
          "color": "#FFA15A",
          "pattern": {
           "shape": ""
          }
         },
         "name": "Group 1: Murder and culpable homicide",
         "offsetgroup": "Group 1: Murder and culpable homicide",
         "orientation": "v",
         "showlegend": true,
         "textposition": "auto",
         "type": "bar",
         "x": [
          1,
          2,
          3,
          4
         ],
         "xaxis": "x",
         "y": [
          0,
          0,
          0,
          0
         ],
         "yaxis": "y"
        },
        {
         "alignmentgroup": "True",
         "hovertemplate": "Crime=Group 1: Other non-sexual violence<br>Cluster=%{x}<br>value=%{y}<extra></extra>",
         "legendgroup": "Group 1: Other non-sexual violence",
         "marker": {
          "color": "#19d3f3",
          "pattern": {
           "shape": ""
          }
         },
         "name": "Group 1: Other non-sexual violence",
         "offsetgroup": "Group 1: Other non-sexual violence",
         "orientation": "v",
         "showlegend": true,
         "textposition": "auto",
         "type": "bar",
         "x": [
          1,
          2,
          3,
          4
         ],
         "xaxis": "x",
         "y": [
          4,
          9.4,
          7.454545454545454,
          6.785714285714286
         ],
         "yaxis": "y"
        },
        {
         "alignmentgroup": "True",
         "hovertemplate": "Crime=Group 1: Robbery<br>Cluster=%{x}<br>value=%{y}<extra></extra>",
         "legendgroup": "Group 1: Robbery",
         "marker": {
          "color": "#FF6692",
          "pattern": {
           "shape": ""
          }
         },
         "name": "Group 1: Robbery",
         "offsetgroup": "Group 1: Robbery",
         "orientation": "v",
         "showlegend": true,
         "textposition": "auto",
         "type": "bar",
         "x": [
          1,
          2,
          3,
          4
         ],
         "xaxis": "x",
         "y": [
          1,
          5.4,
          1.1818181818181819,
          2.642857142857143
         ],
         "yaxis": "y"
        },
        {
         "alignmentgroup": "True",
         "hovertemplate": "Crime=Group 1: Serious assault and attempted murder<br>Cluster=%{x}<br>value=%{y}<extra></extra>",
         "legendgroup": "Group 1: Serious assault and attempted murder",
         "marker": {
          "color": "#B6E880",
          "pattern": {
           "shape": ""
          }
         },
         "name": "Group 1: Serious assault and attempted murder",
         "offsetgroup": "Group 1: Serious assault and attempted murder",
         "orientation": "v",
         "showlegend": true,
         "textposition": "auto",
         "type": "bar",
         "x": [
          1,
          2,
          3,
          4
         ],
         "xaxis": "x",
         "y": [
          2.5,
          8.8,
          4.7272727272727275,
          6.214285714285714
         ],
         "yaxis": "y"
        },
        {
         "alignmentgroup": "True",
         "hovertemplate": "Crime=Group 2: Causing to view sexual activity or images<br>Cluster=%{x}<br>value=%{y}<extra></extra>",
         "legendgroup": "Group 2: Causing to view sexual activity or images",
         "marker": {
          "color": "#FF97FF",
          "pattern": {
           "shape": ""
          }
         },
         "name": "Group 2: Causing to view sexual activity or images",
         "offsetgroup": "Group 2: Causing to view sexual activity or images",
         "orientation": "v",
         "showlegend": true,
         "textposition": "auto",
         "type": "bar",
         "x": [
          1,
          2,
          3,
          4
         ],
         "xaxis": "x",
         "y": [
          2,
          4.8,
          3.1818181818181817,
          3.0714285714285716
         ],
         "yaxis": "y"
        },
        {
         "alignmentgroup": "True",
         "hovertemplate": "Crime=Group 2: Communicating indecently<br>Cluster=%{x}<br>value=%{y}<extra></extra>",
         "legendgroup": "Group 2: Communicating indecently",
         "marker": {
          "color": "#FECB52",
          "pattern": {
           "shape": ""
          }
         },
         "name": "Group 2: Communicating indecently",
         "offsetgroup": "Group 2: Communicating indecently",
         "orientation": "v",
         "showlegend": true,
         "textposition": "auto",
         "type": "bar",
         "x": [
          1,
          2,
          3,
          4
         ],
         "xaxis": "x",
         "y": [
          1.5,
          3.4,
          2.1818181818181817,
          2.5
         ],
         "yaxis": "y"
        },
        {
         "alignmentgroup": "True",
         "hovertemplate": "Crime=Group 2: Indecent photos of children<br>Cluster=%{x}<br>value=%{y}<extra></extra>",
         "legendgroup": "Group 2: Indecent photos of children",
         "marker": {
          "color": "#636efa",
          "pattern": {
           "shape": ""
          }
         },
         "name": "Group 2: Indecent photos of children",
         "offsetgroup": "Group 2: Indecent photos of children",
         "orientation": "v",
         "showlegend": true,
         "textposition": "auto",
         "type": "bar",
         "x": [
          1,
          2,
          3,
          4
         ],
         "xaxis": "x",
         "y": [
          0.5,
          1.4,
          1.9090909090909092,
          1.1428571428571428
         ],
         "yaxis": "y"
        },
        {
         "alignmentgroup": "True",
         "hovertemplate": "Crime=Group 2: Other sexual crimes<br>Cluster=%{x}<br>value=%{y}<extra></extra>",
         "legendgroup": "Group 2: Other sexual crimes",
         "marker": {
          "color": "#EF553B",
          "pattern": {
           "shape": ""
          }
         },
         "name": "Group 2: Other sexual crimes",
         "offsetgroup": "Group 2: Other sexual crimes",
         "orientation": "v",
         "showlegend": true,
         "textposition": "auto",
         "type": "bar",
         "x": [
          1,
          2,
          3,
          4
         ],
         "xaxis": "x",
         "y": [
          1,
          3.4,
          3.5454545454545454,
          2.142857142857143
         ],
         "yaxis": "y"
        },
        {
         "alignmentgroup": "True",
         "hovertemplate": "Crime=Group 2: Rape & attempted rape<br>Cluster=%{x}<br>value=%{y}<extra></extra>",
         "legendgroup": "Group 2: Rape & attempted rape",
         "marker": {
          "color": "#00cc96",
          "pattern": {
           "shape": ""
          }
         },
         "name": "Group 2: Rape & attempted rape",
         "offsetgroup": "Group 2: Rape & attempted rape",
         "orientation": "v",
         "showlegend": true,
         "textposition": "auto",
         "type": "bar",
         "x": [
          1,
          2,
          3,
          4
         ],
         "xaxis": "x",
         "y": [
          2,
          5.2,
          4.818181818181818,
          4.285714285714286
         ],
         "yaxis": "y"
        },
        {
         "alignmentgroup": "True",
         "hovertemplate": "Crime=Group 2: Sexual assault<br>Cluster=%{x}<br>value=%{y}<extra></extra>",
         "legendgroup": "Group 2: Sexual assault",
         "marker": {
          "color": "#ab63fa",
          "pattern": {
           "shape": ""
          }
         },
         "name": "Group 2: Sexual assault",
         "offsetgroup": "Group 2: Sexual assault",
         "orientation": "v",
         "showlegend": true,
         "textposition": "auto",
         "type": "bar",
         "x": [
          1,
          2,
          3,
          4
         ],
         "xaxis": "x",
         "y": [
          4.5,
          12,
          10.090909090909092,
          8.142857142857142
         ],
         "yaxis": "y"
        },
        {
         "alignmentgroup": "True",
         "hovertemplate": "Crime=Group 2: Threatening to or disclosing intimate images<br>Cluster=%{x}<br>value=%{y}<extra></extra>",
         "legendgroup": "Group 2: Threatening to or disclosing intimate images",
         "marker": {
          "color": "#FFA15A",
          "pattern": {
           "shape": ""
          }
         },
         "name": "Group 2: Threatening to or disclosing intimate images",
         "offsetgroup": "Group 2: Threatening to or disclosing intimate images",
         "orientation": "v",
         "showlegend": true,
         "textposition": "auto",
         "type": "bar",
         "x": [
          1,
          2,
          3,
          4
         ],
         "xaxis": "x",
         "y": [
          1,
          1.6,
          1.4545454545454546,
          1.3571428571428572
         ],
         "yaxis": "y"
        },
        {
         "alignmentgroup": "True",
         "hovertemplate": "Crime=Group 3: Fraud<br>Cluster=%{x}<br>value=%{y}<extra></extra>",
         "legendgroup": "Group 3: Fraud",
         "marker": {
          "color": "#19d3f3",
          "pattern": {
           "shape": ""
          }
         },
         "name": "Group 3: Fraud",
         "offsetgroup": "Group 3: Fraud",
         "orientation": "v",
         "showlegend": true,
         "textposition": "auto",
         "type": "bar",
         "x": [
          1,
          2,
          3,
          4
         ],
         "xaxis": "x",
         "y": [
          21,
          41.6,
          22.09090909090909,
          26.5
         ],
         "yaxis": "y"
        },
        {
         "alignmentgroup": "True",
         "hovertemplate": "Crime=Group 3: Housebreaking<br>Cluster=%{x}<br>value=%{y}<extra></extra>",
         "legendgroup": "Group 3: Housebreaking",
         "marker": {
          "color": "#FF6692",
          "pattern": {
           "shape": ""
          }
         },
         "name": "Group 3: Housebreaking",
         "offsetgroup": "Group 3: Housebreaking",
         "orientation": "v",
         "showlegend": true,
         "textposition": "auto",
         "type": "bar",
         "x": [
          1,
          2,
          3,
          4
         ],
         "xaxis": "x",
         "y": [
          11.5,
          21.6,
          9.090909090909092,
          15.357142857142858
         ],
         "yaxis": "y"
        },
        {
         "alignmentgroup": "True",
         "hovertemplate": "Crime=Group 3: Other dishonesty<br>Cluster=%{x}<br>value=%{y}<extra></extra>",
         "legendgroup": "Group 3: Other dishonesty",
         "marker": {
          "color": "#B6E880",
          "pattern": {
           "shape": ""
          }
         },
         "name": "Group 3: Other dishonesty",
         "offsetgroup": "Group 3: Other dishonesty",
         "orientation": "v",
         "showlegend": true,
         "textposition": "auto",
         "type": "bar",
         "x": [
          1,
          2,
          3,
          4
         ],
         "xaxis": "x",
         "y": [
          5,
          8.6,
          2.6363636363636362,
          6.214285714285714
         ],
         "yaxis": "y"
        },
        {
         "alignmentgroup": "True",
         "hovertemplate": "Crime=Group 3: Other theft<br>Cluster=%{x}<br>value=%{y}<extra></extra>",
         "legendgroup": "Group 3: Other theft",
         "marker": {
          "color": "#FF97FF",
          "pattern": {
           "shape": ""
          }
         },
         "name": "Group 3: Other theft",
         "offsetgroup": "Group 3: Other theft",
         "orientation": "v",
         "showlegend": true,
         "textposition": "auto",
         "type": "bar",
         "x": [
          1,
          2,
          3,
          4
         ],
         "xaxis": "x",
         "y": [
          29.5,
          100.4,
          35.90909090909091,
          55.857142857142854
         ],
         "yaxis": "y"
        },
        {
         "alignmentgroup": "True",
         "hovertemplate": "Crime=Group 3: Shoplifting<br>Cluster=%{x}<br>value=%{y}<extra></extra>",
         "legendgroup": "Group 3: Shoplifting",
         "marker": {
          "color": "#FECB52",
          "pattern": {
           "shape": ""
          }
         },
         "name": "Group 3: Shoplifting",
         "offsetgroup": "Group 3: Shoplifting",
         "orientation": "v",
         "showlegend": true,
         "textposition": "auto",
         "type": "bar",
         "x": [
          1,
          2,
          3,
          4
         ],
         "xaxis": "x",
         "y": [
          26,
          80,
          23.545454545454547,
          52.642857142857146
         ],
         "yaxis": "y"
        },
        {
         "alignmentgroup": "True",
         "hovertemplate": "Crime=Group 3: Theft by opening lockfast places<br>Cluster=%{x}<br>value=%{y}<extra></extra>",
         "legendgroup": "Group 3: Theft by opening lockfast places",
         "marker": {
          "color": "#636efa",
          "pattern": {
           "shape": ""
          }
         },
         "name": "Group 3: Theft by opening lockfast places",
         "offsetgroup": "Group 3: Theft by opening lockfast places",
         "orientation": "v",
         "showlegend": true,
         "textposition": "auto",
         "type": "bar",
         "x": [
          1,
          2,
          3,
          4
         ],
         "xaxis": "x",
         "y": [
          1.5,
          3.2,
          1.8181818181818181,
          2.2142857142857144
         ],
         "yaxis": "y"
        },
        {
         "alignmentgroup": "True",
         "hovertemplate": "Crime=Group 3: Theft from a motor vehicle<br>Cluster=%{x}<br>value=%{y}<extra></extra>",
         "legendgroup": "Group 3: Theft from a motor vehicle",
         "marker": {
          "color": "#EF553B",
          "pattern": {
           "shape": ""
          }
         },
         "name": "Group 3: Theft from a motor vehicle",
         "offsetgroup": "Group 3: Theft from a motor vehicle",
         "orientation": "v",
         "showlegend": true,
         "textposition": "auto",
         "type": "bar",
         "x": [
          1,
          2,
          3,
          4
         ],
         "xaxis": "x",
         "y": [
          2,
          6.6,
          1.0909090909090908,
          2.2857142857142856
         ],
         "yaxis": "y"
        },
        {
         "alignmentgroup": "True",
         "hovertemplate": "Crime=Group 3: Theft of a motor vehicle<br>Cluster=%{x}<br>value=%{y}<extra></extra>",
         "legendgroup": "Group 3: Theft of a motor vehicle",
         "marker": {
          "color": "#00cc96",
          "pattern": {
           "shape": ""
          }
         },
         "name": "Group 3: Theft of a motor vehicle",
         "offsetgroup": "Group 3: Theft of a motor vehicle",
         "orientation": "v",
         "showlegend": true,
         "textposition": "auto",
         "type": "bar",
         "x": [
          1,
          2,
          3,
          4
         ],
         "xaxis": "x",
         "y": [
          6.5,
          14.4,
          4.181818181818182,
          7.857142857142857
         ],
         "yaxis": "y"
        },
        {
         "alignmentgroup": "True",
         "hovertemplate": "Crime=Group 4: Fire-raising<br>Cluster=%{x}<br>value=%{y}<extra></extra>",
         "legendgroup": "Group 4: Fire-raising",
         "marker": {
          "color": "#ab63fa",
          "pattern": {
           "shape": ""
          }
         },
         "name": "Group 4: Fire-raising",
         "offsetgroup": "Group 4: Fire-raising",
         "orientation": "v",
         "showlegend": true,
         "textposition": "auto",
         "type": "bar",
         "x": [
          1,
          2,
          3,
          4
         ],
         "xaxis": "x",
         "y": [
          2.5,
          6.2,
          3.090909090909091,
          5.285714285714286
         ],
         "yaxis": "y"
        },
        {
         "alignmentgroup": "True",
         "hovertemplate": "Crime=Group 4: Reckless conduct<br>Cluster=%{x}<br>value=%{y}<extra></extra>",
         "legendgroup": "Group 4: Reckless conduct",
         "marker": {
          "color": "#FFA15A",
          "pattern": {
           "shape": ""
          }
         },
         "name": "Group 4: Reckless conduct",
         "offsetgroup": "Group 4: Reckless conduct",
         "orientation": "v",
         "showlegend": true,
         "textposition": "auto",
         "type": "bar",
         "x": [
          1,
          2,
          3,
          4
         ],
         "xaxis": "x",
         "y": [
          2.5,
          7.8,
          2.3636363636363638,
          5.785714285714286
         ],
         "yaxis": "y"
        },
        {
         "alignmentgroup": "True",
         "hovertemplate": "Crime=Group 4: Vandalism<br>Cluster=%{x}<br>value=%{y}<extra></extra>",
         "legendgroup": "Group 4: Vandalism",
         "marker": {
          "color": "#19d3f3",
          "pattern": {
           "shape": ""
          }
         },
         "name": "Group 4: Vandalism",
         "offsetgroup": "Group 4: Vandalism",
         "orientation": "v",
         "showlegend": true,
         "textposition": "auto",
         "type": "bar",
         "x": [
          1,
          2,
          3,
          4
         ],
         "xaxis": "x",
         "y": [
          34.5,
          80,
          47.27272727272727,
          72.71428571428571
         ],
         "yaxis": "y"
        },
        {
         "alignmentgroup": "True",
         "hovertemplate": "Crime=Group 5: Drugs - Possession<br>Cluster=%{x}<br>value=%{y}<extra></extra>",
         "legendgroup": "Group 5: Drugs - Possession",
         "marker": {
          "color": "#FF6692",
          "pattern": {
           "shape": ""
          }
         },
         "name": "Group 5: Drugs - Possession",
         "offsetgroup": "Group 5: Drugs - Possession",
         "orientation": "v",
         "showlegend": true,
         "textposition": "auto",
         "type": "bar",
         "x": [
          1,
          2,
          3,
          4
         ],
         "xaxis": "x",
         "y": [
          17,
          44.4,
          35.63636363636363,
          42
         ],
         "yaxis": "y"
        },
        {
         "alignmentgroup": "True",
         "hovertemplate": "Crime=Group 5: Drugs - Supply<br>Cluster=%{x}<br>value=%{y}<extra></extra>",
         "legendgroup": "Group 5: Drugs - Supply",
         "marker": {
          "color": "#B6E880",
          "pattern": {
           "shape": ""
          }
         },
         "name": "Group 5: Drugs - Supply",
         "offsetgroup": "Group 5: Drugs - Supply",
         "orientation": "v",
         "showlegend": true,
         "textposition": "auto",
         "type": "bar",
         "x": [
          1,
          2,
          3,
          4
         ],
         "xaxis": "x",
         "y": [
          2.5,
          10.4,
          4.545454545454546,
          7.357142857142857
         ],
         "yaxis": "y"
        },
        {
         "alignmentgroup": "True",
         "hovertemplate": "Crime=Group 5: Other crimes against society<br>Cluster=%{x}<br>value=%{y}<extra></extra>",
         "legendgroup": "Group 5: Other crimes against society",
         "marker": {
          "color": "#FF97FF",
          "pattern": {
           "shape": ""
          }
         },
         "name": "Group 5: Other crimes against society",
         "offsetgroup": "Group 5: Other crimes against society",
         "orientation": "v",
         "showlegend": true,
         "textposition": "auto",
         "type": "bar",
         "x": [
          1,
          2,
          3,
          4
         ],
         "xaxis": "x",
         "y": [
          0,
          0.4,
          0.18181818181818182,
          0.35714285714285715
         ],
         "yaxis": "y"
        },
        {
         "alignmentgroup": "True",
         "hovertemplate": "Crime=Group 5: Weapons possession (not used)<br>Cluster=%{x}<br>value=%{y}<extra></extra>",
         "legendgroup": "Group 5: Weapons possession (not used)",
         "marker": {
          "color": "#FECB52",
          "pattern": {
           "shape": ""
          }
         },
         "name": "Group 5: Weapons possession (not used)",
         "offsetgroup": "Group 5: Weapons possession (not used)",
         "orientation": "v",
         "showlegend": true,
         "textposition": "auto",
         "type": "bar",
         "x": [
          1,
          2,
          3,
          4
         ],
         "xaxis": "x",
         "y": [
          3.5,
          8,
          3.6363636363636362,
          8.357142857142858
         ],
         "yaxis": "y"
        },
        {
         "alignmentgroup": "True",
         "hovertemplate": "Crime=Group 5: Weapons possession (used)<br>Cluster=%{x}<br>value=%{y}<extra></extra>",
         "legendgroup": "Group 5: Weapons possession (used)",
         "marker": {
          "color": "#636efa",
          "pattern": {
           "shape": ""
          }
         },
         "name": "Group 5: Weapons possession (used)",
         "offsetgroup": "Group 5: Weapons possession (used)",
         "orientation": "v",
         "showlegend": true,
         "textposition": "auto",
         "type": "bar",
         "x": [
          1,
          2,
          3,
          4
         ],
         "xaxis": "x",
         "y": [
          6,
          14,
          4.818181818181818,
          9
         ],
         "yaxis": "y"
        }
       ],
       "layout": {
        "barmode": "stack",
        "legend": {
         "title": {
          "text": "Crime"
         },
         "tracegroupgap": 0
        },
        "margin": {
         "t": 60
        },
        "template": {
         "data": {
          "bar": [
           {
            "error_x": {
             "color": "#2a3f5f"
            },
            "error_y": {
             "color": "#2a3f5f"
            },
            "marker": {
             "line": {
              "color": "#E5ECF6",
              "width": 0.5
             },
             "pattern": {
              "fillmode": "overlay",
              "size": 10,
              "solidity": 0.2
             }
            },
            "type": "bar"
           }
          ],
          "barpolar": [
           {
            "marker": {
             "line": {
              "color": "#E5ECF6",
              "width": 0.5
             },
             "pattern": {
              "fillmode": "overlay",
              "size": 10,
              "solidity": 0.2
             }
            },
            "type": "barpolar"
           }
          ],
          "carpet": [
           {
            "aaxis": {
             "endlinecolor": "#2a3f5f",
             "gridcolor": "white",
             "linecolor": "white",
             "minorgridcolor": "white",
             "startlinecolor": "#2a3f5f"
            },
            "baxis": {
             "endlinecolor": "#2a3f5f",
             "gridcolor": "white",
             "linecolor": "white",
             "minorgridcolor": "white",
             "startlinecolor": "#2a3f5f"
            },
            "type": "carpet"
           }
          ],
          "choropleth": [
           {
            "colorbar": {
             "outlinewidth": 0,
             "ticks": ""
            },
            "type": "choropleth"
           }
          ],
          "contour": [
           {
            "colorbar": {
             "outlinewidth": 0,
             "ticks": ""
            },
            "colorscale": [
             [
              0,
              "#0d0887"
             ],
             [
              0.1111111111111111,
              "#46039f"
             ],
             [
              0.2222222222222222,
              "#7201a8"
             ],
             [
              0.3333333333333333,
              "#9c179e"
             ],
             [
              0.4444444444444444,
              "#bd3786"
             ],
             [
              0.5555555555555556,
              "#d8576b"
             ],
             [
              0.6666666666666666,
              "#ed7953"
             ],
             [
              0.7777777777777778,
              "#fb9f3a"
             ],
             [
              0.8888888888888888,
              "#fdca26"
             ],
             [
              1,
              "#f0f921"
             ]
            ],
            "type": "contour"
           }
          ],
          "contourcarpet": [
           {
            "colorbar": {
             "outlinewidth": 0,
             "ticks": ""
            },
            "type": "contourcarpet"
           }
          ],
          "heatmap": [
           {
            "colorbar": {
             "outlinewidth": 0,
             "ticks": ""
            },
            "colorscale": [
             [
              0,
              "#0d0887"
             ],
             [
              0.1111111111111111,
              "#46039f"
             ],
             [
              0.2222222222222222,
              "#7201a8"
             ],
             [
              0.3333333333333333,
              "#9c179e"
             ],
             [
              0.4444444444444444,
              "#bd3786"
             ],
             [
              0.5555555555555556,
              "#d8576b"
             ],
             [
              0.6666666666666666,
              "#ed7953"
             ],
             [
              0.7777777777777778,
              "#fb9f3a"
             ],
             [
              0.8888888888888888,
              "#fdca26"
             ],
             [
              1,
              "#f0f921"
             ]
            ],
            "type": "heatmap"
           }
          ],
          "heatmapgl": [
           {
            "colorbar": {
             "outlinewidth": 0,
             "ticks": ""
            },
            "colorscale": [
             [
              0,
              "#0d0887"
             ],
             [
              0.1111111111111111,
              "#46039f"
             ],
             [
              0.2222222222222222,
              "#7201a8"
             ],
             [
              0.3333333333333333,
              "#9c179e"
             ],
             [
              0.4444444444444444,
              "#bd3786"
             ],
             [
              0.5555555555555556,
              "#d8576b"
             ],
             [
              0.6666666666666666,
              "#ed7953"
             ],
             [
              0.7777777777777778,
              "#fb9f3a"
             ],
             [
              0.8888888888888888,
              "#fdca26"
             ],
             [
              1,
              "#f0f921"
             ]
            ],
            "type": "heatmapgl"
           }
          ],
          "histogram": [
           {
            "marker": {
             "pattern": {
              "fillmode": "overlay",
              "size": 10,
              "solidity": 0.2
             }
            },
            "type": "histogram"
           }
          ],
          "histogram2d": [
           {
            "colorbar": {
             "outlinewidth": 0,
             "ticks": ""
            },
            "colorscale": [
             [
              0,
              "#0d0887"
             ],
             [
              0.1111111111111111,
              "#46039f"
             ],
             [
              0.2222222222222222,
              "#7201a8"
             ],
             [
              0.3333333333333333,
              "#9c179e"
             ],
             [
              0.4444444444444444,
              "#bd3786"
             ],
             [
              0.5555555555555556,
              "#d8576b"
             ],
             [
              0.6666666666666666,
              "#ed7953"
             ],
             [
              0.7777777777777778,
              "#fb9f3a"
             ],
             [
              0.8888888888888888,
              "#fdca26"
             ],
             [
              1,
              "#f0f921"
             ]
            ],
            "type": "histogram2d"
           }
          ],
          "histogram2dcontour": [
           {
            "colorbar": {
             "outlinewidth": 0,
             "ticks": ""
            },
            "colorscale": [
             [
              0,
              "#0d0887"
             ],
             [
              0.1111111111111111,
              "#46039f"
             ],
             [
              0.2222222222222222,
              "#7201a8"
             ],
             [
              0.3333333333333333,
              "#9c179e"
             ],
             [
              0.4444444444444444,
              "#bd3786"
             ],
             [
              0.5555555555555556,
              "#d8576b"
             ],
             [
              0.6666666666666666,
              "#ed7953"
             ],
             [
              0.7777777777777778,
              "#fb9f3a"
             ],
             [
              0.8888888888888888,
              "#fdca26"
             ],
             [
              1,
              "#f0f921"
             ]
            ],
            "type": "histogram2dcontour"
           }
          ],
          "mesh3d": [
           {
            "colorbar": {
             "outlinewidth": 0,
             "ticks": ""
            },
            "type": "mesh3d"
           }
          ],
          "parcoords": [
           {
            "line": {
             "colorbar": {
              "outlinewidth": 0,
              "ticks": ""
             }
            },
            "type": "parcoords"
           }
          ],
          "pie": [
           {
            "automargin": true,
            "type": "pie"
           }
          ],
          "scatter": [
           {
            "fillpattern": {
             "fillmode": "overlay",
             "size": 10,
             "solidity": 0.2
            },
            "type": "scatter"
           }
          ],
          "scatter3d": [
           {
            "line": {
             "colorbar": {
              "outlinewidth": 0,
              "ticks": ""
             }
            },
            "marker": {
             "colorbar": {
              "outlinewidth": 0,
              "ticks": ""
             }
            },
            "type": "scatter3d"
           }
          ],
          "scattercarpet": [
           {
            "marker": {
             "colorbar": {
              "outlinewidth": 0,
              "ticks": ""
             }
            },
            "type": "scattercarpet"
           }
          ],
          "scattergeo": [
           {
            "marker": {
             "colorbar": {
              "outlinewidth": 0,
              "ticks": ""
             }
            },
            "type": "scattergeo"
           }
          ],
          "scattergl": [
           {
            "marker": {
             "colorbar": {
              "outlinewidth": 0,
              "ticks": ""
             }
            },
            "type": "scattergl"
           }
          ],
          "scattermapbox": [
           {
            "marker": {
             "colorbar": {
              "outlinewidth": 0,
              "ticks": ""
             }
            },
            "type": "scattermapbox"
           }
          ],
          "scatterpolar": [
           {
            "marker": {
             "colorbar": {
              "outlinewidth": 0,
              "ticks": ""
             }
            },
            "type": "scatterpolar"
           }
          ],
          "scatterpolargl": [
           {
            "marker": {
             "colorbar": {
              "outlinewidth": 0,
              "ticks": ""
             }
            },
            "type": "scatterpolargl"
           }
          ],
          "scatterternary": [
           {
            "marker": {
             "colorbar": {
              "outlinewidth": 0,
              "ticks": ""
             }
            },
            "type": "scatterternary"
           }
          ],
          "surface": [
           {
            "colorbar": {
             "outlinewidth": 0,
             "ticks": ""
            },
            "colorscale": [
             [
              0,
              "#0d0887"
             ],
             [
              0.1111111111111111,
              "#46039f"
             ],
             [
              0.2222222222222222,
              "#7201a8"
             ],
             [
              0.3333333333333333,
              "#9c179e"
             ],
             [
              0.4444444444444444,
              "#bd3786"
             ],
             [
              0.5555555555555556,
              "#d8576b"
             ],
             [
              0.6666666666666666,
              "#ed7953"
             ],
             [
              0.7777777777777778,
              "#fb9f3a"
             ],
             [
              0.8888888888888888,
              "#fdca26"
             ],
             [
              1,
              "#f0f921"
             ]
            ],
            "type": "surface"
           }
          ],
          "table": [
           {
            "cells": {
             "fill": {
              "color": "#EBF0F8"
             },
             "line": {
              "color": "white"
             }
            },
            "header": {
             "fill": {
              "color": "#C8D4E3"
             },
             "line": {
              "color": "white"
             }
            },
            "type": "table"
           }
          ]
         },
         "layout": {
          "annotationdefaults": {
           "arrowcolor": "#2a3f5f",
           "arrowhead": 0,
           "arrowwidth": 1
          },
          "autotypenumbers": "strict",
          "coloraxis": {
           "colorbar": {
            "outlinewidth": 0,
            "ticks": ""
           }
          },
          "colorscale": {
           "diverging": [
            [
             0,
             "#8e0152"
            ],
            [
             0.1,
             "#c51b7d"
            ],
            [
             0.2,
             "#de77ae"
            ],
            [
             0.3,
             "#f1b6da"
            ],
            [
             0.4,
             "#fde0ef"
            ],
            [
             0.5,
             "#f7f7f7"
            ],
            [
             0.6,
             "#e6f5d0"
            ],
            [
             0.7,
             "#b8e186"
            ],
            [
             0.8,
             "#7fbc41"
            ],
            [
             0.9,
             "#4d9221"
            ],
            [
             1,
             "#276419"
            ]
           ],
           "sequential": [
            [
             0,
             "#0d0887"
            ],
            [
             0.1111111111111111,
             "#46039f"
            ],
            [
             0.2222222222222222,
             "#7201a8"
            ],
            [
             0.3333333333333333,
             "#9c179e"
            ],
            [
             0.4444444444444444,
             "#bd3786"
            ],
            [
             0.5555555555555556,
             "#d8576b"
            ],
            [
             0.6666666666666666,
             "#ed7953"
            ],
            [
             0.7777777777777778,
             "#fb9f3a"
            ],
            [
             0.8888888888888888,
             "#fdca26"
            ],
            [
             1,
             "#f0f921"
            ]
           ],
           "sequentialminus": [
            [
             0,
             "#0d0887"
            ],
            [
             0.1111111111111111,
             "#46039f"
            ],
            [
             0.2222222222222222,
             "#7201a8"
            ],
            [
             0.3333333333333333,
             "#9c179e"
            ],
            [
             0.4444444444444444,
             "#bd3786"
            ],
            [
             0.5555555555555556,
             "#d8576b"
            ],
            [
             0.6666666666666666,
             "#ed7953"
            ],
            [
             0.7777777777777778,
             "#fb9f3a"
            ],
            [
             0.8888888888888888,
             "#fdca26"
            ],
            [
             1,
             "#f0f921"
            ]
           ]
          },
          "colorway": [
           "#636efa",
           "#EF553B",
           "#00cc96",
           "#ab63fa",
           "#FFA15A",
           "#19d3f3",
           "#FF6692",
           "#B6E880",
           "#FF97FF",
           "#FECB52"
          ],
          "font": {
           "color": "#2a3f5f"
          },
          "geo": {
           "bgcolor": "white",
           "lakecolor": "white",
           "landcolor": "#E5ECF6",
           "showlakes": true,
           "showland": true,
           "subunitcolor": "white"
          },
          "hoverlabel": {
           "align": "left"
          },
          "hovermode": "closest",
          "mapbox": {
           "style": "light"
          },
          "paper_bgcolor": "white",
          "plot_bgcolor": "#E5ECF6",
          "polar": {
           "angularaxis": {
            "gridcolor": "white",
            "linecolor": "white",
            "ticks": ""
           },
           "bgcolor": "#E5ECF6",
           "radialaxis": {
            "gridcolor": "white",
            "linecolor": "white",
            "ticks": ""
           }
          },
          "scene": {
           "xaxis": {
            "backgroundcolor": "#E5ECF6",
            "gridcolor": "white",
            "gridwidth": 2,
            "linecolor": "white",
            "showbackground": true,
            "ticks": "",
            "zerolinecolor": "white"
           },
           "yaxis": {
            "backgroundcolor": "#E5ECF6",
            "gridcolor": "white",
            "gridwidth": 2,
            "linecolor": "white",
            "showbackground": true,
            "ticks": "",
            "zerolinecolor": "white"
           },
           "zaxis": {
            "backgroundcolor": "#E5ECF6",
            "gridcolor": "white",
            "gridwidth": 2,
            "linecolor": "white",
            "showbackground": true,
            "ticks": "",
            "zerolinecolor": "white"
           }
          },
          "shapedefaults": {
           "line": {
            "color": "#2a3f5f"
           }
          },
          "ternary": {
           "aaxis": {
            "gridcolor": "white",
            "linecolor": "white",
            "ticks": ""
           },
           "baxis": {
            "gridcolor": "white",
            "linecolor": "white",
            "ticks": ""
           },
           "bgcolor": "#E5ECF6",
           "caxis": {
            "gridcolor": "white",
            "linecolor": "white",
            "ticks": ""
           }
          },
          "title": {
           "x": 0.05
          },
          "xaxis": {
           "automargin": true,
           "gridcolor": "white",
           "linecolor": "white",
           "ticks": "",
           "title": {
            "standoff": 15
           },
           "zerolinecolor": "white",
           "zerolinewidth": 2
          },
          "yaxis": {
           "automargin": true,
           "gridcolor": "white",
           "linecolor": "white",
           "ticks": "",
           "title": {
            "standoff": 15
           },
           "zerolinecolor": "white",
           "zerolinewidth": 2
          }
         }
        },
        "xaxis": {
         "anchor": "y",
         "domain": [
          0,
          1
         ],
         "tickmode": "array",
         "ticktext": [
          "1",
          "2",
          "3",
          "4"
         ],
         "tickvals": [
          1,
          2,
          3,
          4
         ],
         "title": {
          "text": "Cluster"
         }
        },
        "yaxis": {
         "anchor": "x",
         "domain": [
          0,
          1
         ],
         "title": {
          "text": "Mean Crime Rates"
         }
        }
       }
      }
     },
     "metadata": {},
     "output_type": "display_data"
    }
   ],
   "source": [
    "# Check cluster means and plot\n",
    "kmeans_mean_cluster = features.drop(columns=[\"LAD\"]).groupby(\"Cluster\").mean()\n",
    "fig = px.bar(kmeans_mean_cluster, barmode=\"stack\")\n",
    "fig.update_layout(\n",
    "    xaxis_title=\"Cluster\", yaxis_title=\"Mean Crime Rates\",\n",
    "    xaxis = dict(\n",
    "        tickmode = 'array',\n",
    "        tickvals = [1, 2, 3, 4],\n",
    "        ticktext = ['1', '2', '3', '4']\n",
    "    ))\n",
    "\n",
    "fig.show()\n",
    "fig.write_html(\"assets/cluster_means_2022-2023.html\", default_width=\"100%\", default_height=\"100%\")"
   ]
  },
  {
   "cell_type": "code",
   "execution_count": 13,
   "metadata": {},
   "outputs": [
    {
     "data": {
      "application/vnd.plotly.v1+json": {
       "config": {
        "plotlyServerURL": "https://plot.ly"
       },
       "data": [
        {
         "hovertemplate": "Cluster=2<br>LAD=Aberdeen City<br>Group 1: Common assault=%{x}<br>Group 4: Vandalism=%{y}<extra></extra>",
         "legendgroup": "2, Aberdeen City",
         "marker": {
          "color": "#636efa",
          "symbol": "circle"
         },
         "mode": "markers",
         "name": "2, Aberdeen City",
         "orientation": "v",
         "showlegend": true,
         "type": "scatter",
         "x": [
          130
         ],
         "xaxis": "x",
         "y": [
          76
         ],
         "yaxis": "y"
        },
        {
         "hovertemplate": "Cluster=2<br>LAD=City of Edinburgh<br>Group 1: Common assault=%{x}<br>Group 4: Vandalism=%{y}<extra></extra>",
         "legendgroup": "2, City of Edinburgh",
         "marker": {
          "color": "#636efa",
          "symbol": "cross"
         },
         "mode": "markers",
         "name": "2, City of Edinburgh",
         "orientation": "v",
         "showlegend": true,
         "type": "scatter",
         "x": [
          110
         ],
         "xaxis": "x",
         "y": [
          69
         ],
         "yaxis": "y"
        },
        {
         "hovertemplate": "Cluster=2<br>LAD=Dundee City<br>Group 1: Common assault=%{x}<br>Group 4: Vandalism=%{y}<extra></extra>",
         "legendgroup": "2, Dundee City",
         "marker": {
          "color": "#636efa",
          "symbol": "square"
         },
         "mode": "markers",
         "name": "2, Dundee City",
         "orientation": "v",
         "showlegend": true,
         "type": "scatter",
         "x": [
          155
         ],
         "xaxis": "x",
         "y": [
          102
         ],
         "yaxis": "y"
        },
        {
         "hovertemplate": "Cluster=2<br>LAD=Fife<br>Group 1: Common assault=%{x}<br>Group 4: Vandalism=%{y}<extra></extra>",
         "legendgroup": "2, Fife",
         "marker": {
          "color": "#636efa",
          "symbol": "x"
         },
         "mode": "markers",
         "name": "2, Fife",
         "orientation": "v",
         "showlegend": true,
         "type": "scatter",
         "x": [
          117
         ],
         "xaxis": "x",
         "y": [
          75
         ],
         "yaxis": "y"
        },
        {
         "hovertemplate": "Cluster=2<br>LAD=Glasgow City<br>Group 1: Common assault=%{x}<br>Group 4: Vandalism=%{y}<extra></extra>",
         "legendgroup": "2, Glasgow City",
         "marker": {
          "color": "#636efa",
          "symbol": "cross"
         },
         "mode": "markers",
         "name": "2, Glasgow City",
         "orientation": "v",
         "showlegend": true,
         "type": "scatter",
         "x": [
          158
         ],
         "xaxis": "x",
         "y": [
          78
         ],
         "yaxis": "y"
        },
        {
         "hovertemplate": "Cluster=3<br>LAD=Aberdeenshire<br>Group 1: Common assault=%{x}<br>Group 4: Vandalism=%{y}<extra></extra>",
         "legendgroup": "3, Aberdeenshire",
         "marker": {
          "color": "#EF553B",
          "symbol": "diamond"
         },
         "mode": "markers",
         "name": "3, Aberdeenshire",
         "orientation": "v",
         "showlegend": true,
         "type": "scatter",
         "x": [
          64
         ],
         "xaxis": "x",
         "y": [
          41
         ],
         "yaxis": "y"
        },
        {
         "hovertemplate": "Cluster=3<br>LAD=Angus<br>Group 1: Common assault=%{x}<br>Group 4: Vandalism=%{y}<extra></extra>",
         "legendgroup": "3, Angus",
         "marker": {
          "color": "#EF553B",
          "symbol": "square"
         },
         "mode": "markers",
         "name": "3, Angus",
         "orientation": "v",
         "showlegend": true,
         "type": "scatter",
         "x": [
          90
         ],
         "xaxis": "x",
         "y": [
          53
         ],
         "yaxis": "y"
        },
        {
         "hovertemplate": "Cluster=3<br>LAD=Argyll and Bute<br>Group 1: Common assault=%{x}<br>Group 4: Vandalism=%{y}<extra></extra>",
         "legendgroup": "3, Argyll and Bute",
         "marker": {
          "color": "#EF553B",
          "symbol": "x"
         },
         "mode": "markers",
         "name": "3, Argyll and Bute",
         "orientation": "v",
         "showlegend": true,
         "type": "scatter",
         "x": [
          82
         ],
         "xaxis": "x",
         "y": [
          53
         ],
         "yaxis": "y"
        },
        {
         "hovertemplate": "Cluster=3<br>LAD=Highland<br>Group 1: Common assault=%{x}<br>Group 4: Vandalism=%{y}<extra></extra>",
         "legendgroup": "3, Highland",
         "marker": {
          "color": "#EF553B",
          "symbol": "circle"
         },
         "mode": "markers",
         "name": "3, Highland",
         "orientation": "v",
         "showlegend": true,
         "type": "scatter",
         "x": [
          89
         ],
         "xaxis": "x",
         "y": [
          61
         ],
         "yaxis": "y"
        },
        {
         "hovertemplate": "Cluster=3<br>LAD=Moray<br>Group 1: Common assault=%{x}<br>Group 4: Vandalism=%{y}<extra></extra>",
         "legendgroup": "3, Moray",
         "marker": {
          "color": "#EF553B",
          "symbol": "x"
         },
         "mode": "markers",
         "name": "3, Moray",
         "orientation": "v",
         "showlegend": true,
         "type": "scatter",
         "x": [
          104
         ],
         "xaxis": "x",
         "y": [
          57
         ],
         "yaxis": "y"
        },
        {
         "hovertemplate": "Cluster=3<br>LAD=Na h-Eileanan Siar<br>Group 1: Common assault=%{x}<br>Group 4: Vandalism=%{y}<extra></extra>",
         "legendgroup": "3, Na h-Eileanan Siar",
         "marker": {
          "color": "#EF553B",
          "symbol": "cross"
         },
         "mode": "markers",
         "name": "3, Na h-Eileanan Siar",
         "orientation": "v",
         "showlegend": true,
         "type": "scatter",
         "x": [
          80
         ],
         "xaxis": "x",
         "y": [
          37
         ],
         "yaxis": "y"
        },
        {
         "hovertemplate": "Cluster=3<br>LAD=Orkney Islands<br>Group 1: Common assault=%{x}<br>Group 4: Vandalism=%{y}<extra></extra>",
         "legendgroup": "3, Orkney Islands",
         "marker": {
          "color": "#EF553B",
          "symbol": "square"
         },
         "mode": "markers",
         "name": "3, Orkney Islands",
         "orientation": "v",
         "showlegend": true,
         "type": "scatter",
         "x": [
          43
         ],
         "xaxis": "x",
         "y": [
          29
         ],
         "yaxis": "y"
        },
        {
         "hovertemplate": "Cluster=3<br>LAD=Perth and Kinross<br>Group 1: Common assault=%{x}<br>Group 4: Vandalism=%{y}<extra></extra>",
         "legendgroup": "3, Perth and Kinross",
         "marker": {
          "color": "#EF553B",
          "symbol": "x"
         },
         "mode": "markers",
         "name": "3, Perth and Kinross",
         "orientation": "v",
         "showlegend": true,
         "type": "scatter",
         "x": [
          81
         ],
         "xaxis": "x",
         "y": [
          48
         ],
         "yaxis": "y"
        },
        {
         "hovertemplate": "Cluster=3<br>LAD=Scottish Borders<br>Group 1: Common assault=%{x}<br>Group 4: Vandalism=%{y}<extra></extra>",
         "legendgroup": "3, Scottish Borders",
         "marker": {
          "color": "#EF553B",
          "symbol": "circle"
         },
         "mode": "markers",
         "name": "3, Scottish Borders",
         "orientation": "v",
         "showlegend": true,
         "type": "scatter",
         "x": [
          96
         ],
         "xaxis": "x",
         "y": [
          57
         ],
         "yaxis": "y"
        },
        {
         "hovertemplate": "Cluster=3<br>LAD=Shetland Islands<br>Group 1: Common assault=%{x}<br>Group 4: Vandalism=%{y}<extra></extra>",
         "legendgroup": "3, Shetland Islands",
         "marker": {
          "color": "#EF553B",
          "symbol": "diamond"
         },
         "mode": "markers",
         "name": "3, Shetland Islands",
         "orientation": "v",
         "showlegend": true,
         "type": "scatter",
         "x": [
          67
         ],
         "xaxis": "x",
         "y": [
          31
         ],
         "yaxis": "y"
        },
        {
         "hovertemplate": "Cluster=3<br>LAD=Stirling<br>Group 1: Common assault=%{x}<br>Group 4: Vandalism=%{y}<extra></extra>",
         "legendgroup": "3, Stirling",
         "marker": {
          "color": "#EF553B",
          "symbol": "cross"
         },
         "mode": "markers",
         "name": "3, Stirling",
         "orientation": "v",
         "showlegend": true,
         "type": "scatter",
         "x": [
          78
         ],
         "xaxis": "x",
         "y": [
          53
         ],
         "yaxis": "y"
        },
        {
         "hovertemplate": "Cluster=4<br>LAD=Clackmannanshire<br>Group 1: Common assault=%{x}<br>Group 4: Vandalism=%{y}<extra></extra>",
         "legendgroup": "4, Clackmannanshire",
         "marker": {
          "color": "#00cc96",
          "symbol": "circle"
         },
         "mode": "markers",
         "name": "4, Clackmannanshire",
         "orientation": "v",
         "showlegend": true,
         "type": "scatter",
         "x": [
          111
         ],
         "xaxis": "x",
         "y": [
          75
         ],
         "yaxis": "y"
        },
        {
         "hovertemplate": "Cluster=4<br>LAD=Dumfries and Galloway<br>Group 1: Common assault=%{x}<br>Group 4: Vandalism=%{y}<extra></extra>",
         "legendgroup": "4, Dumfries and Galloway",
         "marker": {
          "color": "#00cc96",
          "symbol": "diamond"
         },
         "mode": "markers",
         "name": "4, Dumfries and Galloway",
         "orientation": "v",
         "showlegend": true,
         "type": "scatter",
         "x": [
          102
         ],
         "xaxis": "x",
         "y": [
          76
         ],
         "yaxis": "y"
        },
        {
         "hovertemplate": "Cluster=4<br>LAD=East Ayrshire<br>Group 1: Common assault=%{x}<br>Group 4: Vandalism=%{y}<extra></extra>",
         "legendgroup": "4, East Ayrshire",
         "marker": {
          "color": "#00cc96",
          "symbol": "x"
         },
         "mode": "markers",
         "name": "4, East Ayrshire",
         "orientation": "v",
         "showlegend": true,
         "type": "scatter",
         "x": [
          109
         ],
         "xaxis": "x",
         "y": [
          77
         ],
         "yaxis": "y"
        },
        {
         "hovertemplate": "Cluster=4<br>LAD=East Lothian<br>Group 1: Common assault=%{x}<br>Group 4: Vandalism=%{y}<extra></extra>",
         "legendgroup": "4, East Lothian",
         "marker": {
          "color": "#00cc96",
          "symbol": "circle"
         },
         "mode": "markers",
         "name": "4, East Lothian",
         "orientation": "v",
         "showlegend": true,
         "type": "scatter",
         "x": [
          91
         ],
         "xaxis": "x",
         "y": [
          63
         ],
         "yaxis": "y"
        },
        {
         "hovertemplate": "Cluster=4<br>LAD=Falkirk<br>Group 1: Common assault=%{x}<br>Group 4: Vandalism=%{y}<extra></extra>",
         "legendgroup": "4, Falkirk",
         "marker": {
          "color": "#00cc96",
          "symbol": "square"
         },
         "mode": "markers",
         "name": "4, Falkirk",
         "orientation": "v",
         "showlegend": true,
         "type": "scatter",
         "x": [
          103
         ],
         "xaxis": "x",
         "y": [
          78
         ],
         "yaxis": "y"
        },
        {
         "hovertemplate": "Cluster=4<br>LAD=Inverclyde<br>Group 1: Common assault=%{x}<br>Group 4: Vandalism=%{y}<extra></extra>",
         "legendgroup": "4, Inverclyde",
         "marker": {
          "color": "#00cc96",
          "symbol": "diamond"
         },
         "mode": "markers",
         "name": "4, Inverclyde",
         "orientation": "v",
         "showlegend": true,
         "type": "scatter",
         "x": [
          83
         ],
         "xaxis": "x",
         "y": [
          69
         ],
         "yaxis": "y"
        },
        {
         "hovertemplate": "Cluster=4<br>LAD=Midlothian<br>Group 1: Common assault=%{x}<br>Group 4: Vandalism=%{y}<extra></extra>",
         "legendgroup": "4, Midlothian",
         "marker": {
          "color": "#00cc96",
          "symbol": "square"
         },
         "mode": "markers",
         "name": "4, Midlothian",
         "orientation": "v",
         "showlegend": true,
         "type": "scatter",
         "x": [
          96
         ],
         "xaxis": "x",
         "y": [
          71
         ],
         "yaxis": "y"
        },
        {
         "hovertemplate": "Cluster=4<br>LAD=North Ayrshire<br>Group 1: Common assault=%{x}<br>Group 4: Vandalism=%{y}<extra></extra>",
         "legendgroup": "4, North Ayrshire",
         "marker": {
          "color": "#00cc96",
          "symbol": "circle"
         },
         "mode": "markers",
         "name": "4, North Ayrshire",
         "orientation": "v",
         "showlegend": true,
         "type": "scatter",
         "x": [
          109
         ],
         "xaxis": "x",
         "y": [
          76
         ],
         "yaxis": "y"
        },
        {
         "hovertemplate": "Cluster=4<br>LAD=North Lanarkshire<br>Group 1: Common assault=%{x}<br>Group 4: Vandalism=%{y}<extra></extra>",
         "legendgroup": "4, North Lanarkshire",
         "marker": {
          "color": "#00cc96",
          "symbol": "diamond"
         },
         "mode": "markers",
         "name": "4, North Lanarkshire",
         "orientation": "v",
         "showlegend": true,
         "type": "scatter",
         "x": [
          102
         ],
         "xaxis": "x",
         "y": [
          80
         ],
         "yaxis": "y"
        },
        {
         "hovertemplate": "Cluster=4<br>LAD=Renfrewshire<br>Group 1: Common assault=%{x}<br>Group 4: Vandalism=%{y}<extra></extra>",
         "legendgroup": "4, Renfrewshire",
         "marker": {
          "color": "#00cc96",
          "symbol": "cross"
         },
         "mode": "markers",
         "name": "4, Renfrewshire",
         "orientation": "v",
         "showlegend": true,
         "type": "scatter",
         "x": [
          91
         ],
         "xaxis": "x",
         "y": [
          64
         ],
         "yaxis": "y"
        },
        {
         "hovertemplate": "Cluster=4<br>LAD=South Ayrshire<br>Group 1: Common assault=%{x}<br>Group 4: Vandalism=%{y}<extra></extra>",
         "legendgroup": "4, South Ayrshire",
         "marker": {
          "color": "#00cc96",
          "symbol": "square"
         },
         "mode": "markers",
         "name": "4, South Ayrshire",
         "orientation": "v",
         "showlegend": true,
         "type": "scatter",
         "x": [
          102
         ],
         "xaxis": "x",
         "y": [
          66
         ],
         "yaxis": "y"
        },
        {
         "hovertemplate": "Cluster=4<br>LAD=South Lanarkshire<br>Group 1: Common assault=%{x}<br>Group 4: Vandalism=%{y}<extra></extra>",
         "legendgroup": "4, South Lanarkshire",
         "marker": {
          "color": "#00cc96",
          "symbol": "x"
         },
         "mode": "markers",
         "name": "4, South Lanarkshire",
         "orientation": "v",
         "showlegend": true,
         "type": "scatter",
         "x": [
          88
         ],
         "xaxis": "x",
         "y": [
          71
         ],
         "yaxis": "y"
        },
        {
         "hovertemplate": "Cluster=4<br>LAD=West Dunbartonshire<br>Group 1: Common assault=%{x}<br>Group 4: Vandalism=%{y}<extra></extra>",
         "legendgroup": "4, West Dunbartonshire",
         "marker": {
          "color": "#00cc96",
          "symbol": "circle"
         },
         "mode": "markers",
         "name": "4, West Dunbartonshire",
         "orientation": "v",
         "showlegend": true,
         "type": "scatter",
         "x": [
          116
         ],
         "xaxis": "x",
         "y": [
          83
         ],
         "yaxis": "y"
        },
        {
         "hovertemplate": "Cluster=4<br>LAD=West Lothian<br>Group 1: Common assault=%{x}<br>Group 4: Vandalism=%{y}<extra></extra>",
         "legendgroup": "4, West Lothian",
         "marker": {
          "color": "#00cc96",
          "symbol": "diamond"
         },
         "mode": "markers",
         "name": "4, West Lothian",
         "orientation": "v",
         "showlegend": true,
         "type": "scatter",
         "x": [
          114
         ],
         "xaxis": "x",
         "y": [
          69
         ],
         "yaxis": "y"
        },
        {
         "hovertemplate": "Cluster=1<br>LAD=East Dunbartonshire<br>Group 1: Common assault=%{x}<br>Group 4: Vandalism=%{y}<extra></extra>",
         "legendgroup": "1, East Dunbartonshire",
         "marker": {
          "color": "#ab63fa",
          "symbol": "cross"
         },
         "mode": "markers",
         "name": "1, East Dunbartonshire",
         "orientation": "v",
         "showlegend": true,
         "type": "scatter",
         "x": [
          41
         ],
         "xaxis": "x",
         "y": [
          32
         ],
         "yaxis": "y"
        },
        {
         "hovertemplate": "Cluster=1<br>LAD=East Renfrewshire<br>Group 1: Common assault=%{x}<br>Group 4: Vandalism=%{y}<extra></extra>",
         "legendgroup": "1, East Renfrewshire",
         "marker": {
          "color": "#ab63fa",
          "symbol": "diamond"
         },
         "mode": "markers",
         "name": "1, East Renfrewshire",
         "orientation": "v",
         "showlegend": true,
         "type": "scatter",
         "x": [
          38
         ],
         "xaxis": "x",
         "y": [
          37
         ],
         "yaxis": "y"
        }
       ],
       "layout": {
        "legend": {
         "title": {
          "text": "Cluster, LAD"
         },
         "tracegroupgap": 0
        },
        "margin": {
         "t": 60
        },
        "template": {
         "data": {
          "bar": [
           {
            "error_x": {
             "color": "#2a3f5f"
            },
            "error_y": {
             "color": "#2a3f5f"
            },
            "marker": {
             "line": {
              "color": "#E5ECF6",
              "width": 0.5
             },
             "pattern": {
              "fillmode": "overlay",
              "size": 10,
              "solidity": 0.2
             }
            },
            "type": "bar"
           }
          ],
          "barpolar": [
           {
            "marker": {
             "line": {
              "color": "#E5ECF6",
              "width": 0.5
             },
             "pattern": {
              "fillmode": "overlay",
              "size": 10,
              "solidity": 0.2
             }
            },
            "type": "barpolar"
           }
          ],
          "carpet": [
           {
            "aaxis": {
             "endlinecolor": "#2a3f5f",
             "gridcolor": "white",
             "linecolor": "white",
             "minorgridcolor": "white",
             "startlinecolor": "#2a3f5f"
            },
            "baxis": {
             "endlinecolor": "#2a3f5f",
             "gridcolor": "white",
             "linecolor": "white",
             "minorgridcolor": "white",
             "startlinecolor": "#2a3f5f"
            },
            "type": "carpet"
           }
          ],
          "choropleth": [
           {
            "colorbar": {
             "outlinewidth": 0,
             "ticks": ""
            },
            "type": "choropleth"
           }
          ],
          "contour": [
           {
            "colorbar": {
             "outlinewidth": 0,
             "ticks": ""
            },
            "colorscale": [
             [
              0,
              "#0d0887"
             ],
             [
              0.1111111111111111,
              "#46039f"
             ],
             [
              0.2222222222222222,
              "#7201a8"
             ],
             [
              0.3333333333333333,
              "#9c179e"
             ],
             [
              0.4444444444444444,
              "#bd3786"
             ],
             [
              0.5555555555555556,
              "#d8576b"
             ],
             [
              0.6666666666666666,
              "#ed7953"
             ],
             [
              0.7777777777777778,
              "#fb9f3a"
             ],
             [
              0.8888888888888888,
              "#fdca26"
             ],
             [
              1,
              "#f0f921"
             ]
            ],
            "type": "contour"
           }
          ],
          "contourcarpet": [
           {
            "colorbar": {
             "outlinewidth": 0,
             "ticks": ""
            },
            "type": "contourcarpet"
           }
          ],
          "heatmap": [
           {
            "colorbar": {
             "outlinewidth": 0,
             "ticks": ""
            },
            "colorscale": [
             [
              0,
              "#0d0887"
             ],
             [
              0.1111111111111111,
              "#46039f"
             ],
             [
              0.2222222222222222,
              "#7201a8"
             ],
             [
              0.3333333333333333,
              "#9c179e"
             ],
             [
              0.4444444444444444,
              "#bd3786"
             ],
             [
              0.5555555555555556,
              "#d8576b"
             ],
             [
              0.6666666666666666,
              "#ed7953"
             ],
             [
              0.7777777777777778,
              "#fb9f3a"
             ],
             [
              0.8888888888888888,
              "#fdca26"
             ],
             [
              1,
              "#f0f921"
             ]
            ],
            "type": "heatmap"
           }
          ],
          "heatmapgl": [
           {
            "colorbar": {
             "outlinewidth": 0,
             "ticks": ""
            },
            "colorscale": [
             [
              0,
              "#0d0887"
             ],
             [
              0.1111111111111111,
              "#46039f"
             ],
             [
              0.2222222222222222,
              "#7201a8"
             ],
             [
              0.3333333333333333,
              "#9c179e"
             ],
             [
              0.4444444444444444,
              "#bd3786"
             ],
             [
              0.5555555555555556,
              "#d8576b"
             ],
             [
              0.6666666666666666,
              "#ed7953"
             ],
             [
              0.7777777777777778,
              "#fb9f3a"
             ],
             [
              0.8888888888888888,
              "#fdca26"
             ],
             [
              1,
              "#f0f921"
             ]
            ],
            "type": "heatmapgl"
           }
          ],
          "histogram": [
           {
            "marker": {
             "pattern": {
              "fillmode": "overlay",
              "size": 10,
              "solidity": 0.2
             }
            },
            "type": "histogram"
           }
          ],
          "histogram2d": [
           {
            "colorbar": {
             "outlinewidth": 0,
             "ticks": ""
            },
            "colorscale": [
             [
              0,
              "#0d0887"
             ],
             [
              0.1111111111111111,
              "#46039f"
             ],
             [
              0.2222222222222222,
              "#7201a8"
             ],
             [
              0.3333333333333333,
              "#9c179e"
             ],
             [
              0.4444444444444444,
              "#bd3786"
             ],
             [
              0.5555555555555556,
              "#d8576b"
             ],
             [
              0.6666666666666666,
              "#ed7953"
             ],
             [
              0.7777777777777778,
              "#fb9f3a"
             ],
             [
              0.8888888888888888,
              "#fdca26"
             ],
             [
              1,
              "#f0f921"
             ]
            ],
            "type": "histogram2d"
           }
          ],
          "histogram2dcontour": [
           {
            "colorbar": {
             "outlinewidth": 0,
             "ticks": ""
            },
            "colorscale": [
             [
              0,
              "#0d0887"
             ],
             [
              0.1111111111111111,
              "#46039f"
             ],
             [
              0.2222222222222222,
              "#7201a8"
             ],
             [
              0.3333333333333333,
              "#9c179e"
             ],
             [
              0.4444444444444444,
              "#bd3786"
             ],
             [
              0.5555555555555556,
              "#d8576b"
             ],
             [
              0.6666666666666666,
              "#ed7953"
             ],
             [
              0.7777777777777778,
              "#fb9f3a"
             ],
             [
              0.8888888888888888,
              "#fdca26"
             ],
             [
              1,
              "#f0f921"
             ]
            ],
            "type": "histogram2dcontour"
           }
          ],
          "mesh3d": [
           {
            "colorbar": {
             "outlinewidth": 0,
             "ticks": ""
            },
            "type": "mesh3d"
           }
          ],
          "parcoords": [
           {
            "line": {
             "colorbar": {
              "outlinewidth": 0,
              "ticks": ""
             }
            },
            "type": "parcoords"
           }
          ],
          "pie": [
           {
            "automargin": true,
            "type": "pie"
           }
          ],
          "scatter": [
           {
            "fillpattern": {
             "fillmode": "overlay",
             "size": 10,
             "solidity": 0.2
            },
            "type": "scatter"
           }
          ],
          "scatter3d": [
           {
            "line": {
             "colorbar": {
              "outlinewidth": 0,
              "ticks": ""
             }
            },
            "marker": {
             "colorbar": {
              "outlinewidth": 0,
              "ticks": ""
             }
            },
            "type": "scatter3d"
           }
          ],
          "scattercarpet": [
           {
            "marker": {
             "colorbar": {
              "outlinewidth": 0,
              "ticks": ""
             }
            },
            "type": "scattercarpet"
           }
          ],
          "scattergeo": [
           {
            "marker": {
             "colorbar": {
              "outlinewidth": 0,
              "ticks": ""
             }
            },
            "type": "scattergeo"
           }
          ],
          "scattergl": [
           {
            "marker": {
             "colorbar": {
              "outlinewidth": 0,
              "ticks": ""
             }
            },
            "type": "scattergl"
           }
          ],
          "scattermapbox": [
           {
            "marker": {
             "colorbar": {
              "outlinewidth": 0,
              "ticks": ""
             }
            },
            "type": "scattermapbox"
           }
          ],
          "scatterpolar": [
           {
            "marker": {
             "colorbar": {
              "outlinewidth": 0,
              "ticks": ""
             }
            },
            "type": "scatterpolar"
           }
          ],
          "scatterpolargl": [
           {
            "marker": {
             "colorbar": {
              "outlinewidth": 0,
              "ticks": ""
             }
            },
            "type": "scatterpolargl"
           }
          ],
          "scatterternary": [
           {
            "marker": {
             "colorbar": {
              "outlinewidth": 0,
              "ticks": ""
             }
            },
            "type": "scatterternary"
           }
          ],
          "surface": [
           {
            "colorbar": {
             "outlinewidth": 0,
             "ticks": ""
            },
            "colorscale": [
             [
              0,
              "#0d0887"
             ],
             [
              0.1111111111111111,
              "#46039f"
             ],
             [
              0.2222222222222222,
              "#7201a8"
             ],
             [
              0.3333333333333333,
              "#9c179e"
             ],
             [
              0.4444444444444444,
              "#bd3786"
             ],
             [
              0.5555555555555556,
              "#d8576b"
             ],
             [
              0.6666666666666666,
              "#ed7953"
             ],
             [
              0.7777777777777778,
              "#fb9f3a"
             ],
             [
              0.8888888888888888,
              "#fdca26"
             ],
             [
              1,
              "#f0f921"
             ]
            ],
            "type": "surface"
           }
          ],
          "table": [
           {
            "cells": {
             "fill": {
              "color": "#EBF0F8"
             },
             "line": {
              "color": "white"
             }
            },
            "header": {
             "fill": {
              "color": "#C8D4E3"
             },
             "line": {
              "color": "white"
             }
            },
            "type": "table"
           }
          ]
         },
         "layout": {
          "annotationdefaults": {
           "arrowcolor": "#2a3f5f",
           "arrowhead": 0,
           "arrowwidth": 1
          },
          "autotypenumbers": "strict",
          "coloraxis": {
           "colorbar": {
            "outlinewidth": 0,
            "ticks": ""
           }
          },
          "colorscale": {
           "diverging": [
            [
             0,
             "#8e0152"
            ],
            [
             0.1,
             "#c51b7d"
            ],
            [
             0.2,
             "#de77ae"
            ],
            [
             0.3,
             "#f1b6da"
            ],
            [
             0.4,
             "#fde0ef"
            ],
            [
             0.5,
             "#f7f7f7"
            ],
            [
             0.6,
             "#e6f5d0"
            ],
            [
             0.7,
             "#b8e186"
            ],
            [
             0.8,
             "#7fbc41"
            ],
            [
             0.9,
             "#4d9221"
            ],
            [
             1,
             "#276419"
            ]
           ],
           "sequential": [
            [
             0,
             "#0d0887"
            ],
            [
             0.1111111111111111,
             "#46039f"
            ],
            [
             0.2222222222222222,
             "#7201a8"
            ],
            [
             0.3333333333333333,
             "#9c179e"
            ],
            [
             0.4444444444444444,
             "#bd3786"
            ],
            [
             0.5555555555555556,
             "#d8576b"
            ],
            [
             0.6666666666666666,
             "#ed7953"
            ],
            [
             0.7777777777777778,
             "#fb9f3a"
            ],
            [
             0.8888888888888888,
             "#fdca26"
            ],
            [
             1,
             "#f0f921"
            ]
           ],
           "sequentialminus": [
            [
             0,
             "#0d0887"
            ],
            [
             0.1111111111111111,
             "#46039f"
            ],
            [
             0.2222222222222222,
             "#7201a8"
            ],
            [
             0.3333333333333333,
             "#9c179e"
            ],
            [
             0.4444444444444444,
             "#bd3786"
            ],
            [
             0.5555555555555556,
             "#d8576b"
            ],
            [
             0.6666666666666666,
             "#ed7953"
            ],
            [
             0.7777777777777778,
             "#fb9f3a"
            ],
            [
             0.8888888888888888,
             "#fdca26"
            ],
            [
             1,
             "#f0f921"
            ]
           ]
          },
          "colorway": [
           "#636efa",
           "#EF553B",
           "#00cc96",
           "#ab63fa",
           "#FFA15A",
           "#19d3f3",
           "#FF6692",
           "#B6E880",
           "#FF97FF",
           "#FECB52"
          ],
          "font": {
           "color": "#2a3f5f"
          },
          "geo": {
           "bgcolor": "white",
           "lakecolor": "white",
           "landcolor": "#E5ECF6",
           "showlakes": true,
           "showland": true,
           "subunitcolor": "white"
          },
          "hoverlabel": {
           "align": "left"
          },
          "hovermode": "closest",
          "mapbox": {
           "style": "light"
          },
          "paper_bgcolor": "white",
          "plot_bgcolor": "#E5ECF6",
          "polar": {
           "angularaxis": {
            "gridcolor": "white",
            "linecolor": "white",
            "ticks": ""
           },
           "bgcolor": "#E5ECF6",
           "radialaxis": {
            "gridcolor": "white",
            "linecolor": "white",
            "ticks": ""
           }
          },
          "scene": {
           "xaxis": {
            "backgroundcolor": "#E5ECF6",
            "gridcolor": "white",
            "gridwidth": 2,
            "linecolor": "white",
            "showbackground": true,
            "ticks": "",
            "zerolinecolor": "white"
           },
           "yaxis": {
            "backgroundcolor": "#E5ECF6",
            "gridcolor": "white",
            "gridwidth": 2,
            "linecolor": "white",
            "showbackground": true,
            "ticks": "",
            "zerolinecolor": "white"
           },
           "zaxis": {
            "backgroundcolor": "#E5ECF6",
            "gridcolor": "white",
            "gridwidth": 2,
            "linecolor": "white",
            "showbackground": true,
            "ticks": "",
            "zerolinecolor": "white"
           }
          },
          "shapedefaults": {
           "line": {
            "color": "#2a3f5f"
           }
          },
          "ternary": {
           "aaxis": {
            "gridcolor": "white",
            "linecolor": "white",
            "ticks": ""
           },
           "baxis": {
            "gridcolor": "white",
            "linecolor": "white",
            "ticks": ""
           },
           "bgcolor": "#E5ECF6",
           "caxis": {
            "gridcolor": "white",
            "linecolor": "white",
            "ticks": ""
           }
          },
          "title": {
           "x": 0.05
          },
          "xaxis": {
           "automargin": true,
           "gridcolor": "white",
           "linecolor": "white",
           "ticks": "",
           "title": {
            "standoff": 15
           },
           "zerolinecolor": "white",
           "zerolinewidth": 2
          },
          "yaxis": {
           "automargin": true,
           "gridcolor": "white",
           "linecolor": "white",
           "ticks": "",
           "title": {
            "standoff": 15
           },
           "zerolinecolor": "white",
           "zerolinewidth": 2
          }
         }
        },
        "xaxis": {
         "anchor": "y",
         "domain": [
          0,
          1
         ],
         "title": {
          "text": "Group 1: Common assault"
         }
        },
        "yaxis": {
         "anchor": "x",
         "domain": [
          0,
          1
         ],
         "title": {
          "text": "Group 4: Vandalism"
         }
        }
       }
      }
     },
     "metadata": {},
     "output_type": "display_data"
    }
   ],
   "source": [
    "# Let's Common Assault vs Vandalism\n",
    "features.loc[:,\"Cluster\"] = pd.Categorical(features[\"Cluster\"], ordered=True)\n",
    "fig = px.scatter(features, x=\"Group 1: Common assault\", y=\"Group 4: Vandalism\", color=\"Cluster\", symbol=\"LAD\")\n",
    "fig.update_layout()\n",
    "fig.show()\n",
    "fig.write_html(\"assets/vandalism_vs_assault_clusters_2022-2023.html\", default_width=\"100%\", default_height=\"100%\")"
   ]
  },
  {
   "cell_type": "code",
   "execution_count": 131,
   "metadata": {},
   "outputs": [
    {
     "data": {
      "text/html": [
       "<div>\n",
       "<style scoped>\n",
       "    .dataframe tbody tr th:only-of-type {\n",
       "        vertical-align: middle;\n",
       "    }\n",
       "\n",
       "    .dataframe tbody tr th {\n",
       "        vertical-align: top;\n",
       "    }\n",
       "\n",
       "    .dataframe thead th {\n",
       "        text-align: right;\n",
       "    }\n",
       "</style>\n",
       "<table border=\"1\" class=\"dataframe\">\n",
       "  <thead>\n",
       "    <tr style=\"text-align: right;\">\n",
       "      <th>Crime</th>\n",
       "      <th>LAD</th>\n",
       "      <th>Coronavirus Restrictions</th>\n",
       "      <th>Group 1: Common assault</th>\n",
       "      <th>Group 1: Death by dangerous driving</th>\n",
       "      <th>Group 1: Domestic Abuse (Scotland) Act 2018</th>\n",
       "      <th>Group 1: Murder and culpable homicide</th>\n",
       "      <th>Group 1: Other non-sexual violence</th>\n",
       "      <th>Group 1: Robbery</th>\n",
       "      <th>Group 1: Serious assault and attempted murder</th>\n",
       "      <th>Group 2: Causing to view sexual activity or images</th>\n",
       "      <th>...</th>\n",
       "      <th>Group 3: Theft of a motor vehicle</th>\n",
       "      <th>Group 4: Fire-raising</th>\n",
       "      <th>Group 4: Reckless conduct</th>\n",
       "      <th>Group 4: Vandalism</th>\n",
       "      <th>Group 5: Drugs - Possession</th>\n",
       "      <th>Group 5: Drugs - Supply</th>\n",
       "      <th>Group 5: Other crimes against society</th>\n",
       "      <th>Group 5: Weapons possession (not used)</th>\n",
       "      <th>Group 5: Weapons possession (used)</th>\n",
       "      <th>Cluster</th>\n",
       "    </tr>\n",
       "  </thead>\n",
       "  <tbody>\n",
       "    <tr>\n",
       "      <th>5</th>\n",
       "      <td>Clackmannanshire</td>\n",
       "      <td>0</td>\n",
       "      <td>111</td>\n",
       "      <td>0</td>\n",
       "      <td>4</td>\n",
       "      <td>0</td>\n",
       "      <td>7</td>\n",
       "      <td>4</td>\n",
       "      <td>9</td>\n",
       "      <td>3</td>\n",
       "      <td>...</td>\n",
       "      <td>5</td>\n",
       "      <td>4</td>\n",
       "      <td>6</td>\n",
       "      <td>75</td>\n",
       "      <td>38</td>\n",
       "      <td>10</td>\n",
       "      <td>0</td>\n",
       "      <td>9</td>\n",
       "      <td>15</td>\n",
       "      <td>4</td>\n",
       "    </tr>\n",
       "    <tr>\n",
       "      <th>6</th>\n",
       "      <td>Dumfries and Galloway</td>\n",
       "      <td>0</td>\n",
       "      <td>102</td>\n",
       "      <td>0</td>\n",
       "      <td>4</td>\n",
       "      <td>0</td>\n",
       "      <td>10</td>\n",
       "      <td>1</td>\n",
       "      <td>4</td>\n",
       "      <td>4</td>\n",
       "      <td>...</td>\n",
       "      <td>5</td>\n",
       "      <td>5</td>\n",
       "      <td>5</td>\n",
       "      <td>76</td>\n",
       "      <td>67</td>\n",
       "      <td>10</td>\n",
       "      <td>0</td>\n",
       "      <td>8</td>\n",
       "      <td>6</td>\n",
       "      <td>4</td>\n",
       "    </tr>\n",
       "    <tr>\n",
       "      <th>8</th>\n",
       "      <td>East Ayrshire</td>\n",
       "      <td>0</td>\n",
       "      <td>109</td>\n",
       "      <td>0</td>\n",
       "      <td>3</td>\n",
       "      <td>0</td>\n",
       "      <td>6</td>\n",
       "      <td>3</td>\n",
       "      <td>5</td>\n",
       "      <td>3</td>\n",
       "      <td>...</td>\n",
       "      <td>6</td>\n",
       "      <td>5</td>\n",
       "      <td>7</td>\n",
       "      <td>77</td>\n",
       "      <td>43</td>\n",
       "      <td>9</td>\n",
       "      <td>1</td>\n",
       "      <td>10</td>\n",
       "      <td>7</td>\n",
       "      <td>4</td>\n",
       "    </tr>\n",
       "    <tr>\n",
       "      <th>10</th>\n",
       "      <td>East Lothian</td>\n",
       "      <td>0</td>\n",
       "      <td>91</td>\n",
       "      <td>0</td>\n",
       "      <td>2</td>\n",
       "      <td>0</td>\n",
       "      <td>6</td>\n",
       "      <td>1</td>\n",
       "      <td>4</td>\n",
       "      <td>2</td>\n",
       "      <td>...</td>\n",
       "      <td>9</td>\n",
       "      <td>4</td>\n",
       "      <td>5</td>\n",
       "      <td>63</td>\n",
       "      <td>31</td>\n",
       "      <td>5</td>\n",
       "      <td>0</td>\n",
       "      <td>5</td>\n",
       "      <td>3</td>\n",
       "      <td>4</td>\n",
       "    </tr>\n",
       "    <tr>\n",
       "      <th>12</th>\n",
       "      <td>Falkirk</td>\n",
       "      <td>0</td>\n",
       "      <td>103</td>\n",
       "      <td>0</td>\n",
       "      <td>3</td>\n",
       "      <td>0</td>\n",
       "      <td>8</td>\n",
       "      <td>3</td>\n",
       "      <td>4</td>\n",
       "      <td>3</td>\n",
       "      <td>...</td>\n",
       "      <td>8</td>\n",
       "      <td>4</td>\n",
       "      <td>7</td>\n",
       "      <td>78</td>\n",
       "      <td>28</td>\n",
       "      <td>7</td>\n",
       "      <td>1</td>\n",
       "      <td>7</td>\n",
       "      <td>12</td>\n",
       "      <td>4</td>\n",
       "    </tr>\n",
       "    <tr>\n",
       "      <th>16</th>\n",
       "      <td>Inverclyde</td>\n",
       "      <td>0</td>\n",
       "      <td>83</td>\n",
       "      <td>0</td>\n",
       "      <td>1</td>\n",
       "      <td>0</td>\n",
       "      <td>5</td>\n",
       "      <td>6</td>\n",
       "      <td>9</td>\n",
       "      <td>1</td>\n",
       "      <td>...</td>\n",
       "      <td>8</td>\n",
       "      <td>9</td>\n",
       "      <td>4</td>\n",
       "      <td>69</td>\n",
       "      <td>57</td>\n",
       "      <td>13</td>\n",
       "      <td>0</td>\n",
       "      <td>9</td>\n",
       "      <td>12</td>\n",
       "      <td>4</td>\n",
       "    </tr>\n",
       "    <tr>\n",
       "      <th>17</th>\n",
       "      <td>Midlothian</td>\n",
       "      <td>0</td>\n",
       "      <td>96</td>\n",
       "      <td>0</td>\n",
       "      <td>3</td>\n",
       "      <td>0</td>\n",
       "      <td>8</td>\n",
       "      <td>2</td>\n",
       "      <td>5</td>\n",
       "      <td>3</td>\n",
       "      <td>...</td>\n",
       "      <td>10</td>\n",
       "      <td>5</td>\n",
       "      <td>7</td>\n",
       "      <td>71</td>\n",
       "      <td>24</td>\n",
       "      <td>4</td>\n",
       "      <td>0</td>\n",
       "      <td>7</td>\n",
       "      <td>4</td>\n",
       "      <td>4</td>\n",
       "    </tr>\n",
       "    <tr>\n",
       "      <th>20</th>\n",
       "      <td>North Ayrshire</td>\n",
       "      <td>0</td>\n",
       "      <td>109</td>\n",
       "      <td>0</td>\n",
       "      <td>3</td>\n",
       "      <td>0</td>\n",
       "      <td>5</td>\n",
       "      <td>3</td>\n",
       "      <td>6</td>\n",
       "      <td>4</td>\n",
       "      <td>...</td>\n",
       "      <td>7</td>\n",
       "      <td>4</td>\n",
       "      <td>5</td>\n",
       "      <td>76</td>\n",
       "      <td>32</td>\n",
       "      <td>5</td>\n",
       "      <td>1</td>\n",
       "      <td>9</td>\n",
       "      <td>9</td>\n",
       "      <td>4</td>\n",
       "    </tr>\n",
       "    <tr>\n",
       "      <th>21</th>\n",
       "      <td>North Lanarkshire</td>\n",
       "      <td>0</td>\n",
       "      <td>102</td>\n",
       "      <td>0</td>\n",
       "      <td>2</td>\n",
       "      <td>0</td>\n",
       "      <td>6</td>\n",
       "      <td>2</td>\n",
       "      <td>6</td>\n",
       "      <td>3</td>\n",
       "      <td>...</td>\n",
       "      <td>11</td>\n",
       "      <td>7</td>\n",
       "      <td>7</td>\n",
       "      <td>80</td>\n",
       "      <td>58</td>\n",
       "      <td>6</td>\n",
       "      <td>0</td>\n",
       "      <td>10</td>\n",
       "      <td>14</td>\n",
       "      <td>4</td>\n",
       "    </tr>\n",
       "    <tr>\n",
       "      <th>24</th>\n",
       "      <td>Renfrewshire</td>\n",
       "      <td>0</td>\n",
       "      <td>91</td>\n",
       "      <td>0</td>\n",
       "      <td>2</td>\n",
       "      <td>0</td>\n",
       "      <td>5</td>\n",
       "      <td>3</td>\n",
       "      <td>7</td>\n",
       "      <td>3</td>\n",
       "      <td>...</td>\n",
       "      <td>8</td>\n",
       "      <td>6</td>\n",
       "      <td>5</td>\n",
       "      <td>64</td>\n",
       "      <td>46</td>\n",
       "      <td>8</td>\n",
       "      <td>0</td>\n",
       "      <td>7</td>\n",
       "      <td>10</td>\n",
       "      <td>4</td>\n",
       "    </tr>\n",
       "    <tr>\n",
       "      <th>27</th>\n",
       "      <td>South Ayrshire</td>\n",
       "      <td>0</td>\n",
       "      <td>102</td>\n",
       "      <td>0</td>\n",
       "      <td>3</td>\n",
       "      <td>0</td>\n",
       "      <td>5</td>\n",
       "      <td>2</td>\n",
       "      <td>5</td>\n",
       "      <td>4</td>\n",
       "      <td>...</td>\n",
       "      <td>6</td>\n",
       "      <td>1</td>\n",
       "      <td>3</td>\n",
       "      <td>66</td>\n",
       "      <td>35</td>\n",
       "      <td>4</td>\n",
       "      <td>0</td>\n",
       "      <td>6</td>\n",
       "      <td>7</td>\n",
       "      <td>4</td>\n",
       "    </tr>\n",
       "    <tr>\n",
       "      <th>28</th>\n",
       "      <td>South Lanarkshire</td>\n",
       "      <td>0</td>\n",
       "      <td>88</td>\n",
       "      <td>0</td>\n",
       "      <td>2</td>\n",
       "      <td>0</td>\n",
       "      <td>7</td>\n",
       "      <td>2</td>\n",
       "      <td>7</td>\n",
       "      <td>3</td>\n",
       "      <td>...</td>\n",
       "      <td>11</td>\n",
       "      <td>5</td>\n",
       "      <td>5</td>\n",
       "      <td>71</td>\n",
       "      <td>37</td>\n",
       "      <td>8</td>\n",
       "      <td>0</td>\n",
       "      <td>8</td>\n",
       "      <td>14</td>\n",
       "      <td>4</td>\n",
       "    </tr>\n",
       "    <tr>\n",
       "      <th>30</th>\n",
       "      <td>West Dunbartonshire</td>\n",
       "      <td>0</td>\n",
       "      <td>116</td>\n",
       "      <td>0</td>\n",
       "      <td>3</td>\n",
       "      <td>0</td>\n",
       "      <td>9</td>\n",
       "      <td>3</td>\n",
       "      <td>8</td>\n",
       "      <td>3</td>\n",
       "      <td>...</td>\n",
       "      <td>5</td>\n",
       "      <td>8</td>\n",
       "      <td>9</td>\n",
       "      <td>83</td>\n",
       "      <td>70</td>\n",
       "      <td>9</td>\n",
       "      <td>2</td>\n",
       "      <td>14</td>\n",
       "      <td>6</td>\n",
       "      <td>4</td>\n",
       "    </tr>\n",
       "    <tr>\n",
       "      <th>31</th>\n",
       "      <td>West Lothian</td>\n",
       "      <td>0</td>\n",
       "      <td>114</td>\n",
       "      <td>0</td>\n",
       "      <td>4</td>\n",
       "      <td>0</td>\n",
       "      <td>8</td>\n",
       "      <td>2</td>\n",
       "      <td>8</td>\n",
       "      <td>4</td>\n",
       "      <td>...</td>\n",
       "      <td>11</td>\n",
       "      <td>7</td>\n",
       "      <td>6</td>\n",
       "      <td>69</td>\n",
       "      <td>22</td>\n",
       "      <td>5</td>\n",
       "      <td>0</td>\n",
       "      <td>8</td>\n",
       "      <td>7</td>\n",
       "      <td>4</td>\n",
       "    </tr>\n",
       "  </tbody>\n",
       "</table>\n",
       "<p>14 rows × 33 columns</p>\n",
       "</div>"
      ],
      "text/plain": [
       "Crime                    LAD  Coronavirus Restrictions  \\\n",
       "5           Clackmannanshire                         0   \n",
       "6      Dumfries and Galloway                         0   \n",
       "8              East Ayrshire                         0   \n",
       "10              East Lothian                         0   \n",
       "12                   Falkirk                         0   \n",
       "16                Inverclyde                         0   \n",
       "17                Midlothian                         0   \n",
       "20            North Ayrshire                         0   \n",
       "21         North Lanarkshire                         0   \n",
       "24              Renfrewshire                         0   \n",
       "27            South Ayrshire                         0   \n",
       "28         South Lanarkshire                         0   \n",
       "30       West Dunbartonshire                         0   \n",
       "31              West Lothian                         0   \n",
       "\n",
       "Crime  Group 1: Common assault  Group 1: Death by dangerous driving  \\\n",
       "5                          111                                    0   \n",
       "6                          102                                    0   \n",
       "8                          109                                    0   \n",
       "10                          91                                    0   \n",
       "12                         103                                    0   \n",
       "16                          83                                    0   \n",
       "17                          96                                    0   \n",
       "20                         109                                    0   \n",
       "21                         102                                    0   \n",
       "24                          91                                    0   \n",
       "27                         102                                    0   \n",
       "28                          88                                    0   \n",
       "30                         116                                    0   \n",
       "31                         114                                    0   \n",
       "\n",
       "Crime  Group 1: Domestic Abuse (Scotland) Act 2018  \\\n",
       "5                                                4   \n",
       "6                                                4   \n",
       "8                                                3   \n",
       "10                                               2   \n",
       "12                                               3   \n",
       "16                                               1   \n",
       "17                                               3   \n",
       "20                                               3   \n",
       "21                                               2   \n",
       "24                                               2   \n",
       "27                                               3   \n",
       "28                                               2   \n",
       "30                                               3   \n",
       "31                                               4   \n",
       "\n",
       "Crime  Group 1: Murder and culpable homicide  \\\n",
       "5                                          0   \n",
       "6                                          0   \n",
       "8                                          0   \n",
       "10                                         0   \n",
       "12                                         0   \n",
       "16                                         0   \n",
       "17                                         0   \n",
       "20                                         0   \n",
       "21                                         0   \n",
       "24                                         0   \n",
       "27                                         0   \n",
       "28                                         0   \n",
       "30                                         0   \n",
       "31                                         0   \n",
       "\n",
       "Crime  Group 1: Other non-sexual violence  Group 1: Robbery  \\\n",
       "5                                       7                 4   \n",
       "6                                      10                 1   \n",
       "8                                       6                 3   \n",
       "10                                      6                 1   \n",
       "12                                      8                 3   \n",
       "16                                      5                 6   \n",
       "17                                      8                 2   \n",
       "20                                      5                 3   \n",
       "21                                      6                 2   \n",
       "24                                      5                 3   \n",
       "27                                      5                 2   \n",
       "28                                      7                 2   \n",
       "30                                      9                 3   \n",
       "31                                      8                 2   \n",
       "\n",
       "Crime  Group 1: Serious assault and attempted murder  \\\n",
       "5                                                  9   \n",
       "6                                                  4   \n",
       "8                                                  5   \n",
       "10                                                 4   \n",
       "12                                                 4   \n",
       "16                                                 9   \n",
       "17                                                 5   \n",
       "20                                                 6   \n",
       "21                                                 6   \n",
       "24                                                 7   \n",
       "27                                                 5   \n",
       "28                                                 7   \n",
       "30                                                 8   \n",
       "31                                                 8   \n",
       "\n",
       "Crime  Group 2: Causing to view sexual activity or images  ...  \\\n",
       "5                                                      3   ...   \n",
       "6                                                      4   ...   \n",
       "8                                                      3   ...   \n",
       "10                                                     2   ...   \n",
       "12                                                     3   ...   \n",
       "16                                                     1   ...   \n",
       "17                                                     3   ...   \n",
       "20                                                     4   ...   \n",
       "21                                                     3   ...   \n",
       "24                                                     3   ...   \n",
       "27                                                     4   ...   \n",
       "28                                                     3   ...   \n",
       "30                                                     3   ...   \n",
       "31                                                     4   ...   \n",
       "\n",
       "Crime  Group 3: Theft of a motor vehicle  Group 4: Fire-raising  \\\n",
       "5                                      5                      4   \n",
       "6                                      5                      5   \n",
       "8                                      6                      5   \n",
       "10                                     9                      4   \n",
       "12                                     8                      4   \n",
       "16                                     8                      9   \n",
       "17                                    10                      5   \n",
       "20                                     7                      4   \n",
       "21                                    11                      7   \n",
       "24                                     8                      6   \n",
       "27                                     6                      1   \n",
       "28                                    11                      5   \n",
       "30                                     5                      8   \n",
       "31                                    11                      7   \n",
       "\n",
       "Crime  Group 4: Reckless conduct  Group 4: Vandalism  \\\n",
       "5                              6                  75   \n",
       "6                              5                  76   \n",
       "8                              7                  77   \n",
       "10                             5                  63   \n",
       "12                             7                  78   \n",
       "16                             4                  69   \n",
       "17                             7                  71   \n",
       "20                             5                  76   \n",
       "21                             7                  80   \n",
       "24                             5                  64   \n",
       "27                             3                  66   \n",
       "28                             5                  71   \n",
       "30                             9                  83   \n",
       "31                             6                  69   \n",
       "\n",
       "Crime  Group 5: Drugs - Possession  Group 5: Drugs - Supply  \\\n",
       "5                               38                       10   \n",
       "6                               67                       10   \n",
       "8                               43                        9   \n",
       "10                              31                        5   \n",
       "12                              28                        7   \n",
       "16                              57                       13   \n",
       "17                              24                        4   \n",
       "20                              32                        5   \n",
       "21                              58                        6   \n",
       "24                              46                        8   \n",
       "27                              35                        4   \n",
       "28                              37                        8   \n",
       "30                              70                        9   \n",
       "31                              22                        5   \n",
       "\n",
       "Crime  Group 5: Other crimes against society  \\\n",
       "5                                          0   \n",
       "6                                          0   \n",
       "8                                          1   \n",
       "10                                         0   \n",
       "12                                         1   \n",
       "16                                         0   \n",
       "17                                         0   \n",
       "20                                         1   \n",
       "21                                         0   \n",
       "24                                         0   \n",
       "27                                         0   \n",
       "28                                         0   \n",
       "30                                         2   \n",
       "31                                         0   \n",
       "\n",
       "Crime  Group 5: Weapons possession (not used)  \\\n",
       "5                                           9   \n",
       "6                                           8   \n",
       "8                                          10   \n",
       "10                                          5   \n",
       "12                                          7   \n",
       "16                                          9   \n",
       "17                                          7   \n",
       "20                                          9   \n",
       "21                                         10   \n",
       "24                                          7   \n",
       "27                                          6   \n",
       "28                                          8   \n",
       "30                                         14   \n",
       "31                                          8   \n",
       "\n",
       "Crime  Group 5: Weapons possession (used)  Cluster  \n",
       "5                                      15        4  \n",
       "6                                       6        4  \n",
       "8                                       7        4  \n",
       "10                                      3        4  \n",
       "12                                     12        4  \n",
       "16                                     12        4  \n",
       "17                                      4        4  \n",
       "20                                      9        4  \n",
       "21                                     14        4  \n",
       "24                                     10        4  \n",
       "27                                      7        4  \n",
       "28                                     14        4  \n",
       "30                                      6        4  \n",
       "31                                      7        4  \n",
       "\n",
       "[14 rows x 33 columns]"
      ]
     },
     "execution_count": 131,
     "metadata": {},
     "output_type": "execute_result"
    }
   ],
   "source": [
    "features[features[\"Cluster\"]==4]"
   ]
  }
 ],
 "metadata": {
  "kernelspec": {
   "display_name": "base",
   "language": "python",
   "name": "python3"
  },
  "language_info": {
   "codemirror_mode": {
    "name": "ipython",
    "version": 3
   },
   "file_extension": ".py",
   "mimetype": "text/x-python",
   "name": "python",
   "nbconvert_exporter": "python",
   "pygments_lexer": "ipython3",
   "version": "3.11.5"
  }
 },
 "nbformat": 4,
 "nbformat_minor": 2
}
